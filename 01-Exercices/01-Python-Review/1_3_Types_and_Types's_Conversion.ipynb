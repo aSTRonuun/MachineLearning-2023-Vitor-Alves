{
  "cells": [
    {
      "cell_type": "markdown",
      "metadata": {
        "id": "u8WyN9BVhS7H"
      },
      "source": [
        "# 3 - Types and Type Conversion\n",
        "Numpy supports a much wider variety of types than Python does."
      ]
    },
    {
      "cell_type": "markdown",
      "metadata": {
        "id": "ck7j1gWshS7J"
      },
      "source": [
        "There are 5 basic numeric types\n",
        "- Booleans (bool)\n",
        "- Integers (int)\n",
        "- Unsigned Intergers (uint)\n",
        "- Floating Points (float)\n",
        "- Complex\n",
        "\n",
        "In addition, the cell below shows a comparative table with a larger number of Numpy types."
      ]
    },
    {
      "attachments": {},
      "cell_type": "markdown",
      "metadata": {
        "id": "VYCV4T8OhS7J"
      },
      "source": [
        "![datatypes.png](datatypes.png)"
      ]
    },
    {
      "cell_type": "markdown",
      "metadata": {
        "id": "eBzT2onErNeA"
      },
      "source": [
        "Library importation\n"
      ]
    },
    {
      "cell_type": "code",
      "execution_count": 1,
      "metadata": {
        "id": "36pVc6WMhS7K"
      },
      "outputs": [],
      "source": [
        "import numpy as np"
      ]
    },
    {
      "cell_type": "markdown",
      "metadata": {
        "id": "FlbMLt2mrQkg"
      },
      "source": [
        "Creates a var with type of float32"
      ]
    },
    {
      "cell_type": "code",
      "execution_count": 3,
      "metadata": {
        "colab": {
          "base_uri": "https://localhost:8080/"
        },
        "id": "3GC0yEuPhS7K",
        "outputId": "ab072c83-33a4-406d-d110-c5a9ca4d97da"
      },
      "outputs": [
        {
          "data": {
            "text/plain": [
              "1.0"
            ]
          },
          "execution_count": 3,
          "metadata": {},
          "output_type": "execute_result"
        }
      ],
      "source": [
        "x = np.float32(1.0)\n",
        "x"
      ]
    },
    {
      "cell_type": "markdown",
      "metadata": {
        "id": "7pOh_xWNrami"
      },
      "source": [
        "Creates a array with type of int"
      ]
    },
    {
      "cell_type": "code",
      "execution_count": 4,
      "metadata": {
        "colab": {
          "base_uri": "https://localhost:8080/"
        },
        "id": "CsboO8F5hS7L",
        "outputId": "83660790-e0ed-40dc-cdef-38ad62a9fa30"
      },
      "outputs": [
        {
          "data": {
            "text/plain": [
              "array([1, 2, 4])"
            ]
          },
          "execution_count": 4,
          "metadata": {},
          "output_type": "execute_result"
        }
      ],
      "source": [
        "y = np.int_([1,2,4])\n",
        "y"
      ]
    },
    {
      "cell_type": "markdown",
      "metadata": {
        "id": "fmjCAcf8re-3"
      },
      "source": [
        "The arange function creates a new array filled with a sequence values starting from 0 with type of uint8"
      ]
    },
    {
      "cell_type": "code",
      "execution_count": null,
      "metadata": {
        "id": "nACRsSFOhS7L",
        "outputId": "6db04566-0f7e-4aea-ba79-f3c6a90f6a43"
      },
      "outputs": [
        {
          "data": {
            "text/plain": [
              "array([0, 1, 2], dtype=uint8)"
            ]
          },
          "execution_count": 12,
          "metadata": {},
          "output_type": "execute_result"
        }
      ],
      "source": [
        "z = np.arange(3, dtype=np.uint8)\n",
        "z"
      ]
    },
    {
      "cell_type": "code",
      "execution_count": 7,
      "metadata": {
        "colab": {
          "base_uri": "https://localhost:8080/"
        },
        "id": "8i5e9VfphS7L",
        "outputId": "56a81524-694b-413b-e76e-7307f2f11ccc"
      },
      "outputs": [
        {
          "data": {
            "text/plain": [
              "array([1., 2., 3.], dtype=float32)"
            ]
          },
          "execution_count": 7,
          "metadata": {},
          "output_type": "execute_result"
        }
      ],
      "source": [
        "np.array([1, 2, 3], dtype='f')"
      ]
    },
    {
      "cell_type": "markdown",
      "metadata": {
        "id": "Ms7qlLdchS7L"
      },
      "source": [
        "## Converting type of array"
      ]
    },
    {
      "cell_type": "markdown",
      "metadata": {
        "id": "UPUotXzuhS7M"
      },
      "source": [
        "To convert Numpy array, just use the astype() method\n"
      ]
    },
    {
      "cell_type": "markdown",
      "metadata": {
        "id": "hgqhjx6Dskrz"
      },
      "source": [
        "Astype() function convert values to the given parameter determined type"
      ]
    },
    {
      "cell_type": "code",
      "execution_count": null,
      "metadata": {
        "id": "eQzwBZYFhS7M",
        "outputId": "3624897f-bded-4fa6-9282-771906d88ddb"
      },
      "outputs": [
        {
          "data": {
            "text/plain": [
              "array([0., 1., 2.])"
            ]
          },
          "execution_count": 20,
          "metadata": {},
          "output_type": "execute_result"
        }
      ],
      "source": [
        "z.astype(float)"
      ]
    },
    {
      "cell_type": "code",
      "execution_count": null,
      "metadata": {
        "id": "Ky7oDY0shS7M",
        "outputId": "2a86bb66-b4ba-4e62-8876-efdf9093bce3"
      },
      "outputs": [
        {
          "data": {
            "text/plain": [
              "array([0, 1, 2], dtype=int8)"
            ]
          },
          "execution_count": 18,
          "metadata": {},
          "output_type": "execute_result"
        }
      ],
      "source": [
        "np.int8(z)"
      ]
    },
    {
      "cell_type": "markdown",
      "metadata": {
        "id": "V5pr-Cx0hS7M"
      },
      "source": [
        "To check the type of Numpy array, just check its dtype attibute"
      ]
    },
    {
      "cell_type": "code",
      "execution_count": null,
      "metadata": {
        "id": "zE3Aq_SdhS7N",
        "outputId": "ff4d85f2-5d6e-4257-f1f4-67b79d59fcd3"
      },
      "outputs": [
        {
          "data": {
            "text/plain": [
              "dtype('uint8')"
            ]
          },
          "execution_count": 21,
          "metadata": {},
          "output_type": "execute_result"
        }
      ],
      "source": [
        "z.dtype"
      ]
    }
  ],
  "metadata": {
    "colab": {
      "provenance": []
    },
    "kernelspec": {
      "display_name": "Python 3",
      "language": "python",
      "name": "python3"
    },
    "language_info": {
      "codemirror_mode": {
        "name": "ipython",
        "version": 3
      },
      "file_extension": ".py",
      "mimetype": "text/x-python",
      "name": "python",
      "nbconvert_exporter": "python",
      "pygments_lexer": "ipython3",
      "version": "3.6.8"
    }
  },
  "nbformat": 4,
  "nbformat_minor": 0
}
