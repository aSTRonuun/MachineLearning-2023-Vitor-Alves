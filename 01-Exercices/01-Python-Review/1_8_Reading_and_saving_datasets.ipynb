{
  "cells": [
    {
      "cell_type": "markdown",
      "metadata": {
        "id": "cHv8Qoiu6uZ2"
      },
      "source": [
        "# 8 - Reading and saving datasets"
      ]
    },
    {
      "cell_type": "markdown",
      "metadata": {
        "id": "6JdvqcUM6uZ4"
      },
      "source": [
        "## Reading plain text files"
      ]
    },
    {
      "cell_type": "markdown",
      "source": [
        "Read the file with read mode and print the data"
      ],
      "metadata": {
        "id": "BqM3gjpQ7Uoh"
      }
    },
    {
      "cell_type": "code",
      "execution_count": null,
      "metadata": {
        "id": "mUmotzws6uZ4"
      },
      "outputs": [],
      "source": [
        "filename = 'huck_finn.txt'\n",
        "\n",
        "file = open(filename, mode='r')\n",
        "text = file.read()\n",
        "\n",
        "file.close()"
      ]
    },
    {
      "cell_type": "code",
      "execution_count": null,
      "metadata": {
        "id": "m48DSPO46uZ5",
        "outputId": "fded2c0c-c848-4528-b70d-70d677082265"
      },
      "outputs": [
        {
          "name": "stdout",
          "output_type": "stream",
          "text": [
            "YOU don't know about me without you have read a book by the name of The Adventures of Tom Sawyer; but that ain't no matter. That book was made by Mr. Mark Twain, and he told the truth, mainly. There was things which he stretched, but mainly he told the truth. That is nothing. I never seen anybody but lied one time or another, without it was Aunt Polly, or the widow, or maybe Mary. Aunt Polly--Tom's Aunt Polly, she is--and Mary, and the Widow Douglas is all told about in that book, which is mostly a true book, with some stretchers, as I said before.\n"
          ]
        }
      ],
      "source": [
        "print(text)"
      ]
    },
    {
      "cell_type": "markdown",
      "metadata": {
        "id": "CoXU-sH86uZ6"
      },
      "source": [
        "## Creating a context for reading files"
      ]
    },
    {
      "cell_type": "code",
      "execution_count": null,
      "metadata": {
        "id": "ReRxHbDl6uZ7",
        "outputId": "8063e150-090e-4a3c-f18a-36e7431dad7a"
      },
      "outputs": [
        {
          "name": "stdout",
          "output_type": "stream",
          "text": [
            "YOU don't know about me without you have read a book by the name of The Adventures of Tom Sawyer; but that ain't no matter. That book was made by Mr. Mark Twain, and he told the truth, mainly. There was things which he stretched, but mainly he told the truth. That is nothing. I never seen anybody but lied one time or another, without it was Aunt Polly, or the widow, or maybe Mary. Aunt Polly--Tom's Aunt Polly, she is--and Mary, and the Widow Douglas is all told about in that book, which is mostly a true book, with some stretchers, as I said before.\n",
            "<_io.TextIOWrapper name='huck_finn.txt' mode='r' encoding='UTF-8'>\n"
          ]
        }
      ],
      "source": [
        "with open('huck_finn.txt', 'r') as file:\n",
        "    print(file.read())"
      ]
    },
    {
      "cell_type": "markdown",
      "metadata": {
        "id": "yHkGJrqk6uZ7"
      },
      "source": [
        "## Importing data with numpy"
      ]
    },
    {
      "cell_type": "markdown",
      "source": [
        "Importing the library and load the file and print the data"
      ],
      "metadata": {
        "id": "EU4LDVzn74XI"
      }
    },
    {
      "cell_type": "code",
      "execution_count": null,
      "metadata": {
        "id": "Sjk1HcKg6uZ7",
        "outputId": "c475bac5-5fd3-4a7c-aa0c-25a2eb8486b1"
      },
      "outputs": [
        {
          "data": {
            "text/plain": [
              "array([[1., 0., 0., ..., 0., 0., 0.],\n",
              "       [0., 0., 0., ..., 0., 0., 0.],\n",
              "       [1., 0., 0., ..., 0., 0., 0.],\n",
              "       ...,\n",
              "       [2., 0., 0., ..., 0., 0., 0.],\n",
              "       [0., 0., 0., ..., 0., 0., 0.],\n",
              "       [5., 0., 0., ..., 0., 0., 0.]])"
            ]
          },
          "execution_count": 18,
          "metadata": {},
          "output_type": "execute_result"
        }
      ],
      "source": [
        "import numpy as np\n",
        "\n",
        "filename = 'MNIST.txt'\n",
        "\n",
        "data = np.loadtxt(filename, delimiter=',')\n",
        "data"
      ]
    },
    {
      "cell_type": "code",
      "execution_count": null,
      "metadata": {
        "id": "zgTgUaNP6uZ8"
      },
      "outputs": [],
      "source": [
        "data = np.loadtxt(filename, delimiter=',', skiprows=1)"
      ]
    },
    {
      "cell_type": "code",
      "execution_count": null,
      "metadata": {
        "id": "zylVJPrw6uZ8",
        "outputId": "202bfef7-bb14-4a75-c66f-f54abee4c6f5"
      },
      "outputs": [
        {
          "name": "stdout",
          "output_type": "stream",
          "text": [
            "[[0. 0. 0. ... 0. 0. 0.]\n",
            " [1. 0. 0. ... 0. 0. 0.]\n",
            " [4. 0. 0. ... 0. 0. 0.]\n",
            " ...\n",
            " [2. 0. 0. ... 0. 0. 0.]\n",
            " [0. 0. 0. ... 0. 0. 0.]\n",
            " [5. 0. 0. ... 0. 0. 0.]]\n"
          ]
        }
      ],
      "source": [
        "print(data)"
      ]
    },
    {
      "cell_type": "code",
      "execution_count": null,
      "metadata": {
        "id": "8WwseEnZ6uZ8",
        "outputId": "56dc5e4a-cf1d-43ed-8895-355c67a2c76a"
      },
      "outputs": [
        {
          "data": {
            "text/plain": [
              "array([[0., 0.],\n",
              "       [1., 0.],\n",
              "       [4., 0.],\n",
              "       [0., 0.],\n",
              "       [0., 0.],\n",
              "       [7., 0.],\n",
              "       [3., 0.],\n",
              "       [5., 0.],\n",
              "       [3., 0.],\n",
              "       [8., 0.],\n",
              "       [9., 0.],\n",
              "       [1., 0.],\n",
              "       [3., 0.],\n",
              "       [3., 0.],\n",
              "       [1., 0.],\n",
              "       [2., 0.],\n",
              "       [0., 0.],\n",
              "       [7., 0.],\n",
              "       [5., 0.],\n",
              "       [8., 0.],\n",
              "       [6., 0.],\n",
              "       [2., 0.],\n",
              "       [0., 0.],\n",
              "       [2., 0.],\n",
              "       [3., 0.],\n",
              "       [6., 0.],\n",
              "       [9., 0.],\n",
              "       [9., 0.],\n",
              "       [7., 0.],\n",
              "       [8., 0.],\n",
              "       [9., 0.],\n",
              "       [4., 0.],\n",
              "       [9., 0.],\n",
              "       [2., 0.],\n",
              "       [1., 0.],\n",
              "       [3., 0.],\n",
              "       [1., 0.],\n",
              "       [1., 0.],\n",
              "       [4., 0.],\n",
              "       [9., 0.],\n",
              "       [1., 0.],\n",
              "       [4., 0.],\n",
              "       [4., 0.],\n",
              "       [2., 0.],\n",
              "       [6., 0.],\n",
              "       [3., 0.],\n",
              "       [7., 0.],\n",
              "       [7., 0.],\n",
              "       [4., 0.],\n",
              "       [7., 0.],\n",
              "       [5., 0.],\n",
              "       [1., 0.],\n",
              "       [9., 0.],\n",
              "       [0., 0.],\n",
              "       [2., 0.],\n",
              "       [2., 0.],\n",
              "       [3., 0.],\n",
              "       [9., 0.],\n",
              "       [1., 0.],\n",
              "       [1., 0.],\n",
              "       [1., 0.],\n",
              "       [5., 0.],\n",
              "       [0., 0.],\n",
              "       [6., 0.],\n",
              "       [3., 0.],\n",
              "       [4., 0.],\n",
              "       [8., 0.],\n",
              "       [1., 0.],\n",
              "       [0., 0.],\n",
              "       [3., 0.],\n",
              "       [9., 0.],\n",
              "       [6., 0.],\n",
              "       [2., 0.],\n",
              "       [6., 0.],\n",
              "       [4., 0.],\n",
              "       [7., 0.],\n",
              "       [1., 0.],\n",
              "       [4., 0.],\n",
              "       [1., 0.],\n",
              "       [5., 0.],\n",
              "       [4., 0.],\n",
              "       [8., 0.],\n",
              "       [9., 0.],\n",
              "       [2., 0.],\n",
              "       [9., 0.],\n",
              "       [9., 0.],\n",
              "       [8., 0.],\n",
              "       [9., 0.],\n",
              "       [6., 0.],\n",
              "       [3., 0.],\n",
              "       [6., 0.],\n",
              "       [4., 0.],\n",
              "       [6., 0.],\n",
              "       [2., 0.],\n",
              "       [9., 0.],\n",
              "       [1., 0.],\n",
              "       [2., 0.],\n",
              "       [0., 0.],\n",
              "       [5., 0.]])"
            ]
          },
          "execution_count": 28,
          "metadata": {},
          "output_type": "execute_result"
        }
      ],
      "source": [
        "data = np.loadtxt(filename, delimiter=',', skiprows=1, usecols=[0,2])\n",
        "data"
      ]
    },
    {
      "cell_type": "markdown",
      "source": [
        "Loading the file and convert the lines values into a string with dtype=str parameter in the Np.Loadtxt function"
      ],
      "metadata": {
        "id": "QBSPlfCM8azN"
      }
    },
    {
      "cell_type": "code",
      "execution_count": null,
      "metadata": {
        "id": "A0Ylq9zZ6uZ9",
        "outputId": "f0a201cd-2869-4962-815d-4455e25da495"
      },
      "outputs": [
        {
          "name": "stdout",
          "output_type": "stream",
          "text": [
            "[['1.0' '0.0' '0.0' ... '0.0' '0.0' '0.0']\n",
            " ['0.0' '0.0' '0.0' ... '0.0' '0.0' '0.0']\n",
            " ['1.0' '0.0' '0.0' ... '0.0' '0.0' '0.0']\n",
            " ...\n",
            " ['2.0' '0.0' '0.0' ... '0.0' '0.0' '0.0']\n",
            " ['0.0' '0.0' '0.0' ... '0.0' '0.0' '0.0']\n",
            " ['5.0' '0.0' '0.0' ... '0.0' '0.0' '0.0']]\n"
          ]
        }
      ],
      "source": [
        "data = np.loadtxt(filename, delimiter=',', dtype=str)\n",
        "print(data)"
      ]
    },
    {
      "cell_type": "markdown",
      "metadata": {
        "id": "xFXcftge6uZ9"
      },
      "source": [
        "## Importing the files using the Pandas library"
      ]
    },
    {
      "cell_type": "markdown",
      "metadata": {
        "id": "daQMrEzz6uZ9"
      },
      "source": [
        "In general, a data scientist needs to deal with\n",
        "- Two-dimensional data structures, labeled,\n",
        "- Columns with potentially different types,\n",
        "- Munipulation, slicing, reforming, grouping, joining,\n",
        "- Perfom statistics,\n",
        "- Working with times series data,\n",
        "- ..."
      ]
    },
    {
      "cell_type": "markdown",
      "source": [
        "Importing the library and load the file using the read_csv functiona and print the table using a head function to better the visualization"
      ],
      "metadata": {
        "id": "RK6fjMh59qHo"
      }
    },
    {
      "cell_type": "code",
      "execution_count": null,
      "metadata": {
        "id": "b8_MOHB06uZ-",
        "outputId": "5fcb953b-21e8-43a2-d4d4-f57fc5b14be1"
      },
      "outputs": [
        {
          "data": {
            "text/html": [
              "<div>\n",
              "<style scoped>\n",
              "    .dataframe tbody tr th:only-of-type {\n",
              "        vertical-align: middle;\n",
              "    }\n",
              "\n",
              "    .dataframe tbody tr th {\n",
              "        vertical-align: top;\n",
              "    }\n",
              "\n",
              "    .dataframe thead th {\n",
              "        text-align: right;\n",
              "    }\n",
              "</style>\n",
              "<table border=\"1\" class=\"dataframe\">\n",
              "  <thead>\n",
              "    <tr style=\"text-align: right;\">\n",
              "      <th></th>\n",
              "      <th>fixed acidity</th>\n",
              "      <th>volatile acidity</th>\n",
              "      <th>citric acid</th>\n",
              "      <th>residual sugar</th>\n",
              "      <th>chlorides</th>\n",
              "      <th>free sulfur dioxide</th>\n",
              "      <th>total sulfur dioxide</th>\n",
              "      <th>density</th>\n",
              "      <th>pH</th>\n",
              "      <th>sulphates</th>\n",
              "      <th>alcohol</th>\n",
              "      <th>quality</th>\n",
              "    </tr>\n",
              "  </thead>\n",
              "  <tbody>\n",
              "    <tr>\n",
              "      <th>0</th>\n",
              "      <td>7.4</td>\n",
              "      <td>0.70</td>\n",
              "      <td>0.00</td>\n",
              "      <td>1.9</td>\n",
              "      <td>0.076</td>\n",
              "      <td>11.0</td>\n",
              "      <td>34.0</td>\n",
              "      <td>0.9978</td>\n",
              "      <td>3.51</td>\n",
              "      <td>0.56</td>\n",
              "      <td>9.4</td>\n",
              "      <td>5</td>\n",
              "    </tr>\n",
              "    <tr>\n",
              "      <th>1</th>\n",
              "      <td>7.8</td>\n",
              "      <td>0.88</td>\n",
              "      <td>0.00</td>\n",
              "      <td>2.6</td>\n",
              "      <td>0.098</td>\n",
              "      <td>25.0</td>\n",
              "      <td>67.0</td>\n",
              "      <td>0.9968</td>\n",
              "      <td>3.20</td>\n",
              "      <td>0.68</td>\n",
              "      <td>9.8</td>\n",
              "      <td>5</td>\n",
              "    </tr>\n",
              "    <tr>\n",
              "      <th>2</th>\n",
              "      <td>7.8</td>\n",
              "      <td>0.76</td>\n",
              "      <td>0.04</td>\n",
              "      <td>2.3</td>\n",
              "      <td>0.092</td>\n",
              "      <td>15.0</td>\n",
              "      <td>54.0</td>\n",
              "      <td>0.9970</td>\n",
              "      <td>3.26</td>\n",
              "      <td>0.65</td>\n",
              "      <td>9.8</td>\n",
              "      <td>5</td>\n",
              "    </tr>\n",
              "    <tr>\n",
              "      <th>3</th>\n",
              "      <td>11.2</td>\n",
              "      <td>0.28</td>\n",
              "      <td>0.56</td>\n",
              "      <td>1.9</td>\n",
              "      <td>0.075</td>\n",
              "      <td>17.0</td>\n",
              "      <td>60.0</td>\n",
              "      <td>0.9980</td>\n",
              "      <td>3.16</td>\n",
              "      <td>0.58</td>\n",
              "      <td>9.8</td>\n",
              "      <td>6</td>\n",
              "    </tr>\n",
              "    <tr>\n",
              "      <th>4</th>\n",
              "      <td>7.4</td>\n",
              "      <td>0.70</td>\n",
              "      <td>0.00</td>\n",
              "      <td>1.9</td>\n",
              "      <td>0.076</td>\n",
              "      <td>11.0</td>\n",
              "      <td>34.0</td>\n",
              "      <td>0.9978</td>\n",
              "      <td>3.51</td>\n",
              "      <td>0.56</td>\n",
              "      <td>9.4</td>\n",
              "      <td>5</td>\n",
              "    </tr>\n",
              "  </tbody>\n",
              "</table>\n",
              "</div>"
            ],
            "text/plain": [
              "   fixed acidity  volatile acidity  citric acid  residual sugar  chlorides  \\\n",
              "0            7.4              0.70         0.00             1.9      0.076   \n",
              "1            7.8              0.88         0.00             2.6      0.098   \n",
              "2            7.8              0.76         0.04             2.3      0.092   \n",
              "3           11.2              0.28         0.56             1.9      0.075   \n",
              "4            7.4              0.70         0.00             1.9      0.076   \n",
              "\n",
              "   free sulfur dioxide  total sulfur dioxide  density    pH  sulphates  \\\n",
              "0                 11.0                  34.0   0.9978  3.51       0.56   \n",
              "1                 25.0                  67.0   0.9968  3.20       0.68   \n",
              "2                 15.0                  54.0   0.9970  3.26       0.65   \n",
              "3                 17.0                  60.0   0.9980  3.16       0.58   \n",
              "4                 11.0                  34.0   0.9978  3.51       0.56   \n",
              "\n",
              "   alcohol  quality  \n",
              "0      9.4        5  \n",
              "1      9.8        5  \n",
              "2      9.8        5  \n",
              "3      9.8        6  \n",
              "4      9.4        5  "
            ]
          },
          "execution_count": 30,
          "metadata": {},
          "output_type": "execute_result"
        }
      ],
      "source": [
        "import pandas as pd\n",
        "\n",
        "filename = 'winequality-red.csv'\n",
        "\n",
        "data = pd.read_csv(filename)\n",
        "\n",
        "data.head()"
      ]
    },
    {
      "cell_type": "markdown",
      "source": [
        "Creating a simple array extracting only values of dataset and print the array"
      ],
      "metadata": {
        "id": "AVMLLbS0-GgN"
      }
    },
    {
      "cell_type": "code",
      "execution_count": null,
      "metadata": {
        "id": "fYoCxl1q6uZ-",
        "outputId": "637f8da9-bac0-486f-e5c6-acd542ea4dd5"
      },
      "outputs": [
        {
          "data": {
            "text/plain": [
              "array([[ 7.4  ,  0.7  ,  0.   , ...,  0.56 ,  9.4  ,  5.   ],\n",
              "       [ 7.8  ,  0.88 ,  0.   , ...,  0.68 ,  9.8  ,  5.   ],\n",
              "       [ 7.8  ,  0.76 ,  0.04 , ...,  0.65 ,  9.8  ,  5.   ],\n",
              "       ...,\n",
              "       [ 6.3  ,  0.51 ,  0.13 , ...,  0.75 , 11.   ,  6.   ],\n",
              "       [ 5.9  ,  0.645,  0.12 , ...,  0.71 , 10.2  ,  5.   ],\n",
              "       [ 6.   ,  0.31 ,  0.47 , ...,  0.66 , 11.   ,  6.   ]])"
            ]
          },
          "execution_count": 33,
          "metadata": {},
          "output_type": "execute_result"
        }
      ],
      "source": [
        "data_array = data.values\n",
        "data_array"
      ]
    }
  ],
  "metadata": {
    "kernelspec": {
      "display_name": "Python 3",
      "language": "python",
      "name": "python3"
    },
    "language_info": {
      "codemirror_mode": {
        "name": "ipython",
        "version": 3
      },
      "file_extension": ".py",
      "mimetype": "text/x-python",
      "name": "python",
      "nbconvert_exporter": "python",
      "pygments_lexer": "ipython3",
      "version": "3.6.8"
    },
    "colab": {
      "provenance": []
    }
  },
  "nbformat": 4,
  "nbformat_minor": 0
}