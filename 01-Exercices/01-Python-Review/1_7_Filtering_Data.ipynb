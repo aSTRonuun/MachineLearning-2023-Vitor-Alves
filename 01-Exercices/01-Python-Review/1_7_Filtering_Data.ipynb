{
  "cells": [
    {
      "cell_type": "markdown",
      "metadata": {
        "id": "hk8bPR-MYDUC"
      },
      "source": [
        "# 7 - Data filtering\n",
        "Data filtering is a very important task in the life of any data scientist. In this section, we'll see how to create filters on a dataset using Pandas."
      ]
    },
    {
      "cell_type": "markdown",
      "metadata": {
        "id": "wnxwBJpaYDUH"
      },
      "source": [
        "## Booleans Operators"
      ]
    },
    {
      "cell_type": "markdown",
      "source": [],
      "metadata": {
        "id": "P-8GXeLFYqL8"
      }
    },
    {
      "cell_type": "markdown",
      "metadata": {
        "id": "RuJOhEuNYDUI"
      },
      "source": [
        "### and"
      ]
    },
    {
      "cell_type": "markdown",
      "source": [
        "And Operator"
      ],
      "metadata": {
        "id": "c_ZRLJetYt9H"
      }
    },
    {
      "cell_type": "code",
      "execution_count": null,
      "metadata": {
        "id": "lqEJw4-UYDUJ"
      },
      "outputs": [],
      "source": [
        "x = 12"
      ]
    },
    {
      "cell_type": "code",
      "execution_count": null,
      "metadata": {
        "id": "rqFLcxeIYDUM",
        "outputId": "e9af3c41-3caf-4339-cfbd-fc13daf6303f"
      },
      "outputs": [
        {
          "data": {
            "text/plain": [
              "True"
            ]
          },
          "execution_count": 44,
          "metadata": {},
          "output_type": "execute_result"
        }
      ],
      "source": [
        "x > 5 and x < 15"
      ]
    },
    {
      "cell_type": "markdown",
      "source": [
        "Or Operator"
      ],
      "metadata": {
        "id": "IWavc5spYv20"
      }
    },
    {
      "cell_type": "markdown",
      "metadata": {
        "id": "yi2oAZgBYDUO"
      },
      "source": [
        "### or"
      ]
    },
    {
      "cell_type": "code",
      "execution_count": null,
      "metadata": {
        "id": "ueFgVjy9YDUP"
      },
      "outputs": [],
      "source": [
        "y = 5"
      ]
    },
    {
      "cell_type": "code",
      "execution_count": null,
      "metadata": {
        "id": "K0q5ZWvIYDUQ",
        "outputId": "a82b1d7c-2dda-4e0d-d193-7027a90e6c55"
      },
      "outputs": [
        {
          "data": {
            "text/plain": [
              "True"
            ]
          },
          "execution_count": 46,
          "metadata": {},
          "output_type": "execute_result"
        }
      ],
      "source": [
        "y < 7 or y > 13"
      ]
    },
    {
      "cell_type": "markdown",
      "source": [
        "Not Operator"
      ],
      "metadata": {
        "id": "_NJY3KWiYxxv"
      }
    },
    {
      "cell_type": "markdown",
      "metadata": {
        "id": "hljCdi3oYDUR"
      },
      "source": [
        "### not"
      ]
    },
    {
      "cell_type": "code",
      "execution_count": null,
      "metadata": {
        "id": "P2NzGq6cYDUS",
        "outputId": "8ff7eee4-5076-4f08-dafd-afe48ff1e0b8"
      },
      "outputs": [
        {
          "data": {
            "text/plain": [
              "False"
            ]
          },
          "execution_count": 47,
          "metadata": {},
          "output_type": "execute_result"
        }
      ],
      "source": [
        "not True"
      ]
    },
    {
      "cell_type": "code",
      "execution_count": null,
      "metadata": {
        "id": "haDPZ3mfYDUT",
        "outputId": "c71b462e-6c5b-433b-e239-5eb04682b433"
      },
      "outputs": [
        {
          "data": {
            "text/plain": [
              "True"
            ]
          },
          "execution_count": 48,
          "metadata": {},
          "output_type": "execute_result"
        }
      ],
      "source": [
        "not False"
      ]
    },
    {
      "cell_type": "markdown",
      "metadata": {
        "id": "vq4PD7i_YDUU"
      },
      "source": [
        "### Numpy"
      ]
    },
    {
      "cell_type": "code",
      "execution_count": null,
      "metadata": {
        "id": "B9Pu8NiYYDUU",
        "outputId": "8fd17d4d-28f6-432a-a50e-ce28ee7c713a",
        "colab": {
          "base_uri": "https://localhost:8080/"
        }
      },
      "outputs": [
        {
          "output_type": "execute_result",
          "data": {
            "text/plain": [
              "array([21.85171573, 20.97505669, 21.75028214, 24.7473475 , 21.44127836])"
            ]
          },
          "metadata": {},
          "execution_count": 1
        }
      ],
      "source": [
        "import numpy as np\n",
        "\n",
        "np_height = np.array([1.73, 1.68, 1.71, 1.89, 1.79])\n",
        "np_weight = np.array([65.4, 59.2, 63.6, 88.4, 68.7])\n",
        "bmi = np_weight / np_height ** 2\n",
        "\n",
        "bmi"
      ]
    },
    {
      "cell_type": "markdown",
      "source": [
        "É possível retornar uma comparação de array usando um operador"
      ],
      "metadata": {
        "id": "e0ryOw2EZKSB"
      }
    },
    {
      "cell_type": "code",
      "execution_count": null,
      "metadata": {
        "id": "XJNDxgazYDUV",
        "outputId": "58ccb964-8944-4b3d-c25a-b45a4fedd96a",
        "colab": {
          "base_uri": "https://localhost:8080/"
        }
      },
      "outputs": [
        {
          "output_type": "execute_result",
          "data": {
            "text/plain": [
              "array([ True, False,  True,  True,  True])"
            ]
          },
          "metadata": {},
          "execution_count": 2
        }
      ],
      "source": [
        "bmi > 21"
      ]
    },
    {
      "cell_type": "markdown",
      "source": [
        "Ambiguos expression is not valid"
      ],
      "metadata": {
        "id": "6hpcHsULZcyX"
      }
    },
    {
      "cell_type": "code",
      "execution_count": null,
      "metadata": {
        "id": "WU_oHxUMYDUW",
        "outputId": "c5e27e6b-9bc9-423a-9c31-63639d448386",
        "colab": {
          "base_uri": "https://localhost:8080/",
          "height": 165
        }
      },
      "outputs": [
        {
          "output_type": "error",
          "ename": "ValueError",
          "evalue": "ignored",
          "traceback": [
            "\u001b[0;31m---------------------------------------------------------------------------\u001b[0m",
            "\u001b[0;31mValueError\u001b[0m                                Traceback (most recent call last)",
            "\u001b[0;32m<ipython-input-3-435b0705294e>\u001b[0m in \u001b[0;36m<module>\u001b[0;34m\u001b[0m\n\u001b[0;32m----> 1\u001b[0;31m \u001b[0mbmi\u001b[0m \u001b[0;34m>\u001b[0m \u001b[0;36m21\u001b[0m \u001b[0;32mand\u001b[0m \u001b[0mbmi\u001b[0m \u001b[0;34m<\u001b[0m \u001b[0;36m22\u001b[0m\u001b[0;34m\u001b[0m\u001b[0;34m\u001b[0m\u001b[0m\n\u001b[0m",
            "\u001b[0;31mValueError\u001b[0m: The truth value of an array with more than one element is ambiguous. Use a.any() or a.all()"
          ]
        }
      ],
      "source": [
        "bmi > 21 and bmi < 22"
      ]
    },
    {
      "cell_type": "markdown",
      "source": [
        "Is is possible has a ambiguo expression in logical_and fucntion of pandas library"
      ],
      "metadata": {
        "id": "ZJ32Y_leZu2T"
      }
    },
    {
      "cell_type": "code",
      "execution_count": null,
      "metadata": {
        "id": "KCc03YxXYDUW",
        "outputId": "dddbc9d4-b070-4ec2-e084-a8980d8dd5a1"
      },
      "outputs": [
        {
          "data": {
            "text/plain": [
              "array([ True, False,  True, False,  True])"
            ]
          },
          "execution_count": 52,
          "metadata": {},
          "output_type": "execute_result"
        }
      ],
      "source": [
        "np.logical_and(bmi > 21, bmi < 22)"
      ]
    },
    {
      "cell_type": "markdown",
      "source": [
        "It is possible to filter data through a specific expression"
      ],
      "metadata": {
        "id": "RTYTqLOKaCCw"
      }
    },
    {
      "cell_type": "code",
      "execution_count": null,
      "metadata": {
        "id": "1u6FShAqYDUX",
        "outputId": "1ad7642e-d3a6-4855-d48c-df31018361db"
      },
      "outputs": [
        {
          "data": {
            "text/plain": [
              "array([21.85171573, 21.75028214, 21.44127836])"
            ]
          },
          "execution_count": 53,
          "metadata": {},
          "output_type": "execute_result"
        }
      ],
      "source": [
        "bmi[np.logical_and(bmi > 21, bmi < 22)]"
      ]
    },
    {
      "cell_type": "markdown",
      "metadata": {
        "id": "1Sv0iPmlYDUX"
      },
      "source": [
        "## Filtering a Pandas DataFrame"
      ]
    },
    {
      "cell_type": "markdown",
      "source": [
        "Importing data"
      ],
      "metadata": {
        "id": "vp6gtg_q277_"
      }
    },
    {
      "cell_type": "code",
      "execution_count": null,
      "metadata": {
        "id": "Eh1K07BGYDUY",
        "outputId": "81ac7a1d-bb6e-4eba-cea1-12663a4172e3"
      },
      "outputs": [
        {
          "data": {
            "text/html": [
              "<div>\n",
              "<style scoped>\n",
              "    .dataframe tbody tr th:only-of-type {\n",
              "        vertical-align: middle;\n",
              "    }\n",
              "\n",
              "    .dataframe tbody tr th {\n",
              "        vertical-align: top;\n",
              "    }\n",
              "\n",
              "    .dataframe thead th {\n",
              "        text-align: right;\n",
              "    }\n",
              "</style>\n",
              "<table border=\"1\" class=\"dataframe\">\n",
              "  <thead>\n",
              "    <tr style=\"text-align: right;\">\n",
              "      <th></th>\n",
              "      <th>country</th>\n",
              "      <th>capital</th>\n",
              "      <th>area</th>\n",
              "      <th>population</th>\n",
              "    </tr>\n",
              "  </thead>\n",
              "  <tbody>\n",
              "    <tr>\n",
              "      <th>BR</th>\n",
              "      <td>Brazil</td>\n",
              "      <td>Brasilia</td>\n",
              "      <td>8.516</td>\n",
              "      <td>200.40</td>\n",
              "    </tr>\n",
              "    <tr>\n",
              "      <th>RU</th>\n",
              "      <td>Russia</td>\n",
              "      <td>Moscow</td>\n",
              "      <td>17.100</td>\n",
              "      <td>143.50</td>\n",
              "    </tr>\n",
              "    <tr>\n",
              "      <th>IN</th>\n",
              "      <td>India</td>\n",
              "      <td>New Delhi</td>\n",
              "      <td>3.286</td>\n",
              "      <td>1252.00</td>\n",
              "    </tr>\n",
              "    <tr>\n",
              "      <th>CH</th>\n",
              "      <td>China</td>\n",
              "      <td>Beijing</td>\n",
              "      <td>9.597</td>\n",
              "      <td>1357.00</td>\n",
              "    </tr>\n",
              "    <tr>\n",
              "      <th>SA</th>\n",
              "      <td>South Africa</td>\n",
              "      <td>Pretoria</td>\n",
              "      <td>1.221</td>\n",
              "      <td>52.98</td>\n",
              "    </tr>\n",
              "  </tbody>\n",
              "</table>\n",
              "</div>"
            ],
            "text/plain": [
              "         country    capital    area  population\n",
              "BR        Brazil   Brasilia   8.516      200.40\n",
              "RU        Russia     Moscow  17.100      143.50\n",
              "IN         India  New Delhi   3.286     1252.00\n",
              "CH         China    Beijing   9.597     1357.00\n",
              "SA  South Africa   Pretoria   1.221       52.98"
            ]
          },
          "execution_count": 54,
          "metadata": {},
          "output_type": "execute_result"
        }
      ],
      "source": [
        "import pandas as pd\n",
        "brics = pd.read_csv('brics.csv', index_col=0)\n",
        "brics"
      ]
    },
    {
      "cell_type": "markdown",
      "metadata": {
        "id": "yn6baNbjYDUY"
      },
      "source": [
        "**Objetivo**: selecionar os países com área maior do que 8 milhões de km2\n",
        "\n",
        "3 passos:\n",
        "- Selecionar a coluna \"area\"\n",
        "- Fazer uma comparação na coluna \"area\"\n",
        "- Usar o resultado para selecionar os países"
      ]
    },
    {
      "cell_type": "markdown",
      "source": [
        "Printing column 'area'"
      ],
      "metadata": {
        "id": "l12o7s4k2-6I"
      }
    },
    {
      "cell_type": "code",
      "execution_count": null,
      "metadata": {
        "id": "U8emVQPiYDUa",
        "outputId": "8ad9642e-ec0b-4777-af8d-958dabd4ba3b"
      },
      "outputs": [
        {
          "data": {
            "text/plain": [
              "BR     8.516\n",
              "RU    17.100\n",
              "IN     3.286\n",
              "CH     9.597\n",
              "SA     1.221\n",
              "Name: area, dtype: float64"
            ]
          },
          "execution_count": 55,
          "metadata": {},
          "output_type": "execute_result"
        }
      ],
      "source": [
        "# Selecionar a coluna \"area\"\n",
        "brics['area']"
      ]
    },
    {
      "cell_type": "markdown",
      "source": [
        "Filtering data using a boolean expression"
      ],
      "metadata": {
        "id": "JSmsF7aI3LeL"
      }
    },
    {
      "cell_type": "code",
      "execution_count": null,
      "metadata": {
        "id": "DLJcwlVuYDUb",
        "outputId": "fae4b285-e3ec-40e9-df8d-921142c18cab"
      },
      "outputs": [
        {
          "data": {
            "text/plain": [
              "BR     True\n",
              "RU     True\n",
              "IN    False\n",
              "CH     True\n",
              "SA    False\n",
              "Name: area, dtype: bool"
            ]
          },
          "execution_count": 56,
          "metadata": {},
          "output_type": "execute_result"
        }
      ],
      "source": [
        "# Fazer uma comparação na coluna \"area\"\n",
        "brics['area'] > 8\n",
        "is_huge = brics['area'] > 8\n",
        "is_huge"
      ]
    },
    {
      "cell_type": "markdown",
      "source": [
        "Printing the table result"
      ],
      "metadata": {
        "id": "51pktI6s3bNO"
      }
    },
    {
      "cell_type": "code",
      "execution_count": null,
      "metadata": {
        "id": "UR56yRvGYDUc",
        "outputId": "b6b410fd-6cf6-4933-85bb-b8586c79992b"
      },
      "outputs": [
        {
          "data": {
            "text/html": [
              "<div>\n",
              "<style scoped>\n",
              "    .dataframe tbody tr th:only-of-type {\n",
              "        vertical-align: middle;\n",
              "    }\n",
              "\n",
              "    .dataframe tbody tr th {\n",
              "        vertical-align: top;\n",
              "    }\n",
              "\n",
              "    .dataframe thead th {\n",
              "        text-align: right;\n",
              "    }\n",
              "</style>\n",
              "<table border=\"1\" class=\"dataframe\">\n",
              "  <thead>\n",
              "    <tr style=\"text-align: right;\">\n",
              "      <th></th>\n",
              "      <th>country</th>\n",
              "      <th>capital</th>\n",
              "      <th>area</th>\n",
              "      <th>population</th>\n",
              "    </tr>\n",
              "  </thead>\n",
              "  <tbody>\n",
              "    <tr>\n",
              "      <th>BR</th>\n",
              "      <td>Brazil</td>\n",
              "      <td>Brasilia</td>\n",
              "      <td>8.516</td>\n",
              "      <td>200.4</td>\n",
              "    </tr>\n",
              "    <tr>\n",
              "      <th>RU</th>\n",
              "      <td>Russia</td>\n",
              "      <td>Moscow</td>\n",
              "      <td>17.100</td>\n",
              "      <td>143.5</td>\n",
              "    </tr>\n",
              "    <tr>\n",
              "      <th>CH</th>\n",
              "      <td>China</td>\n",
              "      <td>Beijing</td>\n",
              "      <td>9.597</td>\n",
              "      <td>1357.0</td>\n",
              "    </tr>\n",
              "  </tbody>\n",
              "</table>\n",
              "</div>"
            ],
            "text/plain": [
              "   country   capital    area  population\n",
              "BR  Brazil  Brasilia   8.516       200.4\n",
              "RU  Russia    Moscow  17.100       143.5\n",
              "CH   China   Beijing   9.597      1357.0"
            ]
          },
          "execution_count": 57,
          "metadata": {},
          "output_type": "execute_result"
        }
      ],
      "source": [
        "# Usar o resultado para selecionar os países\n",
        "brics[is_huge]"
      ]
    },
    {
      "cell_type": "markdown",
      "source": [
        "Importing the data"
      ],
      "metadata": {
        "id": "JyTfwAuZ3ggj"
      }
    },
    {
      "cell_type": "code",
      "execution_count": null,
      "metadata": {
        "id": "72l0G6SpYDUd",
        "outputId": "97d6deda-96ab-4cc9-fe9b-0e9083cd1aa1"
      },
      "outputs": [
        {
          "data": {
            "text/html": [
              "<div>\n",
              "<style scoped>\n",
              "    .dataframe tbody tr th:only-of-type {\n",
              "        vertical-align: middle;\n",
              "    }\n",
              "\n",
              "    .dataframe tbody tr th {\n",
              "        vertical-align: top;\n",
              "    }\n",
              "\n",
              "    .dataframe thead th {\n",
              "        text-align: right;\n",
              "    }\n",
              "</style>\n",
              "<table border=\"1\" class=\"dataframe\">\n",
              "  <thead>\n",
              "    <tr style=\"text-align: right;\">\n",
              "      <th></th>\n",
              "      <th>cars_per_cap</th>\n",
              "      <th>country</th>\n",
              "      <th>drives_right</th>\n",
              "    </tr>\n",
              "  </thead>\n",
              "  <tbody>\n",
              "    <tr>\n",
              "      <th>US</th>\n",
              "      <td>809</td>\n",
              "      <td>United States</td>\n",
              "      <td>True</td>\n",
              "    </tr>\n",
              "    <tr>\n",
              "      <th>AUS</th>\n",
              "      <td>731</td>\n",
              "      <td>Australia</td>\n",
              "      <td>False</td>\n",
              "    </tr>\n",
              "    <tr>\n",
              "      <th>JAP</th>\n",
              "      <td>588</td>\n",
              "      <td>Japan</td>\n",
              "      <td>False</td>\n",
              "    </tr>\n",
              "    <tr>\n",
              "      <th>IN</th>\n",
              "      <td>18</td>\n",
              "      <td>India</td>\n",
              "      <td>False</td>\n",
              "    </tr>\n",
              "    <tr>\n",
              "      <th>RU</th>\n",
              "      <td>200</td>\n",
              "      <td>Russia</td>\n",
              "      <td>True</td>\n",
              "    </tr>\n",
              "    <tr>\n",
              "      <th>MOR</th>\n",
              "      <td>70</td>\n",
              "      <td>Morocco</td>\n",
              "      <td>True</td>\n",
              "    </tr>\n",
              "    <tr>\n",
              "      <th>EG</th>\n",
              "      <td>45</td>\n",
              "      <td>Egypt</td>\n",
              "      <td>True</td>\n",
              "    </tr>\n",
              "  </tbody>\n",
              "</table>\n",
              "</div>"
            ],
            "text/plain": [
              "     cars_per_cap        country  drives_right\n",
              "US            809  United States          True\n",
              "AUS           731      Australia         False\n",
              "JAP           588          Japan         False\n",
              "IN             18          India         False\n",
              "RU            200         Russia          True\n",
              "MOR            70        Morocco          True\n",
              "EG             45          Egypt          True"
            ]
          },
          "execution_count": 58,
          "metadata": {},
          "output_type": "execute_result"
        }
      ],
      "source": [
        "# Importando dataset de carros\n",
        "import pandas as pd\n",
        "cars = pd.read_csv('cars.csv', index_col = 0)\n",
        "cars"
      ]
    },
    {
      "cell_type": "markdown",
      "source": [
        "Extracting the column 'drives_right' and printing the result"
      ],
      "metadata": {
        "id": "5o6_TGNs4JTq"
      }
    },
    {
      "cell_type": "code",
      "execution_count": null,
      "metadata": {
        "id": "fLFOotfRYDUe",
        "outputId": "3c6f0d09-267b-4c17-bdf8-e504dccdf916"
      },
      "outputs": [
        {
          "name": "stdout",
          "output_type": "stream",
          "text": [
            "     cars_per_cap        country  drives_right\n",
            "US            809  United States          True\n",
            "RU            200         Russia          True\n",
            "MOR            70        Morocco          True\n",
            "EG             45          Egypt          True\n"
          ]
        }
      ],
      "source": [
        "# Extraia a coluna 'drives_right' do DataFrame 'cars' e atribua a variável 'dr'\n",
        "dr = cars['drives_right']\n",
        "\n",
        "# Use a variável 'dr' para criar um subconjunto de dados chamado 'sel'\n",
        "sel = cars[dr]\n",
        "\n",
        "# Imprima a variável 'sel'\n",
        "print(sel)"
      ]
    },
    {
      "cell_type": "markdown",
      "source": [
        "Adding new dataframe and filtering the column with a boolean expression to select values in  column 'cars_per_cap' that are grater than 500 and print the table result"
      ],
      "metadata": {
        "id": "S6xNU3fd4j4Q"
      }
    },
    {
      "cell_type": "code",
      "execution_count": null,
      "metadata": {
        "id": "zJMlBmbbYDUg",
        "outputId": "21c94523-495c-415c-8a49-d879d82aa4ba"
      },
      "outputs": [
        {
          "name": "stdout",
          "output_type": "stream",
          "text": [
            "     cars_per_cap        country  drives_right\n",
            "US            809  United States          True\n",
            "AUS           731      Australia         False\n",
            "JAP           588          Japan         False\n"
          ]
        }
      ],
      "source": [
        "# Crie uma variável car_maniac: linhas que possuem 'cars_per_cap' maiores do que 500\n",
        "cpc = cars['cars_per_cap']\n",
        "many_cars = cpc > 500\n",
        "car_maniac = cars[many_cars]\n",
        "\n",
        "# Imprima 'car_maniac'\n",
        "print(car_maniac)"
      ]
    },
    {
      "cell_type": "markdown",
      "source": [
        "Importing the library and selects the column 'cars_per_cap' and applies the filter with a boolean expression to filter the data with column values are between 100 and 500 and print the table result"
      ],
      "metadata": {
        "id": "FiQF0D_a5gpn"
      }
    },
    {
      "cell_type": "code",
      "execution_count": null,
      "metadata": {
        "id": "tlZIbUCfYDUh",
        "outputId": "b4d8bd63-1dd3-4d1f-8d26-81c2307cea31"
      },
      "outputs": [
        {
          "name": "stdout",
          "output_type": "stream",
          "text": [
            "    cars_per_cap country  drives_right\n",
            "RU           200  Russia          True\n"
          ]
        }
      ],
      "source": [
        "# Importe o conjunto de dados 'cars.csv', bem como as bibliotecas 'pandas' e 'numpy'\n",
        "import pandas as pd\n",
        "import numpy as np\n",
        "cars = pd.read_csv('cars.csv', index_col = 0)\n",
        "\n",
        "# Crie a variável 'medium': linhas que possuem 'cars_per_cap' entre 100 e 500\n",
        "cpc = cars['cars_per_cap']\n",
        "between = np.logical_and(cpc > 100, cpc < 500)\n",
        "medium = cars[between]\n",
        "\n",
        "# Imprima 'medium'\n",
        "print(medium)"
      ]
    }
  ],
  "metadata": {
    "kernelspec": {
      "display_name": "Python 3",
      "language": "python",
      "name": "python3"
    },
    "language_info": {
      "codemirror_mode": {
        "name": "ipython",
        "version": 3
      },
      "file_extension": ".py",
      "mimetype": "text/x-python",
      "name": "python",
      "nbconvert_exporter": "python",
      "pygments_lexer": "ipython3",
      "version": "3.6.8"
    },
    "colab": {
      "provenance": []
    }
  },
  "nbformat": 4,
  "nbformat_minor": 0
}