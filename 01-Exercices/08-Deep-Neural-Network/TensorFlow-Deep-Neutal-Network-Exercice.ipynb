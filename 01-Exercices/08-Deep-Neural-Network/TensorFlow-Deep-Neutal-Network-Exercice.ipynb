{
 "cells": [
  {
   "cell_type": "markdown",
   "source": [
    "### 1. Importing Libraries"
   ],
   "metadata": {
    "collapsed": false
   }
  },
  {
   "cell_type": "code",
   "execution_count": 49,
   "metadata": {
    "collapsed": true
   },
   "outputs": [],
   "source": [
    "import pandas as pd\n",
    "import numpy as np\n",
    "\n",
    "import tensorflow as tf\n",
    "from sklearn.preprocessing import OneHotEncoder\n",
    "from sklearn.preprocessing import LabelEncoder\n",
    "from sklearn.model_selection import train_test_split\n",
    "from sklearn.model_selection import KFold"
   ]
  },
  {
   "cell_type": "markdown",
   "source": [
    "### 2. Importing Dataset Titacnic"
   ],
   "metadata": {
    "collapsed": false
   }
  },
  {
   "cell_type": "code",
   "execution_count": 5,
   "outputs": [],
   "source": [
    "df_train = pd.read_csv('titanic/train.csv')\n",
    "df_test = pd.read_csv('titanic/test.csv')"
   ],
   "metadata": {
    "collapsed": false
   }
  },
  {
   "cell_type": "code",
   "execution_count": 6,
   "outputs": [
    {
     "data": {
      "text/plain": "   PassengerId  Survived  Pclass  \\\n0            1         0       3   \n1            2         1       1   \n2            3         1       3   \n3            4         1       1   \n4            5         0       3   \n5            6         0       3   \n6            7         0       1   \n7            8         0       3   \n8            9         1       3   \n9           10         1       2   \n\n                                                Name     Sex   Age  SibSp  \\\n0                            Braund, Mr. Owen Harris    male  22.0      1   \n1  Cumings, Mrs. John Bradley (Florence Briggs Th...  female  38.0      1   \n2                             Heikkinen, Miss. Laina  female  26.0      0   \n3       Futrelle, Mrs. Jacques Heath (Lily May Peel)  female  35.0      1   \n4                           Allen, Mr. William Henry    male  35.0      0   \n5                                   Moran, Mr. James    male   NaN      0   \n6                            McCarthy, Mr. Timothy J    male  54.0      0   \n7                     Palsson, Master. Gosta Leonard    male   2.0      3   \n8  Johnson, Mrs. Oscar W (Elisabeth Vilhelmina Berg)  female  27.0      0   \n9                Nasser, Mrs. Nicholas (Adele Achem)  female  14.0      1   \n\n   Parch            Ticket     Fare Cabin Embarked  \n0      0         A/5 21171   7.2500   NaN        S  \n1      0          PC 17599  71.2833   C85        C  \n2      0  STON/O2. 3101282   7.9250   NaN        S  \n3      0            113803  53.1000  C123        S  \n4      0            373450   8.0500   NaN        S  \n5      0            330877   8.4583   NaN        Q  \n6      0             17463  51.8625   E46        S  \n7      1            349909  21.0750   NaN        S  \n8      2            347742  11.1333   NaN        S  \n9      0            237736  30.0708   NaN        C  ",
      "text/html": "<div>\n<style scoped>\n    .dataframe tbody tr th:only-of-type {\n        vertical-align: middle;\n    }\n\n    .dataframe tbody tr th {\n        vertical-align: top;\n    }\n\n    .dataframe thead th {\n        text-align: right;\n    }\n</style>\n<table border=\"1\" class=\"dataframe\">\n  <thead>\n    <tr style=\"text-align: right;\">\n      <th></th>\n      <th>PassengerId</th>\n      <th>Survived</th>\n      <th>Pclass</th>\n      <th>Name</th>\n      <th>Sex</th>\n      <th>Age</th>\n      <th>SibSp</th>\n      <th>Parch</th>\n      <th>Ticket</th>\n      <th>Fare</th>\n      <th>Cabin</th>\n      <th>Embarked</th>\n    </tr>\n  </thead>\n  <tbody>\n    <tr>\n      <th>0</th>\n      <td>1</td>\n      <td>0</td>\n      <td>3</td>\n      <td>Braund, Mr. Owen Harris</td>\n      <td>male</td>\n      <td>22.0</td>\n      <td>1</td>\n      <td>0</td>\n      <td>A/5 21171</td>\n      <td>7.2500</td>\n      <td>NaN</td>\n      <td>S</td>\n    </tr>\n    <tr>\n      <th>1</th>\n      <td>2</td>\n      <td>1</td>\n      <td>1</td>\n      <td>Cumings, Mrs. John Bradley (Florence Briggs Th...</td>\n      <td>female</td>\n      <td>38.0</td>\n      <td>1</td>\n      <td>0</td>\n      <td>PC 17599</td>\n      <td>71.2833</td>\n      <td>C85</td>\n      <td>C</td>\n    </tr>\n    <tr>\n      <th>2</th>\n      <td>3</td>\n      <td>1</td>\n      <td>3</td>\n      <td>Heikkinen, Miss. Laina</td>\n      <td>female</td>\n      <td>26.0</td>\n      <td>0</td>\n      <td>0</td>\n      <td>STON/O2. 3101282</td>\n      <td>7.9250</td>\n      <td>NaN</td>\n      <td>S</td>\n    </tr>\n    <tr>\n      <th>3</th>\n      <td>4</td>\n      <td>1</td>\n      <td>1</td>\n      <td>Futrelle, Mrs. Jacques Heath (Lily May Peel)</td>\n      <td>female</td>\n      <td>35.0</td>\n      <td>1</td>\n      <td>0</td>\n      <td>113803</td>\n      <td>53.1000</td>\n      <td>C123</td>\n      <td>S</td>\n    </tr>\n    <tr>\n      <th>4</th>\n      <td>5</td>\n      <td>0</td>\n      <td>3</td>\n      <td>Allen, Mr. William Henry</td>\n      <td>male</td>\n      <td>35.0</td>\n      <td>0</td>\n      <td>0</td>\n      <td>373450</td>\n      <td>8.0500</td>\n      <td>NaN</td>\n      <td>S</td>\n    </tr>\n    <tr>\n      <th>5</th>\n      <td>6</td>\n      <td>0</td>\n      <td>3</td>\n      <td>Moran, Mr. James</td>\n      <td>male</td>\n      <td>NaN</td>\n      <td>0</td>\n      <td>0</td>\n      <td>330877</td>\n      <td>8.4583</td>\n      <td>NaN</td>\n      <td>Q</td>\n    </tr>\n    <tr>\n      <th>6</th>\n      <td>7</td>\n      <td>0</td>\n      <td>1</td>\n      <td>McCarthy, Mr. Timothy J</td>\n      <td>male</td>\n      <td>54.0</td>\n      <td>0</td>\n      <td>0</td>\n      <td>17463</td>\n      <td>51.8625</td>\n      <td>E46</td>\n      <td>S</td>\n    </tr>\n    <tr>\n      <th>7</th>\n      <td>8</td>\n      <td>0</td>\n      <td>3</td>\n      <td>Palsson, Master. Gosta Leonard</td>\n      <td>male</td>\n      <td>2.0</td>\n      <td>3</td>\n      <td>1</td>\n      <td>349909</td>\n      <td>21.0750</td>\n      <td>NaN</td>\n      <td>S</td>\n    </tr>\n    <tr>\n      <th>8</th>\n      <td>9</td>\n      <td>1</td>\n      <td>3</td>\n      <td>Johnson, Mrs. Oscar W (Elisabeth Vilhelmina Berg)</td>\n      <td>female</td>\n      <td>27.0</td>\n      <td>0</td>\n      <td>2</td>\n      <td>347742</td>\n      <td>11.1333</td>\n      <td>NaN</td>\n      <td>S</td>\n    </tr>\n    <tr>\n      <th>9</th>\n      <td>10</td>\n      <td>1</td>\n      <td>2</td>\n      <td>Nasser, Mrs. Nicholas (Adele Achem)</td>\n      <td>female</td>\n      <td>14.0</td>\n      <td>1</td>\n      <td>0</td>\n      <td>237736</td>\n      <td>30.0708</td>\n      <td>NaN</td>\n      <td>C</td>\n    </tr>\n  </tbody>\n</table>\n</div>"
     },
     "execution_count": 6,
     "metadata": {},
     "output_type": "execute_result"
    }
   ],
   "source": [
    "df_train.head(10)"
   ],
   "metadata": {
    "collapsed": false
   }
  },
  {
   "cell_type": "code",
   "execution_count": 7,
   "outputs": [
    {
     "name": "stdout",
     "output_type": "stream",
     "text": [
      "<class 'pandas.core.frame.DataFrame'>\n",
      "RangeIndex: 891 entries, 0 to 890\n",
      "Data columns (total 12 columns):\n",
      " #   Column       Non-Null Count  Dtype  \n",
      "---  ------       --------------  -----  \n",
      " 0   PassengerId  891 non-null    int64  \n",
      " 1   Survived     891 non-null    int64  \n",
      " 2   Pclass       891 non-null    int64  \n",
      " 3   Name         891 non-null    object \n",
      " 4   Sex          891 non-null    object \n",
      " 5   Age          714 non-null    float64\n",
      " 6   SibSp        891 non-null    int64  \n",
      " 7   Parch        891 non-null    int64  \n",
      " 8   Ticket       891 non-null    object \n",
      " 9   Fare         891 non-null    float64\n",
      " 10  Cabin        204 non-null    object \n",
      " 11  Embarked     889 non-null    object \n",
      "dtypes: float64(2), int64(5), object(5)\n",
      "memory usage: 83.7+ KB\n"
     ]
    }
   ],
   "source": [
    "df_train.info()"
   ],
   "metadata": {
    "collapsed": false
   }
  },
  {
   "cell_type": "markdown",
   "source": [
    "### 3. Data Preprocessing"
   ],
   "metadata": {
    "collapsed": false
   }
  },
  {
   "cell_type": "code",
   "execution_count": 8,
   "outputs": [],
   "source": [
    "df_train = df_train.drop(['PassengerId', 'Name', 'Ticket', 'Cabin'], axis=1)"
   ],
   "metadata": {
    "collapsed": false
   }
  },
  {
   "cell_type": "code",
   "execution_count": 9,
   "outputs": [
    {
     "data": {
      "text/plain": "   Survived  Pclass     Sex   Age  SibSp  Parch     Fare Embarked\n0         0       3    male  22.0      1      0   7.2500        S\n1         1       1  female  38.0      1      0  71.2833        C\n2         1       3  female  26.0      0      0   7.9250        S\n3         1       1  female  35.0      1      0  53.1000        S\n4         0       3    male  35.0      0      0   8.0500        S\n5         0       3    male   NaN      0      0   8.4583        Q\n6         0       1    male  54.0      0      0  51.8625        S\n7         0       3    male   2.0      3      1  21.0750        S\n8         1       3  female  27.0      0      2  11.1333        S\n9         1       2  female  14.0      1      0  30.0708        C",
      "text/html": "<div>\n<style scoped>\n    .dataframe tbody tr th:only-of-type {\n        vertical-align: middle;\n    }\n\n    .dataframe tbody tr th {\n        vertical-align: top;\n    }\n\n    .dataframe thead th {\n        text-align: right;\n    }\n</style>\n<table border=\"1\" class=\"dataframe\">\n  <thead>\n    <tr style=\"text-align: right;\">\n      <th></th>\n      <th>Survived</th>\n      <th>Pclass</th>\n      <th>Sex</th>\n      <th>Age</th>\n      <th>SibSp</th>\n      <th>Parch</th>\n      <th>Fare</th>\n      <th>Embarked</th>\n    </tr>\n  </thead>\n  <tbody>\n    <tr>\n      <th>0</th>\n      <td>0</td>\n      <td>3</td>\n      <td>male</td>\n      <td>22.0</td>\n      <td>1</td>\n      <td>0</td>\n      <td>7.2500</td>\n      <td>S</td>\n    </tr>\n    <tr>\n      <th>1</th>\n      <td>1</td>\n      <td>1</td>\n      <td>female</td>\n      <td>38.0</td>\n      <td>1</td>\n      <td>0</td>\n      <td>71.2833</td>\n      <td>C</td>\n    </tr>\n    <tr>\n      <th>2</th>\n      <td>1</td>\n      <td>3</td>\n      <td>female</td>\n      <td>26.0</td>\n      <td>0</td>\n      <td>0</td>\n      <td>7.9250</td>\n      <td>S</td>\n    </tr>\n    <tr>\n      <th>3</th>\n      <td>1</td>\n      <td>1</td>\n      <td>female</td>\n      <td>35.0</td>\n      <td>1</td>\n      <td>0</td>\n      <td>53.1000</td>\n      <td>S</td>\n    </tr>\n    <tr>\n      <th>4</th>\n      <td>0</td>\n      <td>3</td>\n      <td>male</td>\n      <td>35.0</td>\n      <td>0</td>\n      <td>0</td>\n      <td>8.0500</td>\n      <td>S</td>\n    </tr>\n    <tr>\n      <th>5</th>\n      <td>0</td>\n      <td>3</td>\n      <td>male</td>\n      <td>NaN</td>\n      <td>0</td>\n      <td>0</td>\n      <td>8.4583</td>\n      <td>Q</td>\n    </tr>\n    <tr>\n      <th>6</th>\n      <td>0</td>\n      <td>1</td>\n      <td>male</td>\n      <td>54.0</td>\n      <td>0</td>\n      <td>0</td>\n      <td>51.8625</td>\n      <td>S</td>\n    </tr>\n    <tr>\n      <th>7</th>\n      <td>0</td>\n      <td>3</td>\n      <td>male</td>\n      <td>2.0</td>\n      <td>3</td>\n      <td>1</td>\n      <td>21.0750</td>\n      <td>S</td>\n    </tr>\n    <tr>\n      <th>8</th>\n      <td>1</td>\n      <td>3</td>\n      <td>female</td>\n      <td>27.0</td>\n      <td>0</td>\n      <td>2</td>\n      <td>11.1333</td>\n      <td>S</td>\n    </tr>\n    <tr>\n      <th>9</th>\n      <td>1</td>\n      <td>2</td>\n      <td>female</td>\n      <td>14.0</td>\n      <td>1</td>\n      <td>0</td>\n      <td>30.0708</td>\n      <td>C</td>\n    </tr>\n  </tbody>\n</table>\n</div>"
     },
     "execution_count": 9,
     "metadata": {},
     "output_type": "execute_result"
    }
   ],
   "source": [
    "df_train.head(10)"
   ],
   "metadata": {
    "collapsed": false
   }
  },
  {
   "cell_type": "markdown",
   "source": [
    "### 4. Encoding Categorical Data"
   ],
   "metadata": {
    "collapsed": false
   }
  },
  {
   "cell_type": "code",
   "execution_count": 10,
   "outputs": [
    {
     "data": {
      "text/plain": "   Survived  Pclass  Sex   Age  SibSp  Parch     Fare  Embarked\n0         0       3    1  22.0      1      0   7.2500         2\n1         1       1    0  38.0      1      0  71.2833         0\n2         1       3    0  26.0      0      0   7.9250         2\n3         1       1    0  35.0      1      0  53.1000         2\n4         0       3    1  35.0      0      0   8.0500         2\n5         0       3    1   NaN      0      0   8.4583         1\n6         0       1    1  54.0      0      0  51.8625         2\n7         0       3    1   2.0      3      1  21.0750         2\n8         1       3    0  27.0      0      2  11.1333         2\n9         1       2    0  14.0      1      0  30.0708         0",
      "text/html": "<div>\n<style scoped>\n    .dataframe tbody tr th:only-of-type {\n        vertical-align: middle;\n    }\n\n    .dataframe tbody tr th {\n        vertical-align: top;\n    }\n\n    .dataframe thead th {\n        text-align: right;\n    }\n</style>\n<table border=\"1\" class=\"dataframe\">\n  <thead>\n    <tr style=\"text-align: right;\">\n      <th></th>\n      <th>Survived</th>\n      <th>Pclass</th>\n      <th>Sex</th>\n      <th>Age</th>\n      <th>SibSp</th>\n      <th>Parch</th>\n      <th>Fare</th>\n      <th>Embarked</th>\n    </tr>\n  </thead>\n  <tbody>\n    <tr>\n      <th>0</th>\n      <td>0</td>\n      <td>3</td>\n      <td>1</td>\n      <td>22.0</td>\n      <td>1</td>\n      <td>0</td>\n      <td>7.2500</td>\n      <td>2</td>\n    </tr>\n    <tr>\n      <th>1</th>\n      <td>1</td>\n      <td>1</td>\n      <td>0</td>\n      <td>38.0</td>\n      <td>1</td>\n      <td>0</td>\n      <td>71.2833</td>\n      <td>0</td>\n    </tr>\n    <tr>\n      <th>2</th>\n      <td>1</td>\n      <td>3</td>\n      <td>0</td>\n      <td>26.0</td>\n      <td>0</td>\n      <td>0</td>\n      <td>7.9250</td>\n      <td>2</td>\n    </tr>\n    <tr>\n      <th>3</th>\n      <td>1</td>\n      <td>1</td>\n      <td>0</td>\n      <td>35.0</td>\n      <td>1</td>\n      <td>0</td>\n      <td>53.1000</td>\n      <td>2</td>\n    </tr>\n    <tr>\n      <th>4</th>\n      <td>0</td>\n      <td>3</td>\n      <td>1</td>\n      <td>35.0</td>\n      <td>0</td>\n      <td>0</td>\n      <td>8.0500</td>\n      <td>2</td>\n    </tr>\n    <tr>\n      <th>5</th>\n      <td>0</td>\n      <td>3</td>\n      <td>1</td>\n      <td>NaN</td>\n      <td>0</td>\n      <td>0</td>\n      <td>8.4583</td>\n      <td>1</td>\n    </tr>\n    <tr>\n      <th>6</th>\n      <td>0</td>\n      <td>1</td>\n      <td>1</td>\n      <td>54.0</td>\n      <td>0</td>\n      <td>0</td>\n      <td>51.8625</td>\n      <td>2</td>\n    </tr>\n    <tr>\n      <th>7</th>\n      <td>0</td>\n      <td>3</td>\n      <td>1</td>\n      <td>2.0</td>\n      <td>3</td>\n      <td>1</td>\n      <td>21.0750</td>\n      <td>2</td>\n    </tr>\n    <tr>\n      <th>8</th>\n      <td>1</td>\n      <td>3</td>\n      <td>0</td>\n      <td>27.0</td>\n      <td>0</td>\n      <td>2</td>\n      <td>11.1333</td>\n      <td>2</td>\n    </tr>\n    <tr>\n      <th>9</th>\n      <td>1</td>\n      <td>2</td>\n      <td>0</td>\n      <td>14.0</td>\n      <td>1</td>\n      <td>0</td>\n      <td>30.0708</td>\n      <td>0</td>\n    </tr>\n  </tbody>\n</table>\n</div>"
     },
     "execution_count": 10,
     "metadata": {},
     "output_type": "execute_result"
    }
   ],
   "source": [
    "labelencoder = LabelEncoder()\n",
    "\n",
    "df_train['Sex'] = labelencoder.fit_transform(df_train['Sex'])\n",
    "df_train['Embarked'] = labelencoder.fit_transform(df_train['Embarked'])\n",
    "\n",
    "df_train.head(10)"
   ],
   "metadata": {
    "collapsed": false
   }
  },
  {
   "cell_type": "markdown",
   "source": [
    "### 5. Spliting Train to Train and Validation"
   ],
   "metadata": {
    "collapsed": false
   }
  },
  {
   "cell_type": "code",
   "execution_count": 11,
   "outputs": [],
   "source": [
    "X_train, X_validation, y_train, y_validation = train_test_split(df_train.drop(['Survived'], axis=1), df_train['Survived'], test_size=0.1, random_state=0)"
   ],
   "metadata": {
    "collapsed": false
   }
  },
  {
   "cell_type": "markdown",
   "source": [
    "### 6. Feature Scaling"
   ],
   "metadata": {
    "collapsed": false
   }
  },
  {
   "cell_type": "code",
   "execution_count": 12,
   "outputs": [],
   "source": [
    "from sklearn.preprocessing import StandardScaler\n",
    "\n",
    "sc = StandardScaler()"
   ],
   "metadata": {
    "collapsed": false
   }
  },
  {
   "cell_type": "code",
   "execution_count": 13,
   "outputs": [],
   "source": [
    "sc.fit(X_train)\n",
    "\n",
    "X_train = sc.transform(X_train)\n",
    "X_validation = sc.transform(X_validation)"
   ],
   "metadata": {
    "collapsed": false
   }
  },
  {
   "cell_type": "code",
   "execution_count": 14,
   "outputs": [
    {
     "data": {
      "text/plain": "array([[-1.60703355,  0.73510857,         nan, ..., -0.4680658 ,\n        -0.63579689,  0.57180976],\n       [ 0.80803938,  0.73510857, -0.74697379, ..., -0.4680658 ,\n        -0.47501012,  0.57180976],\n       [-0.39949708,  0.73510857, -1.84760272, ...,  0.765226  ,\n        -0.10634377,  0.57180976],\n       ...,\n       [ 0.80803938,  0.73510857,         nan, ..., -0.4680658 ,\n        -0.47831921, -0.7040109 ],\n       [ 0.80803938, -1.36034327,  0.42244445, ..., -0.4680658 ,\n        -0.28147057,  0.57180976],\n       [-0.39949708,  0.73510857,  2.07338784, ...,  0.765226  ,\n         0.15838279,  0.57180976]])"
     },
     "execution_count": 14,
     "metadata": {},
     "output_type": "execute_result"
    }
   ],
   "source": [
    "X_train"
   ],
   "metadata": {
    "collapsed": false
   }
  },
  {
   "cell_type": "code",
   "execution_count": 15,
   "outputs": [
    {
     "data": {
      "text/plain": "array([[ 8.08039385e-01,  7.35108574e-01,             nan,\n        -4.67354299e-01, -4.68065802e-01, -3.41374120e-01,\n        -1.97983156e+00],\n       [ 8.08039385e-01,  7.35108574e-01,             nan,\n        -4.67354299e-01, -4.68065802e-01, -4.82051851e-01,\n         5.71809759e-01],\n       [ 8.08039385e-01,  7.35108574e-01, -1.57244549e+00,\n         3.12354061e+00,  7.65225998e-01, -4.27075786e-02,\n        -7.04010901e-01],\n       [-1.60703355e+00, -1.36034327e+00,             nan,\n         4.30369427e-01, -4.68065802e-01,  2.34789137e+00,\n        -1.97983156e+00],\n       [ 8.08039385e-01, -1.36034327e+00, -5.90807083e-02,\n        -4.67354299e-01,  1.99851780e+00, -3.25337800e-01,\n        -1.97983156e+00],\n       [-1.60703355e+00,  7.35108574e-01,             nan,\n        -4.67354299e-01, -4.68065802e-01, -1.47076540e-02,\n         5.71809759e-01],\n       [-1.60703355e+00, -1.36034327e+00,  6.97601681e-01,\n        -4.67354299e-01, -4.68065802e-01,  2.48924924e+00,\n         5.71809759e-01],\n       [-1.60703355e+00, -1.36034327e+00,  7.84979080e-02,\n        -4.67354299e-01,  1.99851780e+00,  2.72147960e+00,\n         5.71809759e-01],\n       [-1.60703355e+00,  7.35108574e-01, -3.34237941e-01,\n         4.30369427e-01, -4.68065802e-01,  1.21890183e+00,\n        -1.97983156e+00],\n       [ 8.08039385e-01, -1.36034327e+00,             nan,\n        -4.67354299e-01, -4.68065802e-01, -4.88584488e-01,\n        -1.97983156e+00],\n       [ 8.08039385e-01,  7.35108574e-01, -2.65448633e-01,\n         4.30369427e-01, -4.68065802e-01, -4.75857249e-01,\n         5.71809759e-01],\n       [-3.99497084e-01, -1.36034327e+00,  6.97601681e-01,\n        -4.67354299e-01, -4.68065802e-01, -3.71070331e-01,\n         5.71809759e-01],\n       [ 8.08039385e-01,  7.35108574e-01,             nan,\n        -4.67354299e-01, -4.68065802e-01, -4.77979135e-01,\n        -7.04010901e-01],\n       [-3.99497084e-01, -1.36034327e+00, -1.57244549e+00,\n        -4.67354299e-01,  1.99851780e+00, -1.01252876e-01,\n         5.71809759e-01],\n       [-1.60703355e+00, -1.36034327e+00, -4.03027249e-01,\n        -4.67354299e-01, -4.68065802e-01,  1.05760393e+00,\n        -1.97983156e+00],\n       [ 8.08039385e-01, -1.36034327e+00, -1.09092033e+00,\n        -4.67354299e-01, -4.68065802e-01, -4.75857249e-01,\n         5.71809759e-01],\n       [ 8.08039385e-01,  7.35108574e-01, -4.71816557e-01,\n        -4.67354299e-01, -4.68065802e-01, -4.47942852e-01,\n         5.71809759e-01],\n       [-3.99497084e-01,  7.35108574e-01, -7.46973790e-01,\n         4.30369427e-01,  7.65225998e-01,  1.12564731e-01,\n         5.71809759e-01],\n       [ 8.08039385e-01,  7.35108574e-01,  3.53655141e-01,\n        -4.67354299e-01, -4.68065802e-01, -4.71870060e-01,\n         5.71809759e-01],\n       [ 8.08039385e-01,  7.35108574e-01, -2.02507913e+00,\n        -4.67354299e-01,  7.65225998e-01, -4.62366377e-01,\n        -1.97983156e+00],\n       [-3.99497084e-01,  7.35108574e-01, -8.15763098e-01,\n        -4.67354299e-01, -4.68065802e-01, -4.01615704e-01,\n         5.71809759e-01],\n       [-1.60703355e+00, -1.36034327e+00, -5.40605865e-01,\n        -4.67354299e-01, -4.68065802e-01,  2.45030389e+00,\n         5.71809759e-01],\n       [ 8.08039385e-01,  7.35108574e-01,             nan,\n        -4.67354299e-01, -4.68065802e-01, -4.78233679e-01,\n        -7.04010901e-01],\n       [-1.60703355e+00,  7.35108574e-01,             nan,\n        -4.67354299e-01, -4.68065802e-01, -4.52586320e-03,\n         5.71809759e-01],\n       [ 8.08039385e-01, -1.36034327e+00, -5.40605865e-01,\n        -4.67354299e-01, -4.68065802e-01, -4.35470158e-01,\n         5.71809759e-01],\n       [-1.60703355e+00, -1.36034327e+00,  6.97601681e-01,\n         4.30369427e-01,  7.65225998e-01,  2.10310483e+00,\n        -1.97983156e+00],\n       [ 8.08039385e-01,  7.35108574e-01,  1.47287216e-01,\n        -4.67354299e-01, -4.68065802e-01, -4.75010124e-01,\n         5.71809759e-01],\n       [ 8.08039385e-01, -1.36034327e+00, -5.40605865e-01,\n        -4.67354299e-01, -4.68065802e-01, -4.77979135e-01,\n         5.71809759e-01],\n       [-3.99497084e-01, -1.36034327e+00, -3.34237941e-01,\n        -4.67354299e-01,  7.65225998e-01, -1.06343771e-01,\n         5.71809759e-01],\n       [ 8.08039385e-01, -1.36034327e+00, -1.91639203e+00,\n         2.22581688e+00,  1.99851780e+00, -6.76529661e-02,\n         5.71809759e-01],\n       [ 8.08039385e-01,  7.35108574e-01,  2.16076524e-01,\n        -4.67354299e-01, -4.68065802e-01, -4.59397366e-01,\n        -1.97983156e+00],\n       [-3.99497084e-01, -1.36034327e+00,  1.38549476e+00,\n        -4.67354299e-01, -4.68065802e-01, -4.21979285e-01,\n         5.71809759e-01],\n       [ 8.08039385e-01,  7.35108574e-01, -1.27870016e-01,\n        -4.67354299e-01, -4.68065802e-01, -4.42342867e-01,\n         5.71809759e-01],\n       [-1.60703355e+00,  7.35108574e-01,             nan,\n        -4.67354299e-01, -4.68065802e-01,  8.71102538e-02,\n         5.71809759e-01],\n       [ 8.08039385e-01,  7.35108574e-01, -5.90807083e-02,\n         4.30369427e-01, -4.68065802e-01, -4.92319169e-01,\n         5.71809759e-01],\n       [-1.60703355e+00,  7.35108574e-01,  1.47287216e-01,\n        -4.67354299e-01, -4.68065802e-01, -1.47076540e-02,\n        -1.97983156e+00],\n       [ 8.08039385e-01,  7.35108574e-01,  9.03969606e-01,\n        -4.67354299e-01, -4.68065802e-01, -5.04451791e-01,\n         5.71809759e-01],\n       [-3.99497084e-01,  7.35108574e-01, -1.27870016e-01,\n        -4.67354299e-01, -4.68065802e-01, -4.21979285e-01,\n         5.71809759e-01],\n       [-3.99497084e-01,  7.35108574e-01, -3.34237941e-01,\n        -4.67354299e-01, -4.68065802e-01, -3.71070331e-01,\n         5.71809759e-01],\n       [-3.99497084e-01,  7.35108574e-01,  1.66065200e+00,\n        -4.67354299e-01, -4.68065802e-01, -3.50706750e-01,\n         5.71809759e-01],\n       [-1.60703355e+00,  7.35108574e-01,  2.07338784e+00,\n         4.30369427e-01,  7.65225998e-01,  9.76998768e-01,\n        -1.97983156e+00],\n       [ 8.08039385e-01,  7.35108574e-01, -3.34237941e-01,\n        -4.67354299e-01, -4.68065802e-01, -4.88670015e-01,\n        -1.97983156e+00],\n       [ 8.08039385e-01,  7.35108574e-01,             nan,\n        -4.67354299e-01, -4.68065802e-01, -3.40524959e-01,\n         5.71809759e-01],\n       [ 8.08039385e-01,  7.35108574e-01, -1.09092033e+00,\n         3.12354061e+00,  7.65225998e-01,  1.72382752e-01,\n         5.71809759e-01],\n       [-1.60703355e+00, -1.36034327e+00,  3.53655141e-01,\n         4.30369427e-01, -4.68065802e-01,  1.06405308e+00,\n         5.71809759e-01],\n       [ 8.08039385e-01,  7.35108574e-01,             nan,\n        -4.67354299e-01, -4.68065802e-01, -4.75010124e-01,\n         5.71809759e-01],\n       [ 8.08039385e-01,  7.35108574e-01,             nan,\n        -4.67354299e-01, -4.68065802e-01, -4.75010124e-01,\n         5.71809759e-01],\n       [-1.60703355e+00, -1.36034327e+00, -8.15763098e-01,\n         1.32809315e+00,  1.99851780e+00,  4.70709782e+00,\n        -1.97983156e+00],\n       [-3.99497084e-01,  7.35108574e-01,  6.28812373e-01,\n        -4.67354299e-01, -4.68065802e-01, -3.71070331e-01,\n         5.71809759e-01],\n       [-1.60703355e+00,  7.35108574e-01,  1.52307338e+00,\n         4.30369427e-01,  7.65225998e-01,  9.86162380e-01,\n         5.71809759e-01],\n       [-1.60703355e+00,  7.35108574e-01,             nan,\n        -4.67354299e-01, -4.68065802e-01, -2.48894448e-02,\n         5.71809759e-01],\n       [-1.60703355e+00,  7.35108574e-01, -4.71816557e-01,\n        -4.67354299e-01,  7.65225998e-01,  6.54405018e-01,\n        -1.97983156e+00],\n       [-3.99497084e-01, -1.36034327e+00, -1.77881341e+00,\n         4.30369427e-01,  7.65225998e-01, -1.67434516e-01,\n         5.71809759e-01],\n       [ 8.08039385e-01,  7.35108574e-01, -7.46973790e-01,\n        -4.67354299e-01, -4.68065802e-01, -4.75010124e-01,\n         5.71809759e-01],\n       [-1.60703355e+00,  7.35108574e-01,             nan,\n        -4.67354299e-01, -4.68065802e-01, -3.09985192e-02,\n        -1.97983156e+00],\n       [-3.99497084e-01,  7.35108574e-01, -4.03027249e-01,\n         1.32809315e+00, -4.68065802e-01,  8.60926353e-01,\n         5.71809759e-01],\n       [-1.60703355e+00,  7.35108574e-01,  2.21096646e+00,\n        -4.67354299e-01, -4.68065802e-01, -9.51438012e-02,\n         5.71809759e-01],\n       [ 8.08039385e-01, -1.36034327e+00, -1.29728825e+00,\n         3.12354061e+00,  1.99851780e+00,  1.07412173e-03,\n         5.71809759e-01],\n       [ 8.08039385e-01,  7.35108574e-01, -1.36607756e+00,\n         2.22581688e+00,  1.99851780e+00, -6.76529661e-02,\n         5.71809759e-01],\n       [ 8.08039385e-01,  7.35108574e-01,             nan,\n         1.32809315e+00, -4.68065802e-01, -1.62343620e-01,\n        -7.04010901e-01],\n       [ 8.08039385e-01,  7.35108574e-01, -5.40605865e-01,\n        -4.67354299e-01, -4.68065802e-01, -4.88584488e-01,\n        -1.97983156e+00],\n       [ 8.08039385e-01, -1.36034327e+00, -5.90807083e-02,\n        -4.67354299e-01,  4.46510140e+00, -2.06634410e-01,\n         5.71809759e-01],\n       [-1.60703355e+00, -1.36034327e+00,  1.66065200e+00,\n         4.30369427e-01, -4.68065802e-01,  9.57993438e-01,\n        -1.97983156e+00],\n       [-1.60703355e+00,  7.35108574e-01,             nan,\n        -4.67354299e-01, -4.68065802e-01,  1.70600938e-01,\n        -1.97983156e+00],\n       [ 8.08039385e-01, -1.36034327e+00, -1.96659325e-01,\n        -4.67354299e-01,  1.99851780e+00, -4.09083029e-01,\n         5.71809759e-01],\n       [ 8.08039385e-01,  7.35108574e-01,  1.47287216e-01,\n        -4.67354299e-01, -4.68065802e-01, -4.77979135e-01,\n        -7.04010901e-01],\n       [-1.60703355e+00, -1.36034327e+00,  1.31670545e+00,\n        -4.67354299e-01, -4.68065802e-01, -1.07785513e-01,\n         5.71809759e-01],\n       [-3.99497084e-01,  7.35108574e-01, -1.27870016e-01,\n        -4.67354299e-01,  7.65225998e-01,  3.62012999e-02,\n         5.71809759e-01],\n       [-3.99497084e-01, -1.36034327e+00, -1.91639203e+00,\n         4.30369427e-01,  7.65225998e-01, -1.06343771e-01,\n         5.71809759e-01],\n       [-1.60703355e+00, -1.36034327e+00, -7.46973790e-01,\n        -4.67354299e-01, -4.68065802e-01, -2.48894448e-02,\n         5.71809759e-01],\n       [-3.99497084e-01, -1.36034327e+00, -4.03027249e-01,\n         4.30369427e-01, -4.68065802e-01, -1.06343771e-01,\n         5.71809759e-01],\n       [-1.60703355e+00,  7.35108574e-01,  1.24791615e+00,\n         4.30369427e-01, -4.68065802e-01,  4.23109350e-01,\n         5.71809759e-01],\n       [-1.60703355e+00,  7.35108574e-01, -1.27870016e-01,\n         4.30369427e-01, -4.68065802e-01,  1.03749490e+00,\n        -1.97983156e+00],\n       [ 8.08039385e-01,  7.35108574e-01,             nan,\n        -4.67354299e-01, -4.68065802e-01, -4.71870060e-01,\n         5.71809759e-01],\n       [ 8.08039385e-01,  7.35108574e-01, -3.68632595e-01,\n        -4.67354299e-01, -4.68065802e-01, -4.71870060e-01,\n         5.71809759e-01],\n       [-3.99497084e-01, -1.36034327e+00,  9.70859987e-03,\n         2.22581688e+00, -4.68065802e-01, -2.08161679e-01,\n         5.71809759e-01],\n       [-1.60703355e+00,  7.35108574e-01, -7.46973790e-01,\n         2.22581688e+00,  1.99851780e+00,  4.71982506e+00,\n         5.71809759e-01],\n       [-1.60703355e+00,  7.35108574e-01,  6.97601681e-01,\n        -4.67354299e-01, -4.68065802e-01, -7.13021199e-02,\n        -1.97983156e+00],\n       [ 8.08039385e-01,  7.35108574e-01,  2.84865832e-01,\n        -4.67354299e-01, -4.68065802e-01, -5.03519139e-01,\n         5.71809759e-01],\n       [-3.99497084e-01,  7.35108574e-01,             nan,\n        -4.67354299e-01, -4.68065802e-01, -3.29324989e-01,\n        -1.97983156e+00],\n       [ 8.08039385e-01,  7.35108574e-01,             nan,\n         4.30369427e-01, -4.68065802e-01, -1.44016397e-01,\n        -7.04010901e-01],\n       [ 8.08039385e-01,  7.35108574e-01, -1.43486687e+00,\n         4.30369427e-01,  7.65225998e-01, -3.12015945e-01,\n         5.71809759e-01],\n       [-3.99497084e-01, -1.36034327e+00, -2.65448633e-01,\n         4.30369427e-01,  7.65225998e-01, -1.06343771e-01,\n         5.71809759e-01],\n       [ 8.08039385e-01,  7.35108574e-01, -9.53341714e-01,\n        -4.67354299e-01, -4.68065802e-01, -4.77470045e-01,\n         5.71809759e-01],\n       [-3.99497084e-01,  7.35108574e-01,  1.11033753e+00,\n        -4.67354299e-01, -4.68065802e-01, -1.06343771e-01,\n         5.71809759e-01],\n       [-1.60703355e+00, -1.36034327e+00, -6.09395173e-01,\n        -4.67354299e-01, -4.68065802e-01,  9.51713309e-01,\n         5.71809759e-01],\n       [-1.60703355e+00, -1.36034327e+00,  8.35180298e-01,\n        -4.67354299e-01, -4.68065802e-01,  3.99742700e+00,\n        -1.97983156e+00],\n       [ 8.08039385e-01, -1.36034327e+00,  2.27975577e+00,\n        -4.67354299e-01, -4.68065802e-01, -4.40561053e-01,\n         5.71809759e-01],\n       [-3.99497084e-01, -1.36034327e+00,  2.84865832e-01,\n        -4.67354299e-01, -4.68065802e-01, -4.21979285e-01,\n         5.71809759e-01],\n       [-1.60703355e+00,  7.35108574e-01, -8.15763098e-01,\n         4.30369427e-01, -4.68065802e-01,  1.58179714e+00,\n        -1.97983156e+00]])"
     },
     "execution_count": 15,
     "metadata": {},
     "output_type": "execute_result"
    }
   ],
   "source": [
    "X_validation"
   ],
   "metadata": {
    "collapsed": false
   }
  },
  {
   "cell_type": "markdown",
   "source": [
    "### Neural Network Model"
   ],
   "metadata": {
    "collapsed": false
   }
  },
  {
   "cell_type": "code",
   "execution_count": 45,
   "outputs": [],
   "source": [
    "model = tf.keras.models.Sequential([\n",
    "    tf.keras.layers.Dense(32, activation='relu'),\n",
    "    tf.keras.layers.Dense(64, activation='relu'),\n",
    "    tf.keras.layers.Dense(3, activation='softmax')\n",
    "])"
   ],
   "metadata": {
    "collapsed": false
   }
  },
  {
   "cell_type": "code",
   "execution_count": 46,
   "outputs": [],
   "source": [
    "model.compile(optimizer='RMSPROP', loss='sparse_categorical_crossentropy', metrics=['accuracy'])"
   ],
   "metadata": {
    "collapsed": false
   }
  },
  {
   "cell_type": "markdown",
   "source": [
    "### Training Model using Early Stopping"
   ],
   "metadata": {
    "collapsed": false
   }
  },
  {
   "cell_type": "code",
   "execution_count": 47,
   "outputs": [],
   "source": [
    "early_stopping = tf.keras.callbacks.EarlyStopping(monitor='val_loss', patience=3)"
   ],
   "metadata": {
    "collapsed": false
   }
  },
  {
   "cell_type": "code",
   "execution_count": 48,
   "outputs": [
    {
     "name": "stdout",
     "output_type": "stream",
     "text": [
      "Epoch 1/10\n",
      "191/201 [===========================>..] - ETA: 0s - loss: nan - accuracy: 0.6257WARNING:tensorflow:Early stopping conditioned on metric `val_loss` which is not available. Available metrics are: loss,accuracy\n",
      "201/201 [==============================] - 1s 2ms/step - loss: nan - accuracy: 0.6217\n",
      "Epoch 2/10\n",
      "166/201 [=======================>......] - ETA: 0s - loss: nan - accuracy: 0.6235WARNING:tensorflow:Early stopping conditioned on metric `val_loss` which is not available. Available metrics are: loss,accuracy\n",
      "201/201 [==============================] - 0s 1ms/step - loss: nan - accuracy: 0.6217\n",
      "Epoch 3/10\n",
      "163/201 [=======================>......] - ETA: 0s - loss: nan - accuracy: 0.6242WARNING:tensorflow:Early stopping conditioned on metric `val_loss` which is not available. Available metrics are: loss,accuracy\n",
      "201/201 [==============================] - 0s 1ms/step - loss: nan - accuracy: 0.6217\n",
      "Epoch 4/10\n",
      "184/201 [==========================>...] - ETA: 0s - loss: nan - accuracy: 0.6236WARNING:tensorflow:Early stopping conditioned on metric `val_loss` which is not available. Available metrics are: loss,accuracy\n",
      "201/201 [==============================] - 0s 2ms/step - loss: nan - accuracy: 0.6217\n",
      "Epoch 5/10\n",
      "190/201 [===========================>..] - ETA: 0s - loss: nan - accuracy: 0.6289WARNING:tensorflow:Early stopping conditioned on metric `val_loss` which is not available. Available metrics are: loss,accuracy\n",
      "201/201 [==============================] - 0s 2ms/step - loss: nan - accuracy: 0.6217\n",
      "Epoch 6/10\n",
      "175/201 [=========================>....] - ETA: 0s - loss: nan - accuracy: 0.6229WARNING:tensorflow:Early stopping conditioned on metric `val_loss` which is not available. Available metrics are: loss,accuracy\n",
      "201/201 [==============================] - 0s 1ms/step - loss: nan - accuracy: 0.6217\n",
      "Epoch 7/10\n",
      "172/201 [========================>.....] - ETA: 0s - loss: nan - accuracy: 0.6221WARNING:tensorflow:Early stopping conditioned on metric `val_loss` which is not available. Available metrics are: loss,accuracy\n",
      "201/201 [==============================] - 0s 1ms/step - loss: nan - accuracy: 0.6217\n",
      "Epoch 8/10\n",
      "169/201 [========================>.....] - ETA: 0s - loss: nan - accuracy: 0.6272WARNING:tensorflow:Early stopping conditioned on metric `val_loss` which is not available. Available metrics are: loss,accuracy\n",
      "201/201 [==============================] - 0s 1ms/step - loss: nan - accuracy: 0.6217\n",
      "Epoch 9/10\n",
      "188/201 [===========================>..] - ETA: 0s - loss: nan - accuracy: 0.6210WARNING:tensorflow:Early stopping conditioned on metric `val_loss` which is not available. Available metrics are: loss,accuracy\n",
      "201/201 [==============================] - 0s 2ms/step - loss: nan - accuracy: 0.6217\n",
      "Epoch 10/10\n",
      "173/201 [========================>.....] - ETA: 0s - loss: nan - accuracy: 0.6171WARNING:tensorflow:Early stopping conditioned on metric `val_loss` which is not available. Available metrics are: loss,accuracy\n",
      "201/201 [==============================] - 0s 1ms/step - loss: nan - accuracy: 0.6217\n"
     ]
    },
    {
     "data": {
      "text/plain": "<keras.callbacks.History at 0x185f9455660>"
     },
     "execution_count": 48,
     "metadata": {},
     "output_type": "execute_result"
    }
   ],
   "source": [
    "model.fit(X_train, y_train, epochs=10, batch_size=4, callbacks=[early_stopping])"
   ],
   "metadata": {
    "collapsed": false
   }
  },
  {
   "cell_type": "markdown",
   "source": [
    "### Using K-Fold Cross Validation"
   ],
   "metadata": {
    "collapsed": false
   }
  },
  {
   "cell_type": "code",
   "execution_count": 50,
   "outputs": [
    {
     "ename": "KeyError",
     "evalue": "'[8, 14, 27, 34, 55, 60, 141, 144, 145, 181, 196, 200, 202, 230, 252, 255, 262, 270, 278, 285, 298, 301, 310, 311, 312, 317, 318, 319, 350, 380, 397, 458, 474, 477, 484, 489, 495, 496, 505, 519, 542, 566, 567, 587, 614, 627, 632, 642, 648, 655, 666, 676, 686, 704, 708, 712, 726, 740, 750, 764, 766, 768] not in index'",
     "output_type": "error",
     "traceback": [
      "\u001B[1;31m---------------------------------------------------------------------------\u001B[0m",
      "\u001B[1;31mKeyError\u001B[0m                                  Traceback (most recent call last)",
      "Cell \u001B[1;32mIn[50], line 7\u001B[0m\n\u001B[0;32m      5\u001B[0m \u001B[38;5;28;01mfor\u001B[39;00m train_index, validation_index \u001B[38;5;129;01min\u001B[39;00m kfold_outer\u001B[38;5;241m.\u001B[39msplit(X_train):\n\u001B[0;32m      6\u001B[0m     X_train_outer, X_validation_outer \u001B[38;5;241m=\u001B[39m X_train[train_index], X_train[validation_index]\n\u001B[1;32m----> 7\u001B[0m     y_train_outer, y_validation_outer \u001B[38;5;241m=\u001B[39m \u001B[43my_train\u001B[49m\u001B[43m[\u001B[49m\u001B[43mtrain_index\u001B[49m\u001B[43m]\u001B[49m, y_train[validation_index]\n\u001B[0;32m      9\u001B[0m     bestAccuracy \u001B[38;5;241m=\u001B[39m \u001B[38;5;241m0\u001B[39m\n\u001B[0;32m     10\u001B[0m     BestOcultLayer \u001B[38;5;241m=\u001B[39m \u001B[38;5;241m0\u001B[39m\n",
      "File \u001B[1;32m~\\AppData\\Local\\anaconda3\\lib\\site-packages\\pandas\\core\\series.py:1007\u001B[0m, in \u001B[0;36mSeries.__getitem__\u001B[1;34m(self, key)\u001B[0m\n\u001B[0;32m   1004\u001B[0m     key \u001B[38;5;241m=\u001B[39m np\u001B[38;5;241m.\u001B[39masarray(key, dtype\u001B[38;5;241m=\u001B[39m\u001B[38;5;28mbool\u001B[39m)\n\u001B[0;32m   1005\u001B[0m     \u001B[38;5;28;01mreturn\u001B[39;00m \u001B[38;5;28mself\u001B[39m\u001B[38;5;241m.\u001B[39m_get_values(key)\n\u001B[1;32m-> 1007\u001B[0m \u001B[38;5;28;01mreturn\u001B[39;00m \u001B[38;5;28;43mself\u001B[39;49m\u001B[38;5;241;43m.\u001B[39;49m\u001B[43m_get_with\u001B[49m\u001B[43m(\u001B[49m\u001B[43mkey\u001B[49m\u001B[43m)\u001B[49m\n",
      "File \u001B[1;32m~\\AppData\\Local\\anaconda3\\lib\\site-packages\\pandas\\core\\series.py:1042\u001B[0m, in \u001B[0;36mSeries._get_with\u001B[1;34m(self, key)\u001B[0m\n\u001B[0;32m   1038\u001B[0m \u001B[38;5;28;01mif\u001B[39;00m key_type \u001B[38;5;241m==\u001B[39m \u001B[38;5;124m\"\u001B[39m\u001B[38;5;124minteger\u001B[39m\u001B[38;5;124m\"\u001B[39m:\n\u001B[0;32m   1039\u001B[0m     \u001B[38;5;66;03m# We need to decide whether to treat this as a positional indexer\u001B[39;00m\n\u001B[0;32m   1040\u001B[0m     \u001B[38;5;66;03m#  (i.e. self.iloc) or label-based (i.e. self.loc)\u001B[39;00m\n\u001B[0;32m   1041\u001B[0m     \u001B[38;5;28;01mif\u001B[39;00m \u001B[38;5;129;01mnot\u001B[39;00m \u001B[38;5;28mself\u001B[39m\u001B[38;5;241m.\u001B[39mindex\u001B[38;5;241m.\u001B[39m_should_fallback_to_positional:\n\u001B[1;32m-> 1042\u001B[0m         \u001B[38;5;28;01mreturn\u001B[39;00m \u001B[38;5;28;43mself\u001B[39;49m\u001B[38;5;241;43m.\u001B[39;49m\u001B[43mloc\u001B[49m\u001B[43m[\u001B[49m\u001B[43mkey\u001B[49m\u001B[43m]\u001B[49m\n\u001B[0;32m   1043\u001B[0m     \u001B[38;5;28;01melse\u001B[39;00m:\n\u001B[0;32m   1044\u001B[0m         \u001B[38;5;28;01mreturn\u001B[39;00m \u001B[38;5;28mself\u001B[39m\u001B[38;5;241m.\u001B[39miloc[key]\n",
      "File \u001B[1;32m~\\AppData\\Local\\anaconda3\\lib\\site-packages\\pandas\\core\\indexing.py:1073\u001B[0m, in \u001B[0;36m_LocationIndexer.__getitem__\u001B[1;34m(self, key)\u001B[0m\n\u001B[0;32m   1070\u001B[0m axis \u001B[38;5;241m=\u001B[39m \u001B[38;5;28mself\u001B[39m\u001B[38;5;241m.\u001B[39maxis \u001B[38;5;129;01mor\u001B[39;00m \u001B[38;5;241m0\u001B[39m\n\u001B[0;32m   1072\u001B[0m maybe_callable \u001B[38;5;241m=\u001B[39m com\u001B[38;5;241m.\u001B[39mapply_if_callable(key, \u001B[38;5;28mself\u001B[39m\u001B[38;5;241m.\u001B[39mobj)\n\u001B[1;32m-> 1073\u001B[0m \u001B[38;5;28;01mreturn\u001B[39;00m \u001B[38;5;28;43mself\u001B[39;49m\u001B[38;5;241;43m.\u001B[39;49m\u001B[43m_getitem_axis\u001B[49m\u001B[43m(\u001B[49m\u001B[43mmaybe_callable\u001B[49m\u001B[43m,\u001B[49m\u001B[43m \u001B[49m\u001B[43maxis\u001B[49m\u001B[38;5;241;43m=\u001B[39;49m\u001B[43maxis\u001B[49m\u001B[43m)\u001B[49m\n",
      "File \u001B[1;32m~\\AppData\\Local\\anaconda3\\lib\\site-packages\\pandas\\core\\indexing.py:1301\u001B[0m, in \u001B[0;36m_LocIndexer._getitem_axis\u001B[1;34m(self, key, axis)\u001B[0m\n\u001B[0;32m   1298\u001B[0m     \u001B[38;5;28;01mif\u001B[39;00m \u001B[38;5;28mhasattr\u001B[39m(key, \u001B[38;5;124m\"\u001B[39m\u001B[38;5;124mndim\u001B[39m\u001B[38;5;124m\"\u001B[39m) \u001B[38;5;129;01mand\u001B[39;00m key\u001B[38;5;241m.\u001B[39mndim \u001B[38;5;241m>\u001B[39m \u001B[38;5;241m1\u001B[39m:\n\u001B[0;32m   1299\u001B[0m         \u001B[38;5;28;01mraise\u001B[39;00m \u001B[38;5;167;01mValueError\u001B[39;00m(\u001B[38;5;124m\"\u001B[39m\u001B[38;5;124mCannot index with multidimensional key\u001B[39m\u001B[38;5;124m\"\u001B[39m)\n\u001B[1;32m-> 1301\u001B[0m     \u001B[38;5;28;01mreturn\u001B[39;00m \u001B[38;5;28;43mself\u001B[39;49m\u001B[38;5;241;43m.\u001B[39;49m\u001B[43m_getitem_iterable\u001B[49m\u001B[43m(\u001B[49m\u001B[43mkey\u001B[49m\u001B[43m,\u001B[49m\u001B[43m \u001B[49m\u001B[43maxis\u001B[49m\u001B[38;5;241;43m=\u001B[39;49m\u001B[43maxis\u001B[49m\u001B[43m)\u001B[49m\n\u001B[0;32m   1303\u001B[0m \u001B[38;5;66;03m# nested tuple slicing\u001B[39;00m\n\u001B[0;32m   1304\u001B[0m \u001B[38;5;28;01mif\u001B[39;00m is_nested_tuple(key, labels):\n",
      "File \u001B[1;32m~\\AppData\\Local\\anaconda3\\lib\\site-packages\\pandas\\core\\indexing.py:1239\u001B[0m, in \u001B[0;36m_LocIndexer._getitem_iterable\u001B[1;34m(self, key, axis)\u001B[0m\n\u001B[0;32m   1236\u001B[0m \u001B[38;5;28mself\u001B[39m\u001B[38;5;241m.\u001B[39m_validate_key(key, axis)\n\u001B[0;32m   1238\u001B[0m \u001B[38;5;66;03m# A collection of keys\u001B[39;00m\n\u001B[1;32m-> 1239\u001B[0m keyarr, indexer \u001B[38;5;241m=\u001B[39m \u001B[38;5;28;43mself\u001B[39;49m\u001B[38;5;241;43m.\u001B[39;49m\u001B[43m_get_listlike_indexer\u001B[49m\u001B[43m(\u001B[49m\u001B[43mkey\u001B[49m\u001B[43m,\u001B[49m\u001B[43m \u001B[49m\u001B[43maxis\u001B[49m\u001B[43m)\u001B[49m\n\u001B[0;32m   1240\u001B[0m \u001B[38;5;28;01mreturn\u001B[39;00m \u001B[38;5;28mself\u001B[39m\u001B[38;5;241m.\u001B[39mobj\u001B[38;5;241m.\u001B[39m_reindex_with_indexers(\n\u001B[0;32m   1241\u001B[0m     {axis: [keyarr, indexer]}, copy\u001B[38;5;241m=\u001B[39m\u001B[38;5;28;01mTrue\u001B[39;00m, allow_dups\u001B[38;5;241m=\u001B[39m\u001B[38;5;28;01mTrue\u001B[39;00m\n\u001B[0;32m   1242\u001B[0m )\n",
      "File \u001B[1;32m~\\AppData\\Local\\anaconda3\\lib\\site-packages\\pandas\\core\\indexing.py:1432\u001B[0m, in \u001B[0;36m_LocIndexer._get_listlike_indexer\u001B[1;34m(self, key, axis)\u001B[0m\n\u001B[0;32m   1429\u001B[0m ax \u001B[38;5;241m=\u001B[39m \u001B[38;5;28mself\u001B[39m\u001B[38;5;241m.\u001B[39mobj\u001B[38;5;241m.\u001B[39m_get_axis(axis)\n\u001B[0;32m   1430\u001B[0m axis_name \u001B[38;5;241m=\u001B[39m \u001B[38;5;28mself\u001B[39m\u001B[38;5;241m.\u001B[39mobj\u001B[38;5;241m.\u001B[39m_get_axis_name(axis)\n\u001B[1;32m-> 1432\u001B[0m keyarr, indexer \u001B[38;5;241m=\u001B[39m \u001B[43max\u001B[49m\u001B[38;5;241;43m.\u001B[39;49m\u001B[43m_get_indexer_strict\u001B[49m\u001B[43m(\u001B[49m\u001B[43mkey\u001B[49m\u001B[43m,\u001B[49m\u001B[43m \u001B[49m\u001B[43maxis_name\u001B[49m\u001B[43m)\u001B[49m\n\u001B[0;32m   1434\u001B[0m \u001B[38;5;28;01mreturn\u001B[39;00m keyarr, indexer\n",
      "File \u001B[1;32m~\\AppData\\Local\\anaconda3\\lib\\site-packages\\pandas\\core\\indexes\\base.py:6070\u001B[0m, in \u001B[0;36mIndex._get_indexer_strict\u001B[1;34m(self, key, axis_name)\u001B[0m\n\u001B[0;32m   6067\u001B[0m \u001B[38;5;28;01melse\u001B[39;00m:\n\u001B[0;32m   6068\u001B[0m     keyarr, indexer, new_indexer \u001B[38;5;241m=\u001B[39m \u001B[38;5;28mself\u001B[39m\u001B[38;5;241m.\u001B[39m_reindex_non_unique(keyarr)\n\u001B[1;32m-> 6070\u001B[0m \u001B[38;5;28;43mself\u001B[39;49m\u001B[38;5;241;43m.\u001B[39;49m\u001B[43m_raise_if_missing\u001B[49m\u001B[43m(\u001B[49m\u001B[43mkeyarr\u001B[49m\u001B[43m,\u001B[49m\u001B[43m \u001B[49m\u001B[43mindexer\u001B[49m\u001B[43m,\u001B[49m\u001B[43m \u001B[49m\u001B[43maxis_name\u001B[49m\u001B[43m)\u001B[49m\n\u001B[0;32m   6072\u001B[0m keyarr \u001B[38;5;241m=\u001B[39m \u001B[38;5;28mself\u001B[39m\u001B[38;5;241m.\u001B[39mtake(indexer)\n\u001B[0;32m   6073\u001B[0m \u001B[38;5;28;01mif\u001B[39;00m \u001B[38;5;28misinstance\u001B[39m(key, Index):\n\u001B[0;32m   6074\u001B[0m     \u001B[38;5;66;03m# GH 42790 - Preserve name from an Index\u001B[39;00m\n",
      "File \u001B[1;32m~\\AppData\\Local\\anaconda3\\lib\\site-packages\\pandas\\core\\indexes\\base.py:6133\u001B[0m, in \u001B[0;36mIndex._raise_if_missing\u001B[1;34m(self, key, indexer, axis_name)\u001B[0m\n\u001B[0;32m   6130\u001B[0m     \u001B[38;5;28;01mraise\u001B[39;00m \u001B[38;5;167;01mKeyError\u001B[39;00m(\u001B[38;5;124mf\u001B[39m\u001B[38;5;124m\"\u001B[39m\u001B[38;5;124mNone of [\u001B[39m\u001B[38;5;132;01m{\u001B[39;00mkey\u001B[38;5;132;01m}\u001B[39;00m\u001B[38;5;124m] are in the [\u001B[39m\u001B[38;5;132;01m{\u001B[39;00maxis_name\u001B[38;5;132;01m}\u001B[39;00m\u001B[38;5;124m]\u001B[39m\u001B[38;5;124m\"\u001B[39m)\n\u001B[0;32m   6132\u001B[0m not_found \u001B[38;5;241m=\u001B[39m \u001B[38;5;28mlist\u001B[39m(ensure_index(key)[missing_mask\u001B[38;5;241m.\u001B[39mnonzero()[\u001B[38;5;241m0\u001B[39m]]\u001B[38;5;241m.\u001B[39munique())\n\u001B[1;32m-> 6133\u001B[0m \u001B[38;5;28;01mraise\u001B[39;00m \u001B[38;5;167;01mKeyError\u001B[39;00m(\u001B[38;5;124mf\u001B[39m\u001B[38;5;124m\"\u001B[39m\u001B[38;5;132;01m{\u001B[39;00mnot_found\u001B[38;5;132;01m}\u001B[39;00m\u001B[38;5;124m not in index\u001B[39m\u001B[38;5;124m\"\u001B[39m)\n",
      "\u001B[1;31mKeyError\u001B[0m: '[8, 14, 27, 34, 55, 60, 141, 144, 145, 181, 196, 200, 202, 230, 252, 255, 262, 270, 278, 285, 298, 301, 310, 311, 312, 317, 318, 319, 350, 380, 397, 458, 474, 477, 484, 489, 495, 496, 505, 519, 542, 566, 567, 587, 614, 627, 632, 642, 648, 655, 666, 676, 686, 704, 708, 712, 726, 740, 750, 764, 766, 768] not in index'"
     ]
    }
   ],
   "source": [
    "k_outer = 5\n",
    "k_inner = 5\n",
    "\n",
    "kfold_outer = KFold(n_splits=k_outer, shuffle=True, random_state=42)\n",
    "for train_index, validation_index in kfold_outer.split(X_train):\n",
    "    X_train_outer, X_validation_outer = X_train[train_index], X_train[validation_index]\n",
    "    y_train_outer, y_validation_outer = y_train[train_index], y_train[validation_index]\n",
    "\n",
    "    bestAccuracy = 0\n",
    "    BestOcultLayer = 0\n",
    "    BestNeuron = 0\n",
    "\n",
    "    ocultLayer = [1,2,3]\n",
    "    neuron = [32,64,128]\n",
    "\n",
    "    for layer, neuron in zip(ocultLayer, neuron):\n",
    "        kfold_inner = KFold(n_splits=k_inner, shuffle=True, random_state=42)\n",
    "        for train_index, validation_index in kfold_inner.split(X_train_outer):\n",
    "            X_train_inner, X_validation_inner = X_train_outer[train_index], X_train_outer[validation_index]\n",
    "            y_train_inner, y_validation_inner = y_train_outer[train_index], y_train_outer[validation_index]\n",
    "\n",
    "            model = tf.keras.models.Sequential()\n",
    "            model.add(tf.keras.layers.Dense(neuron, activation='relu'))\n",
    "            for i in range(layer):\n",
    "                model.add(tf.keras.layers.Dense(neuron, activation='relu'))\n",
    "            model.add(tf.keras.layers.Dense(3, activation='softmax'))\n",
    "\n",
    "            model.compile(optimizer='RMSPROP', loss='sparse_categorical_crossentropy', metrics=['accuracy'])\n",
    "\n",
    "            model.fit(X_train_inner, y_train_inner, epochs=10, batch_size=4, callbacks=[early_stopping])\n",
    "\n",
    "            loss, accuracy = model.evaluate(X_validation_inner, y_validation_inner)\n",
    "            if accuracy > bestAccuracy:\n",
    "                bestAccuracy = accuracy\n",
    "                BestOcultLayer = layer\n",
    "                BestNeuron = neuron\n",
    "\n",
    "    model = tf.keras.models.Sequential()\n",
    "    model.add(tf.keras.layers.Dense(BestNeuron, activation='relu'))\n",
    "    for i in range(BestOcultLayer):\n",
    "        model.add(tf.keras.layers.Dense(BestNeuron, activation='relu'))\n",
    "    model.add(tf.keras.layers.Dense(3, activation='softmax'))\n",
    "\n",
    "    model.compile(optimizer='RMSPROP', loss='sparse_categorical_crossentropy', metrics=['accuracy'])\n",
    "\n",
    "    model.fit(X_train_outer, y_train_outer, epochs=10, batch_size=4, callbacks=[early_stopping])\n",
    "\n",
    "    loss, accuracy = model.evaluate(X_validation_outer, y_validation_outer)\n",
    "    print('Accuracy: %.2f' % (accuracy*100))\n",
    "\n",
    "\n"
   ],
   "metadata": {
    "collapsed": false
   }
  },
  {
   "cell_type": "code",
   "execution_count": null,
   "outputs": [],
   "source": [],
   "metadata": {
    "collapsed": false
   }
  }
 ],
 "metadata": {
  "kernelspec": {
   "display_name": "Python 3",
   "language": "python",
   "name": "python3"
  },
  "language_info": {
   "codemirror_mode": {
    "name": "ipython",
    "version": 2
   },
   "file_extension": ".py",
   "mimetype": "text/x-python",
   "name": "python",
   "nbconvert_exporter": "python",
   "pygments_lexer": "ipython2",
   "version": "2.7.6"
  }
 },
 "nbformat": 4,
 "nbformat_minor": 0
}
