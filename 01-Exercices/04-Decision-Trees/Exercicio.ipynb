{
 "cells": [
  {
   "cell_type": "markdown",
   "metadata": {},
   "source": [
    "## Exercício - Titanic\n",
    "disponível em https://www.kaggle.com/c/titanic/overview"
   ]
  },
  {
   "cell_type": "markdown",
   "metadata": {},
   "source": [
    "#### Descrição\n",
    "O naufrágio do RMS Titanic é um dos naufrágios mais famosos da história. Em 15 de abril de 1912, durante sua viagem inaugural, o Titanic afundou após colidir com um iceberg, matando 1502 de 2224 passageiros e tripulantes. Essa tragédia chocou a comunidade internacional e levou a melhores regulamentações de segurança para os navios.\n",
    "\n",
    "Uma das razões pelas quais o naufrágio levou a tal perda de vidas foi que não havia botes salva-vidas suficientes para os passageiros e a tripulação. Embora houvesse algum elemento de sorte envolvido na sobrevivência do naufrágio, alguns grupos de pessoas eram mais propensos a sobreviver do que outros, como mulheres, crianças e a classe alta.\n",
    "\n",
    "Nesse desafio, a atividade é que você conclua a análise de que tipo de pessoa provavelmente sobreviverá. Em particular, solicitamos você deve aplicar classificadores de árvores de decisão para esta atividade.\n"
   ]
  },
  {
   "cell_type": "markdown",
   "metadata": {},
   "source": [
    "### Descrição do dataset\n",
    "Os dados foram divididos em dois grupos:\n",
    "\n",
    "conjunto de treinamento (train.csv)\n",
    "conjunto de teste (test.csv)\n",
    "O conjunto de treinamento deve ser usado para criar seus modelos de aprendizado de máquina. Para o conjunto de treinamento, fornecemos o resultado (também conhecido como \"verdade do solo\") para cada passageiro. Seu modelo será baseado em \"atributos\", como sexo e classe dos passageiros. Você também pode usar a engenharia de atributos para criar novos atributos.\n",
    "\n",
    "Parte do conjunto de treino deve ser usado para ver o desempenho do seu modelo em dados não vistos. \n",
    "\n",
    "Para o conjunto de testes, não é fornecido o rótulo de classe para cada passageiro. É seu trabalho prever esses resultados. Para cada passageiro no conjunto de testes, use o modelo que você treinou para prever se eles sobreviveram ou não ao naufrágio do Titanic. O resultado deve ser submetido na plataforma Kaggle (opção **submit predictions**) a fim de calcular a acurácia. \n",
    "\n",
    "Também incluímos gender_submission.csv, um conjunto de previsões que supõem que todas e apenas passageiras sobrevivem, como um exemplo da aparência de um arquivo de envio."
   ]
  },
  {
   "cell_type": "markdown",
   "metadata": {},
   "source": [
    "### Dicionário de Dados\n",
    "\n",
    "**Variable -\tDefinition\t- Key**\n",
    "\n",
    "survival - Survival\t- 0 = No, 1 = Yes\n",
    "\n",
    "pclass -\tTicket class -\t1 = 1st, 2 = 2nd, 3 = 3rd\n",
    "\n",
    "sex -\tSex\t\n",
    "\n",
    "Age\t- Age in years\t\n",
    "\n",
    "sibsp -\t# of siblings / spouses aboard the Titanic\t\n",
    "\n",
    "parch- # of parents / children aboard the Titanic\t\n",
    "\n",
    "ticket - Ticket number\t\n",
    "\n",
    "fare - Passenger fare\t\n",
    "\n",
    "cabin- Cabin number\t\n",
    "\n",
    "embarked- Port of Embarkation\tC = Cherbourg, Q = Queenstown, S = Southampton"
   ]
  },
  {
   "cell_type": "markdown",
   "source": [
    "### Import libraries"
   ],
   "metadata": {
    "collapsed": false
   }
  },
  {
   "cell_type": "code",
   "execution_count": 1,
   "outputs": [],
   "source": [
    "# Import libraries\n",
    "import pandas as pd\n",
    "import numpy as np"
   ],
   "metadata": {
    "collapsed": false
   }
  },
  {
   "cell_type": "markdown",
   "source": [
    "### Load dataset"
   ],
   "metadata": {
    "collapsed": false
   }
  },
  {
   "cell_type": "code",
   "execution_count": 12,
   "outputs": [
    {
     "data": {
      "text/plain": "   PassengerId  Survived  Pclass  \\\n0            1         0       3   \n1            2         1       1   \n2            3         1       3   \n3            4         1       1   \n4            5         0       3   \n\n                                                Name     Sex   Age  SibSp  \\\n0                            Braund, Mr. Owen Harris    male  22.0      1   \n1  Cumings, Mrs. John Bradley (Florence Briggs Th...  female  38.0      1   \n2                             Heikkinen, Miss. Laina  female  26.0      0   \n3       Futrelle, Mrs. Jacques Heath (Lily May Peel)  female  35.0      1   \n4                           Allen, Mr. William Henry    male  35.0      0   \n\n   Parch            Ticket     Fare Cabin Embarked  \n0      0         A/5 21171   7.2500   NaN        S  \n1      0          PC 17599  71.2833   C85        C  \n2      0  STON/O2. 3101282   7.9250   NaN        S  \n3      0            113803  53.1000  C123        S  \n4      0            373450   8.0500   NaN        S  ",
      "text/html": "<div>\n<style scoped>\n    .dataframe tbody tr th:only-of-type {\n        vertical-align: middle;\n    }\n\n    .dataframe tbody tr th {\n        vertical-align: top;\n    }\n\n    .dataframe thead th {\n        text-align: right;\n    }\n</style>\n<table border=\"1\" class=\"dataframe\">\n  <thead>\n    <tr style=\"text-align: right;\">\n      <th></th>\n      <th>PassengerId</th>\n      <th>Survived</th>\n      <th>Pclass</th>\n      <th>Name</th>\n      <th>Sex</th>\n      <th>Age</th>\n      <th>SibSp</th>\n      <th>Parch</th>\n      <th>Ticket</th>\n      <th>Fare</th>\n      <th>Cabin</th>\n      <th>Embarked</th>\n    </tr>\n  </thead>\n  <tbody>\n    <tr>\n      <th>0</th>\n      <td>1</td>\n      <td>0</td>\n      <td>3</td>\n      <td>Braund, Mr. Owen Harris</td>\n      <td>male</td>\n      <td>22.0</td>\n      <td>1</td>\n      <td>0</td>\n      <td>A/5 21171</td>\n      <td>7.2500</td>\n      <td>NaN</td>\n      <td>S</td>\n    </tr>\n    <tr>\n      <th>1</th>\n      <td>2</td>\n      <td>1</td>\n      <td>1</td>\n      <td>Cumings, Mrs. John Bradley (Florence Briggs Th...</td>\n      <td>female</td>\n      <td>38.0</td>\n      <td>1</td>\n      <td>0</td>\n      <td>PC 17599</td>\n      <td>71.2833</td>\n      <td>C85</td>\n      <td>C</td>\n    </tr>\n    <tr>\n      <th>2</th>\n      <td>3</td>\n      <td>1</td>\n      <td>3</td>\n      <td>Heikkinen, Miss. Laina</td>\n      <td>female</td>\n      <td>26.0</td>\n      <td>0</td>\n      <td>0</td>\n      <td>STON/O2. 3101282</td>\n      <td>7.9250</td>\n      <td>NaN</td>\n      <td>S</td>\n    </tr>\n    <tr>\n      <th>3</th>\n      <td>4</td>\n      <td>1</td>\n      <td>1</td>\n      <td>Futrelle, Mrs. Jacques Heath (Lily May Peel)</td>\n      <td>female</td>\n      <td>35.0</td>\n      <td>1</td>\n      <td>0</td>\n      <td>113803</td>\n      <td>53.1000</td>\n      <td>C123</td>\n      <td>S</td>\n    </tr>\n    <tr>\n      <th>4</th>\n      <td>5</td>\n      <td>0</td>\n      <td>3</td>\n      <td>Allen, Mr. William Henry</td>\n      <td>male</td>\n      <td>35.0</td>\n      <td>0</td>\n      <td>0</td>\n      <td>373450</td>\n      <td>8.0500</td>\n      <td>NaN</td>\n      <td>S</td>\n    </tr>\n  </tbody>\n</table>\n</div>"
     },
     "execution_count": 12,
     "metadata": {},
     "output_type": "execute_result"
    }
   ],
   "source": [
    "# Load train dataset\n",
    "x_train_data = pd.read_csv('titanic/train.csv')\n",
    "x_train_data.head()"
   ],
   "metadata": {
    "collapsed": false
   }
  },
  {
   "cell_type": "code",
   "execution_count": 14,
   "outputs": [
    {
     "data": {
      "text/plain": "   PassengerId  Pclass                                          Name     Sex  \\\n0          892       3                              Kelly, Mr. James    male   \n1          893       3              Wilkes, Mrs. James (Ellen Needs)  female   \n2          894       2                     Myles, Mr. Thomas Francis    male   \n3          895       3                              Wirz, Mr. Albert    male   \n4          896       3  Hirvonen, Mrs. Alexander (Helga E Lindqvist)  female   \n\n    Age  SibSp  Parch   Ticket     Fare Cabin Embarked  \n0  34.5      0      0   330911   7.8292   NaN        Q  \n1  47.0      1      0   363272   7.0000   NaN        S  \n2  62.0      0      0   240276   9.6875   NaN        Q  \n3  27.0      0      0   315154   8.6625   NaN        S  \n4  22.0      1      1  3101298  12.2875   NaN        S  ",
      "text/html": "<div>\n<style scoped>\n    .dataframe tbody tr th:only-of-type {\n        vertical-align: middle;\n    }\n\n    .dataframe tbody tr th {\n        vertical-align: top;\n    }\n\n    .dataframe thead th {\n        text-align: right;\n    }\n</style>\n<table border=\"1\" class=\"dataframe\">\n  <thead>\n    <tr style=\"text-align: right;\">\n      <th></th>\n      <th>PassengerId</th>\n      <th>Pclass</th>\n      <th>Name</th>\n      <th>Sex</th>\n      <th>Age</th>\n      <th>SibSp</th>\n      <th>Parch</th>\n      <th>Ticket</th>\n      <th>Fare</th>\n      <th>Cabin</th>\n      <th>Embarked</th>\n    </tr>\n  </thead>\n  <tbody>\n    <tr>\n      <th>0</th>\n      <td>892</td>\n      <td>3</td>\n      <td>Kelly, Mr. James</td>\n      <td>male</td>\n      <td>34.5</td>\n      <td>0</td>\n      <td>0</td>\n      <td>330911</td>\n      <td>7.8292</td>\n      <td>NaN</td>\n      <td>Q</td>\n    </tr>\n    <tr>\n      <th>1</th>\n      <td>893</td>\n      <td>3</td>\n      <td>Wilkes, Mrs. James (Ellen Needs)</td>\n      <td>female</td>\n      <td>47.0</td>\n      <td>1</td>\n      <td>0</td>\n      <td>363272</td>\n      <td>7.0000</td>\n      <td>NaN</td>\n      <td>S</td>\n    </tr>\n    <tr>\n      <th>2</th>\n      <td>894</td>\n      <td>2</td>\n      <td>Myles, Mr. Thomas Francis</td>\n      <td>male</td>\n      <td>62.0</td>\n      <td>0</td>\n      <td>0</td>\n      <td>240276</td>\n      <td>9.6875</td>\n      <td>NaN</td>\n      <td>Q</td>\n    </tr>\n    <tr>\n      <th>3</th>\n      <td>895</td>\n      <td>3</td>\n      <td>Wirz, Mr. Albert</td>\n      <td>male</td>\n      <td>27.0</td>\n      <td>0</td>\n      <td>0</td>\n      <td>315154</td>\n      <td>8.6625</td>\n      <td>NaN</td>\n      <td>S</td>\n    </tr>\n    <tr>\n      <th>4</th>\n      <td>896</td>\n      <td>3</td>\n      <td>Hirvonen, Mrs. Alexander (Helga E Lindqvist)</td>\n      <td>female</td>\n      <td>22.0</td>\n      <td>1</td>\n      <td>1</td>\n      <td>3101298</td>\n      <td>12.2875</td>\n      <td>NaN</td>\n      <td>S</td>\n    </tr>\n  </tbody>\n</table>\n</div>"
     },
     "execution_count": 14,
     "metadata": {},
     "output_type": "execute_result"
    }
   ],
   "source": [
    "# Load test dataset\n",
    "test_data = pd.read_csv('titanic/test.csv')\n",
    "test_data.head()"
   ],
   "metadata": {
    "collapsed": false
   }
  },
  {
   "cell_type": "markdown",
   "source": [
    "### Data Cleaning"
   ],
   "metadata": {
    "collapsed": false
   }
  },
  {
   "cell_type": "code",
   "execution_count": 49,
   "outputs": [],
   "source": [
    "# Remove lines with missing values in the column Embarked\n",
    "x_train_data = x_train_data.dropna(subset=['Embarked'])\n",
    "x_test_data = test_data.dropna(subset=['Embarked'])"
   ],
   "metadata": {
    "collapsed": false
   }
  },
  {
   "cell_type": "markdown",
   "source": [
    "## Extract the target variable"
   ],
   "metadata": {
    "collapsed": false
   }
  },
  {
   "cell_type": "code",
   "execution_count": 50,
   "outputs": [],
   "source": [
    "# Extract the target variable\n",
    "y_train_data = x_train_data.Survived"
   ],
   "metadata": {
    "collapsed": false
   }
  },
  {
   "cell_type": "markdown",
   "source": [
    "## Exploratory Data Analysis - Check the ratio of survived and not survived passengers by sex"
   ],
   "metadata": {
    "collapsed": false
   }
  },
  {
   "cell_type": "code",
   "execution_count": 51,
   "outputs": [
    {
     "name": "stdout",
     "output_type": "stream",
     "text": [
      "% of women how survived: 0.7403846153846154\n"
     ]
    }
   ],
   "source": [
    "# Percentage of women\n",
    "women = x_train_data.loc[x_train_data.Sex == 'female']['Survived']\n",
    "rate_women = sum(women)/len(women)\n",
    "\n",
    "print(\"% of women how survived:\", rate_women)"
   ],
   "metadata": {
    "collapsed": false
   }
  },
  {
   "cell_type": "code",
   "execution_count": 52,
   "outputs": [
    {
     "name": "stdout",
     "output_type": "stream",
     "text": [
      "% of men how survived: 0.18890814558058924\n"
     ]
    }
   ],
   "source": [
    "# Percentage of men\n",
    "men = x_train_data.loc[x_train_data.Sex == 'male']['Survived']\n",
    "rate_men = sum(men)/len(men)\n",
    "\n",
    "print(\"% of men how survived:\", rate_men)"
   ],
   "metadata": {
    "collapsed": false
   }
  },
  {
   "cell_type": "markdown",
   "source": [
    "## Import Decision Tree Classifier"
   ],
   "metadata": {
    "collapsed": false
   }
  },
  {
   "cell_type": "code",
   "execution_count": 53,
   "outputs": [],
   "source": [
    "from sklearn.tree import DecisionTreeClassifier\n",
    "from sklearn import tree\n",
    "from sklearn.metrics import accuracy_score, classification_report, confusion_matrix"
   ],
   "metadata": {
    "collapsed": false
   }
  },
  {
   "cell_type": "markdown",
   "source": [
    "## Preprocessing"
   ],
   "metadata": {
    "collapsed": false
   }
  },
  {
   "cell_type": "code",
   "execution_count": 57,
   "outputs": [
    {
     "data": {
      "text/plain": "   Pclass  SibSp  Parch  Sex_female  Sex_male  Embarked_C  Embarked_Q  \\\n0       3      1      0           0         1           0           0   \n1       1      1      0           1         0           1           0   \n2       3      0      0           1         0           0           0   \n3       1      1      0           1         0           0           0   \n4       3      0      0           0         1           0           0   \n\n   Embarked_S  \n0           1  \n1           0  \n2           1  \n3           1  \n4           1  ",
      "text/html": "<div>\n<style scoped>\n    .dataframe tbody tr th:only-of-type {\n        vertical-align: middle;\n    }\n\n    .dataframe tbody tr th {\n        vertical-align: top;\n    }\n\n    .dataframe thead th {\n        text-align: right;\n    }\n</style>\n<table border=\"1\" class=\"dataframe\">\n  <thead>\n    <tr style=\"text-align: right;\">\n      <th></th>\n      <th>Pclass</th>\n      <th>SibSp</th>\n      <th>Parch</th>\n      <th>Sex_female</th>\n      <th>Sex_male</th>\n      <th>Embarked_C</th>\n      <th>Embarked_Q</th>\n      <th>Embarked_S</th>\n    </tr>\n  </thead>\n  <tbody>\n    <tr>\n      <th>0</th>\n      <td>3</td>\n      <td>1</td>\n      <td>0</td>\n      <td>0</td>\n      <td>1</td>\n      <td>0</td>\n      <td>0</td>\n      <td>1</td>\n    </tr>\n    <tr>\n      <th>1</th>\n      <td>1</td>\n      <td>1</td>\n      <td>0</td>\n      <td>1</td>\n      <td>0</td>\n      <td>1</td>\n      <td>0</td>\n      <td>0</td>\n    </tr>\n    <tr>\n      <th>2</th>\n      <td>3</td>\n      <td>0</td>\n      <td>0</td>\n      <td>1</td>\n      <td>0</td>\n      <td>0</td>\n      <td>0</td>\n      <td>1</td>\n    </tr>\n    <tr>\n      <th>3</th>\n      <td>1</td>\n      <td>1</td>\n      <td>0</td>\n      <td>1</td>\n      <td>0</td>\n      <td>0</td>\n      <td>0</td>\n      <td>1</td>\n    </tr>\n    <tr>\n      <th>4</th>\n      <td>3</td>\n      <td>0</td>\n      <td>0</td>\n      <td>0</td>\n      <td>1</td>\n      <td>0</td>\n      <td>0</td>\n      <td>1</td>\n    </tr>\n  </tbody>\n</table>\n</div>"
     },
     "execution_count": 57,
     "metadata": {},
     "output_type": "execute_result"
    }
   ],
   "source": [
    "features = [\"Pclass\", \"Sex\", \"SibSp\", \"Parch\", \"Embarked\"]\n",
    "X = pd.get_dummies(x_train_data[features])\n",
    "X_test = pd.get_dummies(test_data[features])\n",
    "X.head()"
   ],
   "metadata": {
    "collapsed": false
   }
  },
  {
   "cell_type": "markdown",
   "source": [
    "## Train model"
   ],
   "metadata": {
    "collapsed": false
   }
  },
  {
   "cell_type": "code",
   "execution_count": 58,
   "outputs": [],
   "source": [
    "# Train model\n",
    "model = DecisionTreeClassifier(max_depth=5, random_state=42)\n",
    "model.fit(X, y_train_data)\n",
    "y_pred = model.predict(X_test)"
   ],
   "metadata": {
    "collapsed": false
   }
  },
  {
   "cell_type": "markdown",
   "source": [
    "## Show tree"
   ],
   "metadata": {
    "collapsed": false
   }
  },
  {
   "cell_type": "code",
   "execution_count": 59,
   "outputs": [
    {
     "data": {
      "text/plain": "[Text(0.45982142857142855, 0.9166666666666666, 'x[4] <= 0.5\\ngini = 0.472\\nsamples = 889\\nvalue = [549, 340]'),\n Text(0.20535714285714285, 0.75, 'x[0] <= 2.5\\ngini = 0.384\\nsamples = 312\\nvalue = [81, 231]'),\n Text(0.09821428571428571, 0.5833333333333334, 'x[7] <= 0.5\\ngini = 0.101\\nsamples = 168\\nvalue = [9, 159]'),\n Text(0.05357142857142857, 0.4166666666666667, 'x[1] <= 0.5\\ngini = 0.037\\nsamples = 53\\nvalue = [1, 52]'),\n Text(0.03571428571428571, 0.25, 'x[2] <= 0.5\\ngini = 0.071\\nsamples = 27\\nvalue = [1, 26]'),\n Text(0.017857142857142856, 0.08333333333333333, 'gini = 0.087\\nsamples = 22\\nvalue = [1, 21]'),\n Text(0.05357142857142857, 0.08333333333333333, 'gini = 0.0\\nsamples = 5\\nvalue = [0, 5]'),\n Text(0.07142857142857142, 0.25, 'gini = 0.0\\nsamples = 26\\nvalue = [0, 26]'),\n Text(0.14285714285714285, 0.4166666666666667, 'x[1] <= 0.5\\ngini = 0.129\\nsamples = 115\\nvalue = [8, 107]'),\n Text(0.10714285714285714, 0.25, 'x[0] <= 1.5\\ngini = 0.089\\nsamples = 64\\nvalue = [3, 61]'),\n Text(0.08928571428571429, 0.08333333333333333, 'gini = 0.0\\nsamples = 24\\nvalue = [0, 24]'),\n Text(0.125, 0.08333333333333333, 'gini = 0.139\\nsamples = 40\\nvalue = [3, 37]'),\n Text(0.17857142857142858, 0.25, 'x[1] <= 1.5\\ngini = 0.177\\nsamples = 51\\nvalue = [5, 46]'),\n Text(0.16071428571428573, 0.08333333333333333, 'gini = 0.201\\nsamples = 44\\nvalue = [5, 39]'),\n Text(0.19642857142857142, 0.08333333333333333, 'gini = 0.0\\nsamples = 7\\nvalue = [0, 7]'),\n Text(0.3125, 0.5833333333333334, 'x[7] <= 0.5\\ngini = 0.5\\nsamples = 144\\nvalue = [72, 72]'),\n Text(0.26785714285714285, 0.4166666666666667, 'x[2] <= 4.0\\ngini = 0.423\\nsamples = 56\\nvalue = [17, 39]'),\n Text(0.25, 0.25, 'x[1] <= 1.5\\ngini = 0.413\\nsamples = 55\\nvalue = [16, 39]'),\n Text(0.23214285714285715, 0.08333333333333333, 'gini = 0.431\\nsamples = 51\\nvalue = [16, 35]'),\n Text(0.26785714285714285, 0.08333333333333333, 'gini = 0.0\\nsamples = 4\\nvalue = [0, 4]'),\n Text(0.2857142857142857, 0.25, 'gini = 0.0\\nsamples = 1\\nvalue = [1, 0]'),\n Text(0.35714285714285715, 0.4166666666666667, 'x[1] <= 1.5\\ngini = 0.469\\nsamples = 88\\nvalue = [55, 33]'),\n Text(0.32142857142857145, 0.25, 'x[2] <= 2.5\\ngini = 0.495\\nsamples = 67\\nvalue = [37, 30]'),\n Text(0.30357142857142855, 0.08333333333333333, 'gini = 0.499\\nsamples = 60\\nvalue = [31, 29]'),\n Text(0.3392857142857143, 0.08333333333333333, 'gini = 0.245\\nsamples = 7\\nvalue = [6, 1]'),\n Text(0.39285714285714285, 0.25, 'x[2] <= 0.5\\ngini = 0.245\\nsamples = 21\\nvalue = [18, 3]'),\n Text(0.375, 0.08333333333333333, 'gini = 0.5\\nsamples = 2\\nvalue = [1, 1]'),\n Text(0.4107142857142857, 0.08333333333333333, 'gini = 0.188\\nsamples = 19\\nvalue = [17, 2]'),\n Text(0.7142857142857143, 0.75, 'x[0] <= 1.5\\ngini = 0.306\\nsamples = 577\\nvalue = [468, 109]'),\n Text(0.5714285714285714, 0.5833333333333334, 'x[1] <= 0.5\\ngini = 0.466\\nsamples = 122\\nvalue = [77, 45]'),\n Text(0.5, 0.4166666666666667, 'x[2] <= 1.5\\ngini = 0.442\\nsamples = 88\\nvalue = [59, 29]'),\n Text(0.4642857142857143, 0.25, 'x[2] <= 0.5\\ngini = 0.436\\nsamples = 84\\nvalue = [57, 27]'),\n Text(0.44642857142857145, 0.08333333333333333, 'gini = 0.444\\nsamples = 75\\nvalue = [50, 25]'),\n Text(0.48214285714285715, 0.08333333333333333, 'gini = 0.346\\nsamples = 9\\nvalue = [7, 2]'),\n Text(0.5357142857142857, 0.25, 'x[5] <= 0.5\\ngini = 0.5\\nsamples = 4\\nvalue = [2, 2]'),\n Text(0.5178571428571429, 0.08333333333333333, 'gini = 0.0\\nsamples = 1\\nvalue = [0, 1]'),\n Text(0.5535714285714286, 0.08333333333333333, 'gini = 0.444\\nsamples = 3\\nvalue = [2, 1]'),\n Text(0.6428571428571429, 0.4166666666666667, 'x[5] <= 0.5\\ngini = 0.498\\nsamples = 34\\nvalue = [18, 16]'),\n Text(0.6071428571428571, 0.25, 'x[2] <= 1.5\\ngini = 0.486\\nsamples = 24\\nvalue = [14, 10]'),\n Text(0.5892857142857143, 0.08333333333333333, 'gini = 0.465\\nsamples = 19\\nvalue = [12, 7]'),\n Text(0.625, 0.08333333333333333, 'gini = 0.48\\nsamples = 5\\nvalue = [2, 3]'),\n Text(0.6785714285714286, 0.25, 'x[2] <= 0.5\\ngini = 0.48\\nsamples = 10\\nvalue = [4, 6]'),\n Text(0.6607142857142857, 0.08333333333333333, 'gini = 0.469\\nsamples = 8\\nvalue = [3, 5]'),\n Text(0.6964285714285714, 0.08333333333333333, 'gini = 0.5\\nsamples = 2\\nvalue = [1, 1]'),\n Text(0.8571428571428571, 0.5833333333333334, 'x[2] <= 0.5\\ngini = 0.242\\nsamples = 455\\nvalue = [391, 64]'),\n Text(0.7857142857142857, 0.4166666666666667, 'x[5] <= 0.5\\ngini = 0.202\\nsamples = 385\\nvalue = [341, 44]'),\n Text(0.75, 0.25, 'x[0] <= 2.5\\ngini = 0.193\\nsamples = 341\\nvalue = [304, 37]'),\n Text(0.7321428571428571, 0.08333333333333333, 'gini = 0.156\\nsamples = 82\\nvalue = [75, 7]'),\n Text(0.7678571428571429, 0.08333333333333333, 'gini = 0.205\\nsamples = 259\\nvalue = [229, 30]'),\n Text(0.8214285714285714, 0.25, 'x[1] <= 1.5\\ngini = 0.268\\nsamples = 44\\nvalue = [37, 7]'),\n Text(0.8035714285714286, 0.08333333333333333, 'gini = 0.273\\nsamples = 43\\nvalue = [36, 7]'),\n Text(0.8392857142857143, 0.08333333333333333, 'gini = 0.0\\nsamples = 1\\nvalue = [1, 0]'),\n Text(0.9285714285714286, 0.4166666666666667, 'x[1] <= 2.5\\ngini = 0.408\\nsamples = 70\\nvalue = [50, 20]'),\n Text(0.8928571428571429, 0.25, 'x[2] <= 2.5\\ngini = 0.485\\nsamples = 46\\nvalue = [27, 19]'),\n Text(0.875, 0.08333333333333333, 'gini = 0.493\\nsamples = 43\\nvalue = [24, 19]'),\n Text(0.9107142857142857, 0.08333333333333333, 'gini = 0.0\\nsamples = 3\\nvalue = [3, 0]'),\n Text(0.9642857142857143, 0.25, 'x[2] <= 1.5\\ngini = 0.08\\nsamples = 24\\nvalue = [23, 1]'),\n Text(0.9464285714285714, 0.08333333333333333, 'gini = 0.0\\nsamples = 11\\nvalue = [11, 0]'),\n Text(0.9821428571428571, 0.08333333333333333, 'gini = 0.142\\nsamples = 13\\nvalue = [12, 1]')]"
     },
     "execution_count": 59,
     "metadata": {},
     "output_type": "execute_result"
    },
    {
     "data": {
      "text/plain": "<Figure size 640x480 with 1 Axes>",
      "image/png": "[encoded data removed]"
     },
     "metadata": {},
     "output_type": "display_data"
    }
   ],
   "source": [
    "# Show tree\n",
    "tree.plot_tree(model, filled=True)"
   ],
   "metadata": {
    "collapsed": false
   }
  },
  {
   "cell_type": "markdown",
   "source": [
    "## Show accuracy"
   ],
   "metadata": {
    "collapsed": false
   }
  },
  {
   "cell_type": "code",
   "execution_count": 61,
   "outputs": [
    {
     "name": "stdout",
     "output_type": "stream",
     "text": [
      "Accuracy: 0.8166479190101237\n"
     ]
    }
   ],
   "source": [
    "# Show accuracy\n",
    "print(\"Accuracy:\", accuracy_score(y_train_data, model.predict(X)))"
   ],
   "metadata": {
    "collapsed": false
   }
  },
  {
   "cell_type": "code",
   "execution_count": 62,
   "outputs": [
    {
     "name": "stdout",
     "output_type": "stream",
     "text": [
      "Confusion matrix:\n",
      " [[519  30]\n",
      " [133 207]]\n"
     ]
    }
   ],
   "source": [
    "# Show confusion matrix\n",
    "print(\"Confusion matrix:\\n\", confusion_matrix(y_train_data, model.predict(X)))"
   ],
   "metadata": {
    "collapsed": false
   }
  }
 ],
 "metadata": {
  "kernelspec": {
   "display_name": "Python 3",
   "language": "python",
   "name": "python3"
  },
  "language_info": {
   "codemirror_mode": {
    "name": "ipython",
    "version": 3
   },
   "file_extension": ".py",
   "mimetype": "text/x-python",
   "name": "python",
   "nbconvert_exporter": "python",
   "pygments_lexer": "ipython3",
   "version": "3.8.5"
  }
 },
 "nbformat": 4,
 "nbformat_minor": 2
}
