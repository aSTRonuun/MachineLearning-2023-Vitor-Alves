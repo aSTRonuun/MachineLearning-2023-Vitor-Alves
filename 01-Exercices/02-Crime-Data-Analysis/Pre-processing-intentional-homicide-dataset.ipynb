{
 "cells": [
  {
   "attachments": {},
   "cell_type": "markdown",
   "metadata": {},
   "source": [
    "# Data pre-processing for analysis, interntional homicide dataset"
   ]
  },
  {
   "cell_type": "code",
   "execution_count": 44,
   "metadata": {},
   "outputs": [
    {
     "data": {
      "text/plain": "  DEPARTAMENTO_CIRCUNSCRICAO SECCIONAL_CIRCUNSCRICAO MUNICIPIO_CIRCUNSCRICAO  \\\n0                      DECAP                  1ª SEC               São Paulo   \n1                      DECAP                  1ª SEC               São Paulo   \n2                      DECAP                  2ª SEC               São Paulo   \n3                      DECAP                  2ª SEC               São Paulo   \n4                      DECAP                  3ª SEC               São Paulo   \n\n         DP_CIRCUNSCRICAO    HD  Nº DE VÍT HD  ID_DELEGACIA  MÊS ESTATISTICA  \\\n0      002 DP - Bom Retiro  1.0             1         10102                1   \n1            012 DP - Pari  1.0             1         10108                1   \n2       035 DP - Jabaquara  1.0             1         10216                1   \n3  097 DP - Americanópolis  1.0             1         10226                1   \n4      034 DP - Vila Sonia  1.0             1         10356                1   \n\n   ANO ESTATISTICA DATAHORA_REGISTRO_BO  ... NUMERO_LOGRADOURO   LATITUDE  \\\n0             2017            1/21/2017  ...               1.0 -23.535135   \n1             2017            1/24/2017  ...            1379.0 -23.524742   \n2             2017            1/15/2017  ...             110.0 -23.652974   \n3             2017             1/1/2017  ...               NaN        NaN   \n4             2017             1/1/2017  ...               NaN        NaN   \n\n   LONGITUDE   TIPO_PESSOA SEXO_PESSOA IDADE_PESSOA DATA_NASCIMENTO_PESSOA  \\\n0 -46.633779        Vítima   Masculino          NaN                    NaN   \n1 -46.608382        Vítima   Masculino          NaN                    NaN   \n2 -46.649025        Vítima   Masculino         33.0               9/5/1983   \n3        NaN        Vítima    Feminino         61.0              11/6/1955   \n4        NaN  Autor/Vitima   Masculino         19.0              1/21/1997   \n\n  COR_PELE               PROFISSAO  NATUREZA_APURADA  \n0    Parda                     NaN  HOMICÍDIO DOLOSO  \n1    Preta                     NaN  HOMICÍDIO DOLOSO  \n2    Parda            DESEMPREGADO  HOMICÍDIO DOLOSO  \n3    Parda           APOSENTADO(A)  HOMICÍDIO DOLOSO  \n4    Parda  SEM PROFISSAO DEFINIDA  HOMICÍDIO DOLOSO  \n\n[5 rows x 30 columns]",
      "text/html": "<div>\n<style scoped>\n    .dataframe tbody tr th:only-of-type {\n        vertical-align: middle;\n    }\n\n    .dataframe tbody tr th {\n        vertical-align: top;\n    }\n\n    .dataframe thead th {\n        text-align: right;\n    }\n</style>\n<table border=\"1\" class=\"dataframe\">\n  <thead>\n    <tr style=\"text-align: right;\">\n      <th></th>\n      <th>DEPARTAMENTO_CIRCUNSCRICAO</th>\n      <th>SECCIONAL_CIRCUNSCRICAO</th>\n      <th>MUNICIPIO_CIRCUNSCRICAO</th>\n      <th>DP_CIRCUNSCRICAO</th>\n      <th>HD</th>\n      <th>Nº DE VÍT HD</th>\n      <th>ID_DELEGACIA</th>\n      <th>MÊS ESTATISTICA</th>\n      <th>ANO ESTATISTICA</th>\n      <th>DATAHORA_REGISTRO_BO</th>\n      <th>...</th>\n      <th>NUMERO_LOGRADOURO</th>\n      <th>LATITUDE</th>\n      <th>LONGITUDE</th>\n      <th>TIPO_PESSOA</th>\n      <th>SEXO_PESSOA</th>\n      <th>IDADE_PESSOA</th>\n      <th>DATA_NASCIMENTO_PESSOA</th>\n      <th>COR_PELE</th>\n      <th>PROFISSAO</th>\n      <th>NATUREZA_APURADA</th>\n    </tr>\n  </thead>\n  <tbody>\n    <tr>\n      <th>0</th>\n      <td>DECAP</td>\n      <td>1ª SEC</td>\n      <td>São Paulo</td>\n      <td>002 DP - Bom Retiro</td>\n      <td>1.0</td>\n      <td>1</td>\n      <td>10102</td>\n      <td>1</td>\n      <td>2017</td>\n      <td>1/21/2017</td>\n      <td>...</td>\n      <td>1.0</td>\n      <td>-23.535135</td>\n      <td>-46.633779</td>\n      <td>Vítima</td>\n      <td>Masculino</td>\n      <td>NaN</td>\n      <td>NaN</td>\n      <td>Parda</td>\n      <td>NaN</td>\n      <td>HOMICÍDIO DOLOSO</td>\n    </tr>\n    <tr>\n      <th>1</th>\n      <td>DECAP</td>\n      <td>1ª SEC</td>\n      <td>São Paulo</td>\n      <td>012 DP - Pari</td>\n      <td>1.0</td>\n      <td>1</td>\n      <td>10108</td>\n      <td>1</td>\n      <td>2017</td>\n      <td>1/24/2017</td>\n      <td>...</td>\n      <td>1379.0</td>\n      <td>-23.524742</td>\n      <td>-46.608382</td>\n      <td>Vítima</td>\n      <td>Masculino</td>\n      <td>NaN</td>\n      <td>NaN</td>\n      <td>Preta</td>\n      <td>NaN</td>\n      <td>HOMICÍDIO DOLOSO</td>\n    </tr>\n    <tr>\n      <th>2</th>\n      <td>DECAP</td>\n      <td>2ª SEC</td>\n      <td>São Paulo</td>\n      <td>035 DP - Jabaquara</td>\n      <td>1.0</td>\n      <td>1</td>\n      <td>10216</td>\n      <td>1</td>\n      <td>2017</td>\n      <td>1/15/2017</td>\n      <td>...</td>\n      <td>110.0</td>\n      <td>-23.652974</td>\n      <td>-46.649025</td>\n      <td>Vítima</td>\n      <td>Masculino</td>\n      <td>33.0</td>\n      <td>9/5/1983</td>\n      <td>Parda</td>\n      <td>DESEMPREGADO</td>\n      <td>HOMICÍDIO DOLOSO</td>\n    </tr>\n    <tr>\n      <th>3</th>\n      <td>DECAP</td>\n      <td>2ª SEC</td>\n      <td>São Paulo</td>\n      <td>097 DP - Americanópolis</td>\n      <td>1.0</td>\n      <td>1</td>\n      <td>10226</td>\n      <td>1</td>\n      <td>2017</td>\n      <td>1/1/2017</td>\n      <td>...</td>\n      <td>NaN</td>\n      <td>NaN</td>\n      <td>NaN</td>\n      <td>Vítima</td>\n      <td>Feminino</td>\n      <td>61.0</td>\n      <td>11/6/1955</td>\n      <td>Parda</td>\n      <td>APOSENTADO(A)</td>\n      <td>HOMICÍDIO DOLOSO</td>\n    </tr>\n    <tr>\n      <th>4</th>\n      <td>DECAP</td>\n      <td>3ª SEC</td>\n      <td>São Paulo</td>\n      <td>034 DP - Vila Sonia</td>\n      <td>1.0</td>\n      <td>1</td>\n      <td>10356</td>\n      <td>1</td>\n      <td>2017</td>\n      <td>1/1/2017</td>\n      <td>...</td>\n      <td>NaN</td>\n      <td>NaN</td>\n      <td>NaN</td>\n      <td>Autor/Vitima</td>\n      <td>Masculino</td>\n      <td>19.0</td>\n      <td>1/21/1997</td>\n      <td>Parda</td>\n      <td>SEM PROFISSAO DEFINIDA</td>\n      <td>HOMICÍDIO DOLOSO</td>\n    </tr>\n  </tbody>\n</table>\n<p>5 rows × 30 columns</p>\n</div>"
     },
     "execution_count": 44,
     "metadata": {},
     "output_type": "execute_result"
    }
   ],
   "source": [
    "# import dependencies\n",
    "import pandas as pd\n",
    "\n",
    "# load the dataset\n",
    "df = pd.read_csv('data/Homicidio_2017_2022.csv')\n",
    "df.head()"
   ]
  },
  {
   "cell_type": "markdown",
   "source": [
    "## Filter the main columns"
   ],
   "metadata": {
    "collapsed": false
   }
  },
  {
   "cell_type": "code",
   "execution_count": 45,
   "outputs": [
    {
     "data": {
      "text/plain": "   ANO ESTATISTICA MUNICIPIO_CIRCUNSCRICAO  MÊS ESTATISTICA  Nº DE VÍT HD  \\\n0             2017               São Paulo                1             1   \n1             2017               São Paulo                1             1   \n2             2017               São Paulo                1             1   \n3             2017               São Paulo                1             1   \n4             2017               São Paulo                1             1   \n\n   DATA_FATO    HORA_FATO                                     LOGRADOURO  \\\n0  1/21/2017   5:15:00 PM                                   PRAÇA DA LUZ   \n1  1/24/2017   4:32:00 PM                             RUA JOAQUIM CARLOS   \n2  1/15/2017   1:14:00 AM                               TRAVESSA JUPATIS   \n3   1/1/2017   4:19:00 PM  DA VEDAÇÃO DA DIVULGAÇÃO DOS DADOS RELATIVOS    \n4   1/1/2017  12:37:00 AM  DA VEDAÇÃO DA DIVULGAÇÃO DOS DADOS RELATIVOS    \n\n  SEXO_PESSOA  IDADE_PESSOA COR_PELE               PROFISSAO  \n0   Masculino           NaN    Parda                     NaN  \n1   Masculino           NaN    Preta                     NaN  \n2   Masculino          33.0    Parda            DESEMPREGADO  \n3    Feminino          61.0    Parda           APOSENTADO(A)  \n4   Masculino          19.0    Parda  SEM PROFISSAO DEFINIDA  ",
      "text/html": "<div>\n<style scoped>\n    .dataframe tbody tr th:only-of-type {\n        vertical-align: middle;\n    }\n\n    .dataframe tbody tr th {\n        vertical-align: top;\n    }\n\n    .dataframe thead th {\n        text-align: right;\n    }\n</style>\n<table border=\"1\" class=\"dataframe\">\n  <thead>\n    <tr style=\"text-align: right;\">\n      <th></th>\n      <th>ANO ESTATISTICA</th>\n      <th>MUNICIPIO_CIRCUNSCRICAO</th>\n      <th>MÊS ESTATISTICA</th>\n      <th>Nº DE VÍT HD</th>\n      <th>DATA_FATO</th>\n      <th>HORA_FATO</th>\n      <th>LOGRADOURO</th>\n      <th>SEXO_PESSOA</th>\n      <th>IDADE_PESSOA</th>\n      <th>COR_PELE</th>\n      <th>PROFISSAO</th>\n    </tr>\n  </thead>\n  <tbody>\n    <tr>\n      <th>0</th>\n      <td>2017</td>\n      <td>São Paulo</td>\n      <td>1</td>\n      <td>1</td>\n      <td>1/21/2017</td>\n      <td>5:15:00 PM</td>\n      <td>PRAÇA DA LUZ</td>\n      <td>Masculino</td>\n      <td>NaN</td>\n      <td>Parda</td>\n      <td>NaN</td>\n    </tr>\n    <tr>\n      <th>1</th>\n      <td>2017</td>\n      <td>São Paulo</td>\n      <td>1</td>\n      <td>1</td>\n      <td>1/24/2017</td>\n      <td>4:32:00 PM</td>\n      <td>RUA JOAQUIM CARLOS</td>\n      <td>Masculino</td>\n      <td>NaN</td>\n      <td>Preta</td>\n      <td>NaN</td>\n    </tr>\n    <tr>\n      <th>2</th>\n      <td>2017</td>\n      <td>São Paulo</td>\n      <td>1</td>\n      <td>1</td>\n      <td>1/15/2017</td>\n      <td>1:14:00 AM</td>\n      <td>TRAVESSA JUPATIS</td>\n      <td>Masculino</td>\n      <td>33.0</td>\n      <td>Parda</td>\n      <td>DESEMPREGADO</td>\n    </tr>\n    <tr>\n      <th>3</th>\n      <td>2017</td>\n      <td>São Paulo</td>\n      <td>1</td>\n      <td>1</td>\n      <td>1/1/2017</td>\n      <td>4:19:00 PM</td>\n      <td>DA VEDAÇÃO DA DIVULGAÇÃO DOS DADOS RELATIVOS</td>\n      <td>Feminino</td>\n      <td>61.0</td>\n      <td>Parda</td>\n      <td>APOSENTADO(A)</td>\n    </tr>\n    <tr>\n      <th>4</th>\n      <td>2017</td>\n      <td>São Paulo</td>\n      <td>1</td>\n      <td>1</td>\n      <td>1/1/2017</td>\n      <td>12:37:00 AM</td>\n      <td>DA VEDAÇÃO DA DIVULGAÇÃO DOS DADOS RELATIVOS</td>\n      <td>Masculino</td>\n      <td>19.0</td>\n      <td>Parda</td>\n      <td>SEM PROFISSAO DEFINIDA</td>\n    </tr>\n  </tbody>\n</table>\n</div>"
     },
     "execution_count": 45,
     "metadata": {},
     "output_type": "execute_result"
    }
   ],
   "source": [
    "# filter the dataset to only include the columns we need\n",
    "df = df[['ANO ESTATISTICA', 'MUNICIPIO_CIRCUNSCRICAO', 'MÊS ESTATISTICA', 'Nº DE VÍT HD', 'DATA_FATO', 'HORA_FATO', 'LOGRADOURO', 'SEXO_PESSOA', 'IDADE_PESSOA', 'COR_PELE', 'PROFISSAO']]\n",
    "df.head()"
   ],
   "metadata": {
    "collapsed": false
   }
  },
  {
   "cell_type": "markdown",
   "source": [
    "## Remove duplicates"
   ],
   "metadata": {
    "collapsed": false
   }
  },
  {
   "cell_type": "code",
   "execution_count": 46,
   "outputs": [
    {
     "data": {
      "text/plain": "   ANO ESTATISTICA MUNICIPIO_CIRCUNSCRICAO  MÊS ESTATISTICA  Nº DE VÍT HD  \\\n0             2017               São Paulo                1             1   \n1             2017               São Paulo                1             1   \n2             2017               São Paulo                1             1   \n3             2017               São Paulo                1             1   \n4             2017               São Paulo                1             1   \n\n   DATA_FATO    HORA_FATO                                     LOGRADOURO  \\\n0  1/21/2017   5:15:00 PM                                   PRAÇA DA LUZ   \n1  1/24/2017   4:32:00 PM                             RUA JOAQUIM CARLOS   \n2  1/15/2017   1:14:00 AM                               TRAVESSA JUPATIS   \n3   1/1/2017   4:19:00 PM  DA VEDAÇÃO DA DIVULGAÇÃO DOS DADOS RELATIVOS    \n4   1/1/2017  12:37:00 AM  DA VEDAÇÃO DA DIVULGAÇÃO DOS DADOS RELATIVOS    \n\n  SEXO_PESSOA  IDADE_PESSOA COR_PELE               PROFISSAO  \n0   Masculino           NaN    Parda                     NaN  \n1   Masculino           NaN    Preta                     NaN  \n2   Masculino          33.0    Parda            DESEMPREGADO  \n3    Feminino          61.0    Parda           APOSENTADO(A)  \n4   Masculino          19.0    Parda  SEM PROFISSAO DEFINIDA  ",
      "text/html": "<div>\n<style scoped>\n    .dataframe tbody tr th:only-of-type {\n        vertical-align: middle;\n    }\n\n    .dataframe tbody tr th {\n        vertical-align: top;\n    }\n\n    .dataframe thead th {\n        text-align: right;\n    }\n</style>\n<table border=\"1\" class=\"dataframe\">\n  <thead>\n    <tr style=\"text-align: right;\">\n      <th></th>\n      <th>ANO ESTATISTICA</th>\n      <th>MUNICIPIO_CIRCUNSCRICAO</th>\n      <th>MÊS ESTATISTICA</th>\n      <th>Nº DE VÍT HD</th>\n      <th>DATA_FATO</th>\n      <th>HORA_FATO</th>\n      <th>LOGRADOURO</th>\n      <th>SEXO_PESSOA</th>\n      <th>IDADE_PESSOA</th>\n      <th>COR_PELE</th>\n      <th>PROFISSAO</th>\n    </tr>\n  </thead>\n  <tbody>\n    <tr>\n      <th>0</th>\n      <td>2017</td>\n      <td>São Paulo</td>\n      <td>1</td>\n      <td>1</td>\n      <td>1/21/2017</td>\n      <td>5:15:00 PM</td>\n      <td>PRAÇA DA LUZ</td>\n      <td>Masculino</td>\n      <td>NaN</td>\n      <td>Parda</td>\n      <td>NaN</td>\n    </tr>\n    <tr>\n      <th>1</th>\n      <td>2017</td>\n      <td>São Paulo</td>\n      <td>1</td>\n      <td>1</td>\n      <td>1/24/2017</td>\n      <td>4:32:00 PM</td>\n      <td>RUA JOAQUIM CARLOS</td>\n      <td>Masculino</td>\n      <td>NaN</td>\n      <td>Preta</td>\n      <td>NaN</td>\n    </tr>\n    <tr>\n      <th>2</th>\n      <td>2017</td>\n      <td>São Paulo</td>\n      <td>1</td>\n      <td>1</td>\n      <td>1/15/2017</td>\n      <td>1:14:00 AM</td>\n      <td>TRAVESSA JUPATIS</td>\n      <td>Masculino</td>\n      <td>33.0</td>\n      <td>Parda</td>\n      <td>DESEMPREGADO</td>\n    </tr>\n    <tr>\n      <th>3</th>\n      <td>2017</td>\n      <td>São Paulo</td>\n      <td>1</td>\n      <td>1</td>\n      <td>1/1/2017</td>\n      <td>4:19:00 PM</td>\n      <td>DA VEDAÇÃO DA DIVULGAÇÃO DOS DADOS RELATIVOS</td>\n      <td>Feminino</td>\n      <td>61.0</td>\n      <td>Parda</td>\n      <td>APOSENTADO(A)</td>\n    </tr>\n    <tr>\n      <th>4</th>\n      <td>2017</td>\n      <td>São Paulo</td>\n      <td>1</td>\n      <td>1</td>\n      <td>1/1/2017</td>\n      <td>12:37:00 AM</td>\n      <td>DA VEDAÇÃO DA DIVULGAÇÃO DOS DADOS RELATIVOS</td>\n      <td>Masculino</td>\n      <td>19.0</td>\n      <td>Parda</td>\n      <td>SEM PROFISSAO DEFINIDA</td>\n    </tr>\n  </tbody>\n</table>\n</div>"
     },
     "execution_count": 46,
     "metadata": {},
     "output_type": "execute_result"
    }
   ],
   "source": [
    "## remove duplicates\n",
    "df = df.drop_duplicates()\n",
    "df.head()"
   ],
   "metadata": {
    "collapsed": false
   }
  },
  {
   "cell_type": "markdown",
   "source": [
    "## Remove rows with missing values"
   ],
   "metadata": {
    "collapsed": false
   }
  },
  {
   "cell_type": "code",
   "execution_count": 47,
   "outputs": [
    {
     "data": {
      "text/plain": "   ANO ESTATISTICA MUNICIPIO_CIRCUNSCRICAO  MÊS ESTATISTICA  Nº DE VÍT HD  \\\n2             2017               São Paulo                1             1   \n3             2017               São Paulo                1             1   \n4             2017               São Paulo                1             1   \n5             2017               São Paulo                1             1   \n6             2017               São Paulo                1             1   \n\n   DATA_FATO    HORA_FATO                                     LOGRADOURO  \\\n2  1/15/2017   1:14:00 AM                               TRAVESSA JUPATIS   \n3   1/1/2017   4:19:00 PM  DA VEDAÇÃO DA DIVULGAÇÃO DOS DADOS RELATIVOS    \n4   1/1/2017  12:37:00 AM  DA VEDAÇÃO DA DIVULGAÇÃO DOS DADOS RELATIVOS    \n5   1/1/2017   4:30:00 AM                              RUA JOÃO DE BARRO   \n6   1/5/2017  10:40:00 AM                                 RODOVIA SP 348   \n\n  SEXO_PESSOA  IDADE_PESSOA COR_PELE               PROFISSAO  \n2   Masculino          33.0    Parda            DESEMPREGADO  \n3    Feminino          61.0    Parda           APOSENTADO(A)  \n4   Masculino          19.0    Parda  SEM PROFISSAO DEFINIDA  \n5   Masculino          28.0    Preta              CONFERENTE  \n6   Masculino          20.0    Preta            DESEMPREGADO  ",
      "text/html": "<div>\n<style scoped>\n    .dataframe tbody tr th:only-of-type {\n        vertical-align: middle;\n    }\n\n    .dataframe tbody tr th {\n        vertical-align: top;\n    }\n\n    .dataframe thead th {\n        text-align: right;\n    }\n</style>\n<table border=\"1\" class=\"dataframe\">\n  <thead>\n    <tr style=\"text-align: right;\">\n      <th></th>\n      <th>ANO ESTATISTICA</th>\n      <th>MUNICIPIO_CIRCUNSCRICAO</th>\n      <th>MÊS ESTATISTICA</th>\n      <th>Nº DE VÍT HD</th>\n      <th>DATA_FATO</th>\n      <th>HORA_FATO</th>\n      <th>LOGRADOURO</th>\n      <th>SEXO_PESSOA</th>\n      <th>IDADE_PESSOA</th>\n      <th>COR_PELE</th>\n      <th>PROFISSAO</th>\n    </tr>\n  </thead>\n  <tbody>\n    <tr>\n      <th>2</th>\n      <td>2017</td>\n      <td>São Paulo</td>\n      <td>1</td>\n      <td>1</td>\n      <td>1/15/2017</td>\n      <td>1:14:00 AM</td>\n      <td>TRAVESSA JUPATIS</td>\n      <td>Masculino</td>\n      <td>33.0</td>\n      <td>Parda</td>\n      <td>DESEMPREGADO</td>\n    </tr>\n    <tr>\n      <th>3</th>\n      <td>2017</td>\n      <td>São Paulo</td>\n      <td>1</td>\n      <td>1</td>\n      <td>1/1/2017</td>\n      <td>4:19:00 PM</td>\n      <td>DA VEDAÇÃO DA DIVULGAÇÃO DOS DADOS RELATIVOS</td>\n      <td>Feminino</td>\n      <td>61.0</td>\n      <td>Parda</td>\n      <td>APOSENTADO(A)</td>\n    </tr>\n    <tr>\n      <th>4</th>\n      <td>2017</td>\n      <td>São Paulo</td>\n      <td>1</td>\n      <td>1</td>\n      <td>1/1/2017</td>\n      <td>12:37:00 AM</td>\n      <td>DA VEDAÇÃO DA DIVULGAÇÃO DOS DADOS RELATIVOS</td>\n      <td>Masculino</td>\n      <td>19.0</td>\n      <td>Parda</td>\n      <td>SEM PROFISSAO DEFINIDA</td>\n    </tr>\n    <tr>\n      <th>5</th>\n      <td>2017</td>\n      <td>São Paulo</td>\n      <td>1</td>\n      <td>1</td>\n      <td>1/1/2017</td>\n      <td>4:30:00 AM</td>\n      <td>RUA JOÃO DE BARRO</td>\n      <td>Masculino</td>\n      <td>28.0</td>\n      <td>Preta</td>\n      <td>CONFERENTE</td>\n    </tr>\n    <tr>\n      <th>6</th>\n      <td>2017</td>\n      <td>São Paulo</td>\n      <td>1</td>\n      <td>1</td>\n      <td>1/5/2017</td>\n      <td>10:40:00 AM</td>\n      <td>RODOVIA SP 348</td>\n      <td>Masculino</td>\n      <td>20.0</td>\n      <td>Preta</td>\n      <td>DESEMPREGADO</td>\n    </tr>\n  </tbody>\n</table>\n</div>"
     },
     "execution_count": 47,
     "metadata": {},
     "output_type": "execute_result"
    }
   ],
   "source": [
    "# remove rows with missing values\n",
    "df = df.dropna()\n",
    "df.head()"
   ],
   "metadata": {
    "collapsed": false
   }
  },
  {
   "cell_type": "markdown",
   "source": [
    "## Filter the data to only include the year 2017"
   ],
   "metadata": {
    "collapsed": false
   }
  },
  {
   "cell_type": "code",
   "execution_count": 48,
   "outputs": [
    {
     "data": {
      "text/plain": "   ANO ESTATISTICA MUNICIPIO_CIRCUNSCRICAO  MÊS ESTATISTICA  Nº DE VÍT HD  \\\n2             2017               São Paulo                1             1   \n3             2017               São Paulo                1             1   \n4             2017               São Paulo                1             1   \n5             2017               São Paulo                1             1   \n6             2017               São Paulo                1             1   \n\n   DATA_FATO    HORA_FATO                                     LOGRADOURO  \\\n2  1/15/2017   1:14:00 AM                               TRAVESSA JUPATIS   \n3   1/1/2017   4:19:00 PM  DA VEDAÇÃO DA DIVULGAÇÃO DOS DADOS RELATIVOS    \n4   1/1/2017  12:37:00 AM  DA VEDAÇÃO DA DIVULGAÇÃO DOS DADOS RELATIVOS    \n5   1/1/2017   4:30:00 AM                              RUA JOÃO DE BARRO   \n6   1/5/2017  10:40:00 AM                                 RODOVIA SP 348   \n\n  SEXO_PESSOA  IDADE_PESSOA COR_PELE               PROFISSAO  \n2   Masculino          33.0    Parda            DESEMPREGADO  \n3    Feminino          61.0    Parda           APOSENTADO(A)  \n4   Masculino          19.0    Parda  SEM PROFISSAO DEFINIDA  \n5   Masculino          28.0    Preta              CONFERENTE  \n6   Masculino          20.0    Preta            DESEMPREGADO  ",
      "text/html": "<div>\n<style scoped>\n    .dataframe tbody tr th:only-of-type {\n        vertical-align: middle;\n    }\n\n    .dataframe tbody tr th {\n        vertical-align: top;\n    }\n\n    .dataframe thead th {\n        text-align: right;\n    }\n</style>\n<table border=\"1\" class=\"dataframe\">\n  <thead>\n    <tr style=\"text-align: right;\">\n      <th></th>\n      <th>ANO ESTATISTICA</th>\n      <th>MUNICIPIO_CIRCUNSCRICAO</th>\n      <th>MÊS ESTATISTICA</th>\n      <th>Nº DE VÍT HD</th>\n      <th>DATA_FATO</th>\n      <th>HORA_FATO</th>\n      <th>LOGRADOURO</th>\n      <th>SEXO_PESSOA</th>\n      <th>IDADE_PESSOA</th>\n      <th>COR_PELE</th>\n      <th>PROFISSAO</th>\n    </tr>\n  </thead>\n  <tbody>\n    <tr>\n      <th>2</th>\n      <td>2017</td>\n      <td>São Paulo</td>\n      <td>1</td>\n      <td>1</td>\n      <td>1/15/2017</td>\n      <td>1:14:00 AM</td>\n      <td>TRAVESSA JUPATIS</td>\n      <td>Masculino</td>\n      <td>33.0</td>\n      <td>Parda</td>\n      <td>DESEMPREGADO</td>\n    </tr>\n    <tr>\n      <th>3</th>\n      <td>2017</td>\n      <td>São Paulo</td>\n      <td>1</td>\n      <td>1</td>\n      <td>1/1/2017</td>\n      <td>4:19:00 PM</td>\n      <td>DA VEDAÇÃO DA DIVULGAÇÃO DOS DADOS RELATIVOS</td>\n      <td>Feminino</td>\n      <td>61.0</td>\n      <td>Parda</td>\n      <td>APOSENTADO(A)</td>\n    </tr>\n    <tr>\n      <th>4</th>\n      <td>2017</td>\n      <td>São Paulo</td>\n      <td>1</td>\n      <td>1</td>\n      <td>1/1/2017</td>\n      <td>12:37:00 AM</td>\n      <td>DA VEDAÇÃO DA DIVULGAÇÃO DOS DADOS RELATIVOS</td>\n      <td>Masculino</td>\n      <td>19.0</td>\n      <td>Parda</td>\n      <td>SEM PROFISSAO DEFINIDA</td>\n    </tr>\n    <tr>\n      <th>5</th>\n      <td>2017</td>\n      <td>São Paulo</td>\n      <td>1</td>\n      <td>1</td>\n      <td>1/1/2017</td>\n      <td>4:30:00 AM</td>\n      <td>RUA JOÃO DE BARRO</td>\n      <td>Masculino</td>\n      <td>28.0</td>\n      <td>Preta</td>\n      <td>CONFERENTE</td>\n    </tr>\n    <tr>\n      <th>6</th>\n      <td>2017</td>\n      <td>São Paulo</td>\n      <td>1</td>\n      <td>1</td>\n      <td>1/5/2017</td>\n      <td>10:40:00 AM</td>\n      <td>RODOVIA SP 348</td>\n      <td>Masculino</td>\n      <td>20.0</td>\n      <td>Preta</td>\n      <td>DESEMPREGADO</td>\n    </tr>\n  </tbody>\n</table>\n</div>"
     },
     "execution_count": 48,
     "metadata": {},
     "output_type": "execute_result"
    }
   ],
   "source": [
    "df = df[df['ANO ESTATISTICA'] == 2017]\n",
    "df.head()"
   ],
   "metadata": {
    "collapsed": false
   }
  },
  {
   "cell_type": "markdown",
   "source": [
    "## Data transformation converting the MUNICIPIO_CIRCUNSCRICAO column from object to string"
   ],
   "metadata": {
    "collapsed": false
   }
  },
  {
   "cell_type": "code",
   "execution_count": 49,
   "outputs": [
    {
     "data": {
      "text/plain": "   ANO ESTATISTICA MUNICIPIO_CIRCUNSCRICAO  MÊS ESTATISTICA  Nº DE VÍT HD  \\\n2             2017               São Paulo                1             1   \n3             2017               São Paulo                1             1   \n4             2017               São Paulo                1             1   \n5             2017               São Paulo                1             1   \n6             2017               São Paulo                1             1   \n\n   DATA_FATO    HORA_FATO                                     LOGRADOURO  \\\n2  1/15/2017   1:14:00 AM                               TRAVESSA JUPATIS   \n3   1/1/2017   4:19:00 PM  DA VEDAÇÃO DA DIVULGAÇÃO DOS DADOS RELATIVOS    \n4   1/1/2017  12:37:00 AM  DA VEDAÇÃO DA DIVULGAÇÃO DOS DADOS RELATIVOS    \n5   1/1/2017   4:30:00 AM                              RUA JOÃO DE BARRO   \n6   1/5/2017  10:40:00 AM                                 RODOVIA SP 348   \n\n  SEXO_PESSOA  IDADE_PESSOA COR_PELE               PROFISSAO  \n2   Masculino          33.0    Parda            DESEMPREGADO  \n3    Feminino          61.0    Parda           APOSENTADO(A)  \n4   Masculino          19.0    Parda  SEM PROFISSAO DEFINIDA  \n5   Masculino          28.0    Preta              CONFERENTE  \n6   Masculino          20.0    Preta            DESEMPREGADO  ",
      "text/html": "<div>\n<style scoped>\n    .dataframe tbody tr th:only-of-type {\n        vertical-align: middle;\n    }\n\n    .dataframe tbody tr th {\n        vertical-align: top;\n    }\n\n    .dataframe thead th {\n        text-align: right;\n    }\n</style>\n<table border=\"1\" class=\"dataframe\">\n  <thead>\n    <tr style=\"text-align: right;\">\n      <th></th>\n      <th>ANO ESTATISTICA</th>\n      <th>MUNICIPIO_CIRCUNSCRICAO</th>\n      <th>MÊS ESTATISTICA</th>\n      <th>Nº DE VÍT HD</th>\n      <th>DATA_FATO</th>\n      <th>HORA_FATO</th>\n      <th>LOGRADOURO</th>\n      <th>SEXO_PESSOA</th>\n      <th>IDADE_PESSOA</th>\n      <th>COR_PELE</th>\n      <th>PROFISSAO</th>\n    </tr>\n  </thead>\n  <tbody>\n    <tr>\n      <th>2</th>\n      <td>2017</td>\n      <td>São Paulo</td>\n      <td>1</td>\n      <td>1</td>\n      <td>1/15/2017</td>\n      <td>1:14:00 AM</td>\n      <td>TRAVESSA JUPATIS</td>\n      <td>Masculino</td>\n      <td>33.0</td>\n      <td>Parda</td>\n      <td>DESEMPREGADO</td>\n    </tr>\n    <tr>\n      <th>3</th>\n      <td>2017</td>\n      <td>São Paulo</td>\n      <td>1</td>\n      <td>1</td>\n      <td>1/1/2017</td>\n      <td>4:19:00 PM</td>\n      <td>DA VEDAÇÃO DA DIVULGAÇÃO DOS DADOS RELATIVOS</td>\n      <td>Feminino</td>\n      <td>61.0</td>\n      <td>Parda</td>\n      <td>APOSENTADO(A)</td>\n    </tr>\n    <tr>\n      <th>4</th>\n      <td>2017</td>\n      <td>São Paulo</td>\n      <td>1</td>\n      <td>1</td>\n      <td>1/1/2017</td>\n      <td>12:37:00 AM</td>\n      <td>DA VEDAÇÃO DA DIVULGAÇÃO DOS DADOS RELATIVOS</td>\n      <td>Masculino</td>\n      <td>19.0</td>\n      <td>Parda</td>\n      <td>SEM PROFISSAO DEFINIDA</td>\n    </tr>\n    <tr>\n      <th>5</th>\n      <td>2017</td>\n      <td>São Paulo</td>\n      <td>1</td>\n      <td>1</td>\n      <td>1/1/2017</td>\n      <td>4:30:00 AM</td>\n      <td>RUA JOÃO DE BARRO</td>\n      <td>Masculino</td>\n      <td>28.0</td>\n      <td>Preta</td>\n      <td>CONFERENTE</td>\n    </tr>\n    <tr>\n      <th>6</th>\n      <td>2017</td>\n      <td>São Paulo</td>\n      <td>1</td>\n      <td>1</td>\n      <td>1/5/2017</td>\n      <td>10:40:00 AM</td>\n      <td>RODOVIA SP 348</td>\n      <td>Masculino</td>\n      <td>20.0</td>\n      <td>Preta</td>\n      <td>DESEMPREGADO</td>\n    </tr>\n  </tbody>\n</table>\n</div>"
     },
     "execution_count": 49,
     "metadata": {},
     "output_type": "execute_result"
    }
   ],
   "source": [
    "# convert the MUNICIPIO_CIRCUNSCRICAO column from object to string\n",
    "df['MUNICIPIO_CIRCUNSCRICAO'] = df['MUNICIPIO_CIRCUNSCRICAO'].astype(str)\n",
    "df.head()"
   ],
   "metadata": {
    "collapsed": false
   }
  },
  {
   "cell_type": "markdown",
   "source": [
    "## Filter only the cities of São Paulo"
   ],
   "metadata": {
    "collapsed": false
   }
  },
  {
   "cell_type": "code",
   "execution_count": 50,
   "outputs": [
    {
     "data": {
      "text/plain": "   ANO ESTATISTICA MUNICIPIO_CIRCUNSCRICAO  MÊS ESTATISTICA  Nº DE VÍT HD  \\\n2             2017               São Paulo                1             1   \n3             2017               São Paulo                1             1   \n4             2017               São Paulo                1             1   \n5             2017               São Paulo                1             1   \n6             2017               São Paulo                1             1   \n\n   DATA_FATO    HORA_FATO                                     LOGRADOURO  \\\n2  1/15/2017   1:14:00 AM                               TRAVESSA JUPATIS   \n3   1/1/2017   4:19:00 PM  DA VEDAÇÃO DA DIVULGAÇÃO DOS DADOS RELATIVOS    \n4   1/1/2017  12:37:00 AM  DA VEDAÇÃO DA DIVULGAÇÃO DOS DADOS RELATIVOS    \n5   1/1/2017   4:30:00 AM                              RUA JOÃO DE BARRO   \n6   1/5/2017  10:40:00 AM                                 RODOVIA SP 348   \n\n  SEXO_PESSOA  IDADE_PESSOA COR_PELE               PROFISSAO  \n2   Masculino          33.0    Parda            DESEMPREGADO  \n3    Feminino          61.0    Parda           APOSENTADO(A)  \n4   Masculino          19.0    Parda  SEM PROFISSAO DEFINIDA  \n5   Masculino          28.0    Preta              CONFERENTE  \n6   Masculino          20.0    Preta            DESEMPREGADO  ",
      "text/html": "<div>\n<style scoped>\n    .dataframe tbody tr th:only-of-type {\n        vertical-align: middle;\n    }\n\n    .dataframe tbody tr th {\n        vertical-align: top;\n    }\n\n    .dataframe thead th {\n        text-align: right;\n    }\n</style>\n<table border=\"1\" class=\"dataframe\">\n  <thead>\n    <tr style=\"text-align: right;\">\n      <th></th>\n      <th>ANO ESTATISTICA</th>\n      <th>MUNICIPIO_CIRCUNSCRICAO</th>\n      <th>MÊS ESTATISTICA</th>\n      <th>Nº DE VÍT HD</th>\n      <th>DATA_FATO</th>\n      <th>HORA_FATO</th>\n      <th>LOGRADOURO</th>\n      <th>SEXO_PESSOA</th>\n      <th>IDADE_PESSOA</th>\n      <th>COR_PELE</th>\n      <th>PROFISSAO</th>\n    </tr>\n  </thead>\n  <tbody>\n    <tr>\n      <th>2</th>\n      <td>2017</td>\n      <td>São Paulo</td>\n      <td>1</td>\n      <td>1</td>\n      <td>1/15/2017</td>\n      <td>1:14:00 AM</td>\n      <td>TRAVESSA JUPATIS</td>\n      <td>Masculino</td>\n      <td>33.0</td>\n      <td>Parda</td>\n      <td>DESEMPREGADO</td>\n    </tr>\n    <tr>\n      <th>3</th>\n      <td>2017</td>\n      <td>São Paulo</td>\n      <td>1</td>\n      <td>1</td>\n      <td>1/1/2017</td>\n      <td>4:19:00 PM</td>\n      <td>DA VEDAÇÃO DA DIVULGAÇÃO DOS DADOS RELATIVOS</td>\n      <td>Feminino</td>\n      <td>61.0</td>\n      <td>Parda</td>\n      <td>APOSENTADO(A)</td>\n    </tr>\n    <tr>\n      <th>4</th>\n      <td>2017</td>\n      <td>São Paulo</td>\n      <td>1</td>\n      <td>1</td>\n      <td>1/1/2017</td>\n      <td>12:37:00 AM</td>\n      <td>DA VEDAÇÃO DA DIVULGAÇÃO DOS DADOS RELATIVOS</td>\n      <td>Masculino</td>\n      <td>19.0</td>\n      <td>Parda</td>\n      <td>SEM PROFISSAO DEFINIDA</td>\n    </tr>\n    <tr>\n      <th>5</th>\n      <td>2017</td>\n      <td>São Paulo</td>\n      <td>1</td>\n      <td>1</td>\n      <td>1/1/2017</td>\n      <td>4:30:00 AM</td>\n      <td>RUA JOÃO DE BARRO</td>\n      <td>Masculino</td>\n      <td>28.0</td>\n      <td>Preta</td>\n      <td>CONFERENTE</td>\n    </tr>\n    <tr>\n      <th>6</th>\n      <td>2017</td>\n      <td>São Paulo</td>\n      <td>1</td>\n      <td>1</td>\n      <td>1/5/2017</td>\n      <td>10:40:00 AM</td>\n      <td>RODOVIA SP 348</td>\n      <td>Masculino</td>\n      <td>20.0</td>\n      <td>Preta</td>\n      <td>DESEMPREGADO</td>\n    </tr>\n  </tbody>\n</table>\n</div>"
     },
     "execution_count": 50,
     "metadata": {},
     "output_type": "execute_result"
    }
   ],
   "source": [
    "# filter only the cities of São Paulo\n",
    "df = df[df['MUNICIPIO_CIRCUNSCRICAO'].str.contains('São Paulo')]\n",
    "df.head()"
   ],
   "metadata": {
    "collapsed": false
   }
  },
  {
   "cell_type": "markdown",
   "source": [
    "## Convert the string to lowercase"
   ],
   "metadata": {
    "collapsed": false
   }
  },
  {
   "cell_type": "code",
   "execution_count": 51,
   "outputs": [
    {
     "data": {
      "text/plain": "   ANO ESTATISTICA MUNICIPIO_CIRCUNSCRICAO  MÊS ESTATISTICA  Nº DE VÍT HD  \\\n2             2017               são paulo                1             1   \n3             2017               são paulo                1             1   \n4             2017               são paulo                1             1   \n5             2017               são paulo                1             1   \n6             2017               são paulo                1             1   \n\n   DATA_FATO    HORA_FATO                                     LOGRADOURO  \\\n2  1/15/2017   1:14:00 AM                               travessa jupatis   \n3   1/1/2017   4:19:00 PM  da vedação da divulgação dos dados relativos    \n4   1/1/2017  12:37:00 AM  da vedação da divulgação dos dados relativos    \n5   1/1/2017   4:30:00 AM                              rua joão de barro   \n6   1/5/2017  10:40:00 AM                                 rodovia sp 348   \n\n  SEXO_PESSOA  IDADE_PESSOA COR_PELE               PROFISSAO  \n2   masculino          33.0    parda            desempregado  \n3    feminino          61.0    parda           aposentado(a)  \n4   masculino          19.0    parda  sem profissao definida  \n5   masculino          28.0    preta              conferente  \n6   masculino          20.0    preta            desempregado  ",
      "text/html": "<div>\n<style scoped>\n    .dataframe tbody tr th:only-of-type {\n        vertical-align: middle;\n    }\n\n    .dataframe tbody tr th {\n        vertical-align: top;\n    }\n\n    .dataframe thead th {\n        text-align: right;\n    }\n</style>\n<table border=\"1\" class=\"dataframe\">\n  <thead>\n    <tr style=\"text-align: right;\">\n      <th></th>\n      <th>ANO ESTATISTICA</th>\n      <th>MUNICIPIO_CIRCUNSCRICAO</th>\n      <th>MÊS ESTATISTICA</th>\n      <th>Nº DE VÍT HD</th>\n      <th>DATA_FATO</th>\n      <th>HORA_FATO</th>\n      <th>LOGRADOURO</th>\n      <th>SEXO_PESSOA</th>\n      <th>IDADE_PESSOA</th>\n      <th>COR_PELE</th>\n      <th>PROFISSAO</th>\n    </tr>\n  </thead>\n  <tbody>\n    <tr>\n      <th>2</th>\n      <td>2017</td>\n      <td>são paulo</td>\n      <td>1</td>\n      <td>1</td>\n      <td>1/15/2017</td>\n      <td>1:14:00 AM</td>\n      <td>travessa jupatis</td>\n      <td>masculino</td>\n      <td>33.0</td>\n      <td>parda</td>\n      <td>desempregado</td>\n    </tr>\n    <tr>\n      <th>3</th>\n      <td>2017</td>\n      <td>são paulo</td>\n      <td>1</td>\n      <td>1</td>\n      <td>1/1/2017</td>\n      <td>4:19:00 PM</td>\n      <td>da vedação da divulgação dos dados relativos</td>\n      <td>feminino</td>\n      <td>61.0</td>\n      <td>parda</td>\n      <td>aposentado(a)</td>\n    </tr>\n    <tr>\n      <th>4</th>\n      <td>2017</td>\n      <td>são paulo</td>\n      <td>1</td>\n      <td>1</td>\n      <td>1/1/2017</td>\n      <td>12:37:00 AM</td>\n      <td>da vedação da divulgação dos dados relativos</td>\n      <td>masculino</td>\n      <td>19.0</td>\n      <td>parda</td>\n      <td>sem profissao definida</td>\n    </tr>\n    <tr>\n      <th>5</th>\n      <td>2017</td>\n      <td>são paulo</td>\n      <td>1</td>\n      <td>1</td>\n      <td>1/1/2017</td>\n      <td>4:30:00 AM</td>\n      <td>rua joão de barro</td>\n      <td>masculino</td>\n      <td>28.0</td>\n      <td>preta</td>\n      <td>conferente</td>\n    </tr>\n    <tr>\n      <th>6</th>\n      <td>2017</td>\n      <td>são paulo</td>\n      <td>1</td>\n      <td>1</td>\n      <td>1/5/2017</td>\n      <td>10:40:00 AM</td>\n      <td>rodovia sp 348</td>\n      <td>masculino</td>\n      <td>20.0</td>\n      <td>preta</td>\n      <td>desempregado</td>\n    </tr>\n  </tbody>\n</table>\n</div>"
     },
     "execution_count": 51,
     "metadata": {},
     "output_type": "execute_result"
    }
   ],
   "source": [
    "# convert the string to lowercase and remove the accents\n",
    "df['MUNICIPIO_CIRCUNSCRICAO'] = df['MUNICIPIO_CIRCUNSCRICAO'].str.lower()\n",
    "df['LOGRADOURO'] = df['LOGRADOURO'].str.lower()\n",
    "df['SEXO_PESSOA'] = df['SEXO_PESSOA'].str.lower()\n",
    "df['COR_PELE'] = df['COR_PELE'].str.lower()\n",
    "df['PROFISSAO'] = df['PROFISSAO'].str.lower()\n",
    "df.head()"
   ],
   "metadata": {
    "collapsed": false
   }
  },
  {
   "cell_type": "markdown",
   "source": [
    "## Remove the accents"
   ],
   "metadata": {
    "collapsed": false
   }
  },
  {
   "cell_type": "code",
   "execution_count": 32,
   "outputs": [
    {
     "data": {
      "text/plain": "   ANO ESTATISTICA MUNICIPIO_CIRCUNSCRICAO  MÊS ESTATISTICA  Nº DE VÍT HD  \\\n2             2017               sao paulo                1             1   \n3             2017               sao paulo                1             1   \n4             2017               sao paulo                1             1   \n5             2017               sao paulo                1             1   \n6             2017               sao paulo                1             1   \n\n   DATA_FATO    HORA_FATO                                     LOGRADOURO  \\\n2  1/15/2017   1:14:00 AM                               travessa jupatis   \n3   1/1/2017   4:19:00 PM  da vedacao da divulgacao dos dados relativos    \n4   1/1/2017  12:37:00 AM  da vedacao da divulgacao dos dados relativos    \n5   1/1/2017   4:30:00 AM                              rua joao de barro   \n6   1/5/2017  10:40:00 AM                                 rodovia sp 348   \n\n  SEXO_PESSOA  IDADE_PESSOA COR_PELE               PROFISSAO  \n2   masculino          33.0    parda            desempregado  \n3    feminino          61.0    parda           aposentado(a)  \n4   masculino          19.0    parda  sem profissao definida  \n5   masculino          28.0    preta              conferente  \n6   masculino          20.0    preta            desempregado  ",
      "text/html": "<div>\n<style scoped>\n    .dataframe tbody tr th:only-of-type {\n        vertical-align: middle;\n    }\n\n    .dataframe tbody tr th {\n        vertical-align: top;\n    }\n\n    .dataframe thead th {\n        text-align: right;\n    }\n</style>\n<table border=\"1\" class=\"dataframe\">\n  <thead>\n    <tr style=\"text-align: right;\">\n      <th></th>\n      <th>ANO ESTATISTICA</th>\n      <th>MUNICIPIO_CIRCUNSCRICAO</th>\n      <th>MÊS ESTATISTICA</th>\n      <th>Nº DE VÍT HD</th>\n      <th>DATA_FATO</th>\n      <th>HORA_FATO</th>\n      <th>LOGRADOURO</th>\n      <th>SEXO_PESSOA</th>\n      <th>IDADE_PESSOA</th>\n      <th>COR_PELE</th>\n      <th>PROFISSAO</th>\n    </tr>\n  </thead>\n  <tbody>\n    <tr>\n      <th>2</th>\n      <td>2017</td>\n      <td>sao paulo</td>\n      <td>1</td>\n      <td>1</td>\n      <td>1/15/2017</td>\n      <td>1:14:00 AM</td>\n      <td>travessa jupatis</td>\n      <td>masculino</td>\n      <td>33.0</td>\n      <td>parda</td>\n      <td>desempregado</td>\n    </tr>\n    <tr>\n      <th>3</th>\n      <td>2017</td>\n      <td>sao paulo</td>\n      <td>1</td>\n      <td>1</td>\n      <td>1/1/2017</td>\n      <td>4:19:00 PM</td>\n      <td>da vedacao da divulgacao dos dados relativos</td>\n      <td>feminino</td>\n      <td>61.0</td>\n      <td>parda</td>\n      <td>aposentado(a)</td>\n    </tr>\n    <tr>\n      <th>4</th>\n      <td>2017</td>\n      <td>sao paulo</td>\n      <td>1</td>\n      <td>1</td>\n      <td>1/1/2017</td>\n      <td>12:37:00 AM</td>\n      <td>da vedacao da divulgacao dos dados relativos</td>\n      <td>masculino</td>\n      <td>19.0</td>\n      <td>parda</td>\n      <td>sem profissao definida</td>\n    </tr>\n    <tr>\n      <th>5</th>\n      <td>2017</td>\n      <td>sao paulo</td>\n      <td>1</td>\n      <td>1</td>\n      <td>1/1/2017</td>\n      <td>4:30:00 AM</td>\n      <td>rua joao de barro</td>\n      <td>masculino</td>\n      <td>28.0</td>\n      <td>preta</td>\n      <td>conferente</td>\n    </tr>\n    <tr>\n      <th>6</th>\n      <td>2017</td>\n      <td>sao paulo</td>\n      <td>1</td>\n      <td>1</td>\n      <td>1/5/2017</td>\n      <td>10:40:00 AM</td>\n      <td>rodovia sp 348</td>\n      <td>masculino</td>\n      <td>20.0</td>\n      <td>preta</td>\n      <td>desempregado</td>\n    </tr>\n  </tbody>\n</table>\n</div>"
     },
     "execution_count": 32,
     "metadata": {},
     "output_type": "execute_result"
    }
   ],
   "source": [
    "# remove the accents\n",
    "df['MUNICIPIO_CIRCUNSCRICAO'] = df['MUNICIPIO_CIRCUNSCRICAO'].str.normalize('NFKD').str.encode('ascii', errors='ignore').str.decode('utf-8')\n",
    "df['LOGRADOURO'] = df['LOGRADOURO'].str.normalize('NFKD').str.encode('ascii', errors='ignore').str.decode('utf-8')\n",
    "df['SEXO_PESSOA'] = df['SEXO_PESSOA'].str.normalize('NFKD').str.encode('ascii', errors='ignore').str.decode('utf-8')\n",
    "df['COR_PELE'] = df['COR_PELE'].str.normalize('NFKD').str.encode('ascii', errors='ignore').str.decode('utf-8')\n",
    "df['PROFISSAO'] = df['PROFISSAO'].str.normalize('NFKD').str.encode('ascii', errors='ignore').str.decode('utf-8')\n",
    "df.head()"
   ],
   "metadata": {
    "collapsed": false
   }
  },
  {
   "cell_type": "markdown",
   "source": [
    "## Remove the special characters"
   ],
   "metadata": {
    "collapsed": false
   }
  },
  {
   "cell_type": "code",
   "execution_count": 52,
   "outputs": [
    {
     "data": {
      "text/plain": "   ANO ESTATISTICA MUNICIPIO_CIRCUNSCRICAO  MÊS ESTATISTICA  Nº DE VÍT HD  \\\n2             2017               são paulo                1             1   \n3             2017               são paulo                1             1   \n4             2017               são paulo                1             1   \n5             2017               são paulo                1             1   \n6             2017               são paulo                1             1   \n\n   DATA_FATO    HORA_FATO                                     LOGRADOURO  \\\n2  1/15/2017   1:14:00 AM                               travessa jupatis   \n3   1/1/2017   4:19:00 PM  da vedação da divulgação dos dados relativos    \n4   1/1/2017  12:37:00 AM  da vedação da divulgação dos dados relativos    \n5   1/1/2017   4:30:00 AM                              rua joão de barro   \n6   1/5/2017  10:40:00 AM                                 rodovia sp 348   \n\n  SEXO_PESSOA  IDADE_PESSOA COR_PELE               PROFISSAO  \n2   masculino          33.0    parda            desempregado  \n3    feminino          61.0    parda              aposentado  \n4   masculino          19.0    parda  sem profissao definida  \n5   masculino          28.0    preta              conferente  \n6   masculino          20.0    preta            desempregado  ",
      "text/html": "<div>\n<style scoped>\n    .dataframe tbody tr th:only-of-type {\n        vertical-align: middle;\n    }\n\n    .dataframe tbody tr th {\n        vertical-align: top;\n    }\n\n    .dataframe thead th {\n        text-align: right;\n    }\n</style>\n<table border=\"1\" class=\"dataframe\">\n  <thead>\n    <tr style=\"text-align: right;\">\n      <th></th>\n      <th>ANO ESTATISTICA</th>\n      <th>MUNICIPIO_CIRCUNSCRICAO</th>\n      <th>MÊS ESTATISTICA</th>\n      <th>Nº DE VÍT HD</th>\n      <th>DATA_FATO</th>\n      <th>HORA_FATO</th>\n      <th>LOGRADOURO</th>\n      <th>SEXO_PESSOA</th>\n      <th>IDADE_PESSOA</th>\n      <th>COR_PELE</th>\n      <th>PROFISSAO</th>\n    </tr>\n  </thead>\n  <tbody>\n    <tr>\n      <th>2</th>\n      <td>2017</td>\n      <td>são paulo</td>\n      <td>1</td>\n      <td>1</td>\n      <td>1/15/2017</td>\n      <td>1:14:00 AM</td>\n      <td>travessa jupatis</td>\n      <td>masculino</td>\n      <td>33.0</td>\n      <td>parda</td>\n      <td>desempregado</td>\n    </tr>\n    <tr>\n      <th>3</th>\n      <td>2017</td>\n      <td>são paulo</td>\n      <td>1</td>\n      <td>1</td>\n      <td>1/1/2017</td>\n      <td>4:19:00 PM</td>\n      <td>da vedação da divulgação dos dados relativos</td>\n      <td>feminino</td>\n      <td>61.0</td>\n      <td>parda</td>\n      <td>aposentado</td>\n    </tr>\n    <tr>\n      <th>4</th>\n      <td>2017</td>\n      <td>são paulo</td>\n      <td>1</td>\n      <td>1</td>\n      <td>1/1/2017</td>\n      <td>12:37:00 AM</td>\n      <td>da vedação da divulgação dos dados relativos</td>\n      <td>masculino</td>\n      <td>19.0</td>\n      <td>parda</td>\n      <td>sem profissao definida</td>\n    </tr>\n    <tr>\n      <th>5</th>\n      <td>2017</td>\n      <td>são paulo</td>\n      <td>1</td>\n      <td>1</td>\n      <td>1/1/2017</td>\n      <td>4:30:00 AM</td>\n      <td>rua joão de barro</td>\n      <td>masculino</td>\n      <td>28.0</td>\n      <td>preta</td>\n      <td>conferente</td>\n    </tr>\n    <tr>\n      <th>6</th>\n      <td>2017</td>\n      <td>são paulo</td>\n      <td>1</td>\n      <td>1</td>\n      <td>1/5/2017</td>\n      <td>10:40:00 AM</td>\n      <td>rodovia sp 348</td>\n      <td>masculino</td>\n      <td>20.0</td>\n      <td>preta</td>\n      <td>desempregado</td>\n    </tr>\n  </tbody>\n</table>\n</div>"
     },
     "execution_count": 52,
     "metadata": {},
     "output_type": "execute_result"
    }
   ],
   "source": [
    "# remove the special characters from the string example\n",
    "df['PROFISSAO'] = df['PROFISSAO'].replace('\\(.*\\)', '', regex=True)\n",
    "df.head()"
   ],
   "metadata": {
    "collapsed": false
   }
  },
  {
   "cell_type": "code",
   "execution_count": null,
   "outputs": [],
   "source": [
    "## Remove white spaces from the string for the all columns"
   ],
   "metadata": {
    "collapsed": false
   }
  },
  {
   "cell_type": "code",
   "execution_count": 53,
   "outputs": [
    {
     "data": {
      "text/plain": "   ANO ESTATISTICA MUNICIPIO_CIRCUNSCRICAO  MÊS ESTATISTICA  Nº DE VÍT HD  \\\n2             2017               são paulo                1             1   \n3             2017               são paulo                1             1   \n4             2017               são paulo                1             1   \n5             2017               são paulo                1             1   \n6             2017               são paulo                1             1   \n\n   DATA_FATO    HORA_FATO                                    LOGRADOURO  \\\n2  1/15/2017   1:14:00 AM                              travessa jupatis   \n3   1/1/2017   4:19:00 PM  da vedação da divulgação dos dados relativos   \n4   1/1/2017  12:37:00 AM  da vedação da divulgação dos dados relativos   \n5   1/1/2017   4:30:00 AM                             rua joão de barro   \n6   1/5/2017  10:40:00 AM                                rodovia sp 348   \n\n  SEXO_PESSOA  IDADE_PESSOA COR_PELE               PROFISSAO  \n2   masculino          33.0    parda            desempregado  \n3    feminino          61.0    parda              aposentado  \n4   masculino          19.0    parda  sem profissao definida  \n5   masculino          28.0    preta              conferente  \n6   masculino          20.0    preta            desempregado  ",
      "text/html": "<div>\n<style scoped>\n    .dataframe tbody tr th:only-of-type {\n        vertical-align: middle;\n    }\n\n    .dataframe tbody tr th {\n        vertical-align: top;\n    }\n\n    .dataframe thead th {\n        text-align: right;\n    }\n</style>\n<table border=\"1\" class=\"dataframe\">\n  <thead>\n    <tr style=\"text-align: right;\">\n      <th></th>\n      <th>ANO ESTATISTICA</th>\n      <th>MUNICIPIO_CIRCUNSCRICAO</th>\n      <th>MÊS ESTATISTICA</th>\n      <th>Nº DE VÍT HD</th>\n      <th>DATA_FATO</th>\n      <th>HORA_FATO</th>\n      <th>LOGRADOURO</th>\n      <th>SEXO_PESSOA</th>\n      <th>IDADE_PESSOA</th>\n      <th>COR_PELE</th>\n      <th>PROFISSAO</th>\n    </tr>\n  </thead>\n  <tbody>\n    <tr>\n      <th>2</th>\n      <td>2017</td>\n      <td>são paulo</td>\n      <td>1</td>\n      <td>1</td>\n      <td>1/15/2017</td>\n      <td>1:14:00 AM</td>\n      <td>travessa jupatis</td>\n      <td>masculino</td>\n      <td>33.0</td>\n      <td>parda</td>\n      <td>desempregado</td>\n    </tr>\n    <tr>\n      <th>3</th>\n      <td>2017</td>\n      <td>são paulo</td>\n      <td>1</td>\n      <td>1</td>\n      <td>1/1/2017</td>\n      <td>4:19:00 PM</td>\n      <td>da vedação da divulgação dos dados relativos</td>\n      <td>feminino</td>\n      <td>61.0</td>\n      <td>parda</td>\n      <td>aposentado</td>\n    </tr>\n    <tr>\n      <th>4</th>\n      <td>2017</td>\n      <td>são paulo</td>\n      <td>1</td>\n      <td>1</td>\n      <td>1/1/2017</td>\n      <td>12:37:00 AM</td>\n      <td>da vedação da divulgação dos dados relativos</td>\n      <td>masculino</td>\n      <td>19.0</td>\n      <td>parda</td>\n      <td>sem profissao definida</td>\n    </tr>\n    <tr>\n      <th>5</th>\n      <td>2017</td>\n      <td>são paulo</td>\n      <td>1</td>\n      <td>1</td>\n      <td>1/1/2017</td>\n      <td>4:30:00 AM</td>\n      <td>rua joão de barro</td>\n      <td>masculino</td>\n      <td>28.0</td>\n      <td>preta</td>\n      <td>conferente</td>\n    </tr>\n    <tr>\n      <th>6</th>\n      <td>2017</td>\n      <td>são paulo</td>\n      <td>1</td>\n      <td>1</td>\n      <td>1/5/2017</td>\n      <td>10:40:00 AM</td>\n      <td>rodovia sp 348</td>\n      <td>masculino</td>\n      <td>20.0</td>\n      <td>preta</td>\n      <td>desempregado</td>\n    </tr>\n  </tbody>\n</table>\n</div>"
     },
     "execution_count": 53,
     "metadata": {},
     "output_type": "execute_result"
    }
   ],
   "source": [
    "# remove white spaces from the string for the all columns\n",
    "df = df.apply(lambda x: x.str.strip() if x.dtype == \"object\" else x)\n",
    "df.head()"
   ],
   "metadata": {
    "collapsed": false
   }
  }
 ],
 "metadata": {
  "language_info": {
   "name": "python"
  },
  "orig_nbformat": 4
 },
 "nbformat": 4,
 "nbformat_minor": 2
}
